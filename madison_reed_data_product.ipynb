{
 "cells": [
  {
   "cell_type": "code",
   "execution_count": 3,
   "metadata": {},
   "outputs": [
    {
     "data": {
      "text/html": [
       "<script>\n",
       "code_show=true; \n",
       "function code_toggle() {\n",
       " if (code_show){\n",
       " $('div.input').hide();\n",
       " } else {\n",
       " $('div.input').show();\n",
       " }\n",
       " code_show = !code_show\n",
       "} \n",
       "$( document ).ready(code_toggle);\n",
       "</script>\n",
       "<form action=\"javascript:code_toggle()\"><input type=\"submit\" value=\"Click here to toggle on/off the raw code.\"></form>"
      ],
      "text/plain": [
       "<IPython.core.display.HTML object>"
      ]
     },
     "execution_count": 3,
     "metadata": {},
     "output_type": "execute_result"
    }
   ],
   "source": [
    "from IPython.display import HTML\n",
    "\n",
    "HTML('''<script>\n",
    "code_show=true; \n",
    "function code_toggle() {\n",
    " if (code_show){\n",
    " $('div.input').hide();\n",
    " } else {\n",
    " $('div.input').show();\n",
    " }\n",
    " code_show = !code_show\n",
    "} \n",
    "$( document ).ready(code_toggle);\n",
    "</script>\n",
    "<form action=\"javascript:code_toggle()\"><input type=\"submit\" value=\"Click here to toggle on/off the raw code.\"></form>''')"
   ]
  },
  {
   "cell_type": "code",
   "execution_count": 4,
   "metadata": {
    "collapsed": true
   },
   "outputs": [],
   "source": [
    "import locale\n",
    "import matplotlib.pyplot as plt\n",
    "from ipywidgets import interact\n",
    "from ipywidgets import widgets\n",
    "\n",
    "%matplotlib inline"
   ]
  },
  {
   "cell_type": "code",
   "execution_count": 5,
   "metadata": {
    "collapsed": true
   },
   "outputs": [],
   "source": [
    "def rev_predictor(time_frame, recall, prob_convert, users):\n",
    "    add_rev = 24.54\n",
    "    if time_frame ==90:\n",
    "        mm = 1\n",
    "    elif time_frame == 180:\n",
    "        mm = 2\n",
    "    elif time_frame == 360:\n",
    "        mm = 4\n",
    "    else:\n",
    "        return 'Please input a value of 90, 180, or 360'\n",
    "    amnt_saved = add_rev*recall/ 100.*mm*prob_convert/100.*users\n",
    "    locale.setlocale(locale.LC_ALL, 'en_US')\n",
    "    amnt_saved = \"$\"+ locale.format(\"%d\", amnt_saved, grouping=True)\n",
    "    \n",
    "    fig = plt.figure()\n",
    "\n",
    "    ax = fig.add_subplot(111)\n",
    "    fig.subplots_adjust(top=0.85)\n",
    "\n",
    "    ax.text(2.5, 10, \"Madison Reed Savings\", fontdict={'size': 13, 'color': 'purple', 'fontstyle': 'normal',\n",
    "                                                       'family': 'arial'})\n",
    "\n",
    "    ax.text(2.5, 8, amnt_saved, fontdict={'size': 35, 'color': 'purple', 'family': 'arial'})\n",
    "    ax.axis([0, 10, 0, 10])\n",
    "    ax.set_xticks([])\n",
    "    ax.set_yticks([])\n",
    "    #fig.patch.set_visible(False)\n",
    "    ax.axis('off')\n",
    "    plt.show()\n",
    "    \n"
   ]
  },
  {
   "cell_type": "code",
   "execution_count": 6,
   "metadata": {
    "collapsed": true
   },
   "outputs": [],
   "source": [
    "recall=widgets.IntSlider(min=75,max=95,step=1,value=82, description='Recall')\n",
    "prob_convert=widgets.IntSlider(min=1, max=25, step=2.5, value=5, description='Prob of Conv')\n",
    "time_frame=widgets.Dropdown(options=[90, 180, 360], value=360, description='Time Frame')\n",
    "users=widgets.IntSlider(min=1000, max=25000, step=1000, value=10000, description='Users')\n"
   ]
  },
  {
   "cell_type": "code",
   "execution_count": 7,
   "metadata": {},
   "outputs": [
    {
     "data": {
      "application/vnd.jupyter.widget-view+json": {
       "model_id": "182fb807420140b5b05836e658547b45"
      }
     },
     "metadata": {},
     "output_type": "display_data"
    }
   ],
   "source": [
    "recall=widgets.IntSlider(min=75,max=95,step=1,value=82, description='Recall')\n",
    "prob_convert=widgets.IntSlider(min=1, max=25, step=2.5, value=5, description='Prob of Conv')\n",
    "time_frame=widgets.Dropdown(options=[90, 180, 360], value=360, description='Time Frame')\n",
    "users=widgets.IntSlider(min=1000, max=25000, step=1000, value=10000, description='Users')\n",
    "money_saved = interact(rev_predictor,recall=recall, prob_convert=prob_convert, time_frame=time_frame, users=users)"
   ]
  },
  {
   "cell_type": "code",
   "execution_count": null,
   "metadata": {
    "collapsed": true
   },
   "outputs": [],
   "source": []
  }
 ],
 "metadata": {
  "kernelspec": {
   "display_name": "Python [default]",
   "language": "python",
   "name": "python2"
  },
  "language_info": {
   "codemirror_mode": {
    "name": "ipython",
    "version": 2
   },
   "file_extension": ".py",
   "mimetype": "text/x-python",
   "name": "python",
   "nbconvert_exporter": "python",
   "pygments_lexer": "ipython2",
   "version": "2.7.12"
  },
  "widgets": {
   "state": {
    "00e33675b7c7408d8556d672dd938cc0": {
     "views": [
      {
       "cell_index": 4
      }
     ]
    },
    "020143b8bae44053bb202e7f1683647a": {
     "views": [
      {
       "cell_index": 4
      }
     ]
    },
    "02bf26b0cae146e48a423db4b39d638c": {
     "views": [
      {
       "cell_index": 4
      }
     ]
    },
    "04a81ba313b348f19d3c79936c1aaae9": {
     "views": [
      {
       "cell_index": 4
      }
     ]
    },
    "052f1988c13f468f8678fb7a3d9e0c78": {
     "views": [
      {
       "cell_index": 4
      }
     ]
    },
    "09d71790692641a7a4abc2c2b3be2a12": {
     "views": [
      {
       "cell_index": 4
      }
     ]
    },
    "131be36b4a184408aa11524c7fefcb6a": {
     "views": [
      {
       "cell_index": 4
      }
     ]
    },
    "1366cbf7639b41a88e8c1bfe2ca8cd26": {
     "views": [
      {
       "cell_index": 4
      },
      {
       "cell_index": 4
      }
     ]
    },
    "14001d5db18343379da0f48d2ce28b39": {
     "views": [
      {
       "cell_index": 4
      },
      {
       "cell_index": 4
      }
     ]
    },
    "1673d2b95ba240b2a80ae36141fcebdb": {
     "views": [
      {
       "cell_index": 4
      }
     ]
    },
    "185d4813731b483d9feb451b42911795": {
     "views": [
      {
       "cell_index": 4
      },
      {
       "cell_index": 4
      }
     ]
    },
    "195872e87ec448b4a21c2ab5968efb51": {
     "views": [
      {
       "cell_index": 4
      }
     ]
    },
    "1a2bf4b59a8843e3b16e0bef32447691": {
     "views": [
      {
       "cell_index": 4
      }
     ]
    },
    "1f3c41c368c64a99aff4290dab2b38d4": {
     "views": [
      {
       "cell_index": 4
      }
     ]
    },
    "21b8a5b806a04c1088d115e57c0e6f9f": {
     "views": [
      {
       "cell_index": 4
      }
     ]
    },
    "2236394526fb471aa5d407814d1f1e1d": {
     "views": [
      {
       "cell_index": 3
      }
     ]
    },
    "2382ac97ccc34b819dd9673ff1be5363": {
     "views": [
      {
       "cell_index": 4
      }
     ]
    },
    "23b2e1b5fdbc4e0bb855b99fdf16dc88": {
     "views": [
      {
       "cell_index": 4
      }
     ]
    },
    "250e618c6ef34208a23eb84b1fe6c2be": {
     "views": [
      {
       "cell_index": 4
      },
      {
       "cell_index": 4
      }
     ]
    },
    "25164de15d8e4ed29edd8c1a741a0563": {
     "views": [
      {
       "cell_index": 4
      }
     ]
    },
    "255a1e88cfd0435488ed7cd84ccbd000": {
     "views": [
      {
       "cell_index": 4
      },
      {
       "cell_index": 4
      },
      {
       "cell_index": 4
      }
     ]
    },
    "2a9de16261e14d398513edf73acca1cc": {
     "views": [
      {
       "cell_index": 4
      }
     ]
    },
    "2e9be9a71d864c95b0aa244804db98f3": {
     "views": [
      {
       "cell_index": 2
      }
     ]
    },
    "30e52d2f3dd1456ea7dd582fd14740d8": {
     "views": [
      {
       "cell_index": 4
      }
     ]
    },
    "3191e994ad7349c18ac26c308cfdd47c": {
     "views": [
      {
       "cell_index": 4
      }
     ]
    },
    "32c25c4dc9da4eadad5f16a5ee1c22ba": {
     "views": [
      {
       "cell_index": 3
      }
     ]
    },
    "34f70226de1d4de88ab4d44e01fe9829": {
     "views": [
      {
       "cell_index": 4
      }
     ]
    },
    "35652f9a524f488982ecaaee807f59d5": {
     "views": [
      {
       "cell_index": 4
      }
     ]
    },
    "36382bd9811c4b8b8dc276b0f31c379f": {
     "views": [
      {
       "cell_index": 4
      }
     ]
    },
    "3872f665b39d48be9559bc49075f10f6": {
     "views": [
      {
       "cell_index": 4
      }
     ]
    },
    "38ded1ef54cc47a498b28dca183494b5": {
     "views": [
      {
       "cell_index": 4
      }
     ]
    },
    "39fb5700094341f8b59cfb8fccb81df0": {
     "views": [
      {
       "cell_index": 4
      }
     ]
    },
    "3bf102b843644500af5cf0fa6a59b302": {
     "views": [
      {
       "cell_index": 4
      }
     ]
    },
    "3cc0456589b8459988a777f78c2965c0": {
     "views": [
      {
       "cell_index": 3
      },
      {
       "cell_index": 3
      }
     ]
    },
    "405168e3761b45ccacce75d18de85605": {
     "views": [
      {
       "cell_index": 4
      }
     ]
    },
    "40b7e3c905c64d84a6b3b72b6379c3e2": {
     "views": [
      {
       "cell_index": 4
      }
     ]
    },
    "44831645e3d04b39b7342676a89352e2": {
     "views": [
      {
       "cell_index": 4
      }
     ]
    },
    "448d688e0b224053874f1d1f20e3a139": {
     "views": [
      {
       "cell_index": 4
      }
     ]
    },
    "449a9a6c84e6411ba973c1946b40a96f": {
     "views": [
      {
       "cell_index": 4
      }
     ]
    },
    "46f831f32a414a44883e66fc511f1a59": {
     "views": [
      {
       "cell_index": 4
      },
      {
       "cell_index": 4
      }
     ]
    },
    "4b5169f7e2144aa5823147f733c10e6c": {
     "views": [
      {
       "cell_index": 3
      }
     ]
    },
    "4c7d964fba5143a9a5740e8da4b0f4ea": {
     "views": [
      {
       "cell_index": 4
      }
     ]
    },
    "4e0c7246728644e4a870f589da013640": {
     "views": [
      {
       "cell_index": 4
      }
     ]
    },
    "4e35a85283e04a7a953ea02893bfdc25": {
     "views": [
      {
       "cell_index": 4
      }
     ]
    },
    "4f350ffe2dc74331a2f8897c5ee4696e": {
     "views": [
      {
       "cell_index": 4
      },
      {
       "cell_index": 4
      }
     ]
    },
    "51754bb0c4fb4001af5a180634710596": {
     "views": [
      {
       "cell_index": 4
      }
     ]
    },
    "5228d5462f1f4f0dac4abd018cca1fd2": {
     "views": [
      {
       "cell_index": 4
      }
     ]
    },
    "546521c8cbab4ffe848f8971c344fbc2": {
     "views": [
      {
       "cell_index": 3
      },
      {
       "cell_index": 3
      }
     ]
    },
    "5e04284f241644e0a1269792c2124bfd": {
     "views": [
      {
       "cell_index": 4
      }
     ]
    },
    "61feae6b9fae4fb3ad5930df10a183a6": {
     "views": [
      {
       "cell_index": 4
      }
     ]
    },
    "6205787026fe467fb4149e4ebc51df39": {
     "views": [
      {
       "cell_index": 4
      }
     ]
    },
    "63d7766aa63f429197e9777f167e5eb5": {
     "views": [
      {
       "cell_index": 4
      }
     ]
    },
    "67a4e4e1741846eca23ad45a2bd5ccca": {
     "views": [
      {
       "cell_index": 4
      }
     ]
    },
    "6a7181e2267d4c93a2699821a71df37e": {
     "views": [
      {
       "cell_index": 4
      }
     ]
    },
    "6b83b90ad3514eaca532d59bbcaf1a63": {
     "views": [
      {
       "cell_index": 4
      }
     ]
    },
    "6da5eaa5cf5141af9840e01e947afdb5": {
     "views": [
      {
       "cell_index": 3
      }
     ]
    },
    "6dde0cb13de14495834aea7cc4a36391": {
     "views": [
      {
       "cell_index": 3
      },
      {
       "cell_index": 3
      },
      {
       "cell_index": 3
      }
     ]
    },
    "71e25acd1b704d26b211dc20a78aed29": {
     "views": [
      {
       "cell_index": 4
      }
     ]
    },
    "76bbe7147e70441faba80e557443dde9": {
     "views": [
      {
       "cell_index": 3
      }
     ]
    },
    "792c2284973a4e6f92253fe5d3649634": {
     "views": [
      {
       "cell_index": 3
      },
      {
       "cell_index": 3
      }
     ]
    },
    "79643b8f1a5c4c318dfa73ab29de8055": {
     "views": [
      {
       "cell_index": 4
      }
     ]
    },
    "7a0ec80a92f44da9870927815840377e": {
     "views": [
      {
       "cell_index": 4
      }
     ]
    },
    "7a6d2f1000cd4cd48441f8d5d2d2fc54": {
     "views": [
      {
       "cell_index": 4
      }
     ]
    },
    "7a96b048562546dea1f6a38fe5735643": {
     "views": [
      {
       "cell_index": 4
      }
     ]
    },
    "7ab0c75ebfd1462cbfb327c20ec2b913": {
     "views": [
      {
       "cell_index": 4
      }
     ]
    },
    "7d29527ee8584e6fbf1f60cb42b41860": {
     "views": [
      {
       "cell_index": 2
      }
     ]
    },
    "7e2281f131ec45ae8a10df7f3f581474": {
     "views": [
      {
       "cell_index": 3
      }
     ]
    },
    "7eefe5cb10d346db888f463de7931519": {
     "views": [
      {
       "cell_index": 4
      }
     ]
    },
    "8278c6a19b9143bdabdd6f0ec62d4555": {
     "views": [
      {
       "cell_index": 4
      }
     ]
    },
    "82f59230a0e1424bb012a116f3960d36": {
     "views": [
      {
       "cell_index": 4
      }
     ]
    },
    "84dc85340f534b53be1e8c1f76d37c06": {
     "views": [
      {
       "cell_index": 4
      }
     ]
    },
    "86c8dae967b74970bc54d622b21524ef": {
     "views": [
      {
       "cell_index": 2
      }
     ]
    },
    "890b969f1bb34dcd898368e8ab1f0a12": {
     "views": [
      {
       "cell_index": 4
      }
     ]
    },
    "89760c8fae564011a2edfa33bbee8e38": {
     "views": [
      {
       "cell_index": 4
      }
     ]
    },
    "8d74ed0b3e404b11a37185dfb3910199": {
     "views": [
      {
       "cell_index": 4
      },
      {
       "cell_index": 4
      }
     ]
    },
    "96ae4417aa6e44c7a01212f12a8e1982": {
     "views": [
      {
       "cell_index": 4
      }
     ]
    },
    "9f076edebd79403cbb89863de814251d": {
     "views": [
      {
       "cell_index": 4
      }
     ]
    },
    "9f7da4eea14c4a77bc1529d2215873be": {
     "views": [
      {
       "cell_index": 3
      }
     ]
    },
    "a3d82b23d6ed40018df2d93868c1fa79": {
     "views": [
      {
       "cell_index": 4
      }
     ]
    },
    "a7305d0fabe049b3b9804549836ea031": {
     "views": [
      {
       "cell_index": 4
      }
     ]
    },
    "a8dc187a1b084e18b8c37a774d8dc621": {
     "views": [
      {
       "cell_index": 4
      }
     ]
    },
    "a929d0bc4f364e5e8142e1d3d22e3454": {
     "views": [
      {
       "cell_index": 4
      },
      {
       "cell_index": 4
      }
     ]
    },
    "af4c4cccdccd4052bc7145a32be383d2": {
     "views": [
      {
       "cell_index": 4
      },
      {
       "cell_index": 4
      },
      {
       "cell_index": 4
      }
     ]
    },
    "b0b9967f4fad4a67a12d7c7bb4c9bd9d": {
     "views": [
      {
       "cell_index": 4
      }
     ]
    },
    "b1d25dee16034033b4ff24c99dcf4467": {
     "views": [
      {
       "cell_index": 4
      },
      {
       "cell_index": 4
      }
     ]
    },
    "b23bfa131dd8479eb812e5dc7821b049": {
     "views": [
      {
       "cell_index": 4
      },
      {
       "cell_index": 4
      },
      {
       "cell_index": 4
      }
     ]
    },
    "b33c71d7791f4901926485428a5bab53": {
     "views": [
      {
       "cell_index": 4
      }
     ]
    },
    "b3478e09852d4209b54073ddc66ddce2": {
     "views": [
      {
       "cell_index": 4
      }
     ]
    },
    "b3703ef2f9c647d0bbe051f2ba682ad5": {
     "views": [
      {
       "cell_index": 3
      }
     ]
    },
    "b624b67d93d648d08fd896be91d3aba0": {
     "views": [
      {
       "cell_index": 4
      }
     ]
    },
    "b68e751ba82c4167977a17a873df7f1c": {
     "views": [
      {
       "cell_index": 4
      }
     ]
    },
    "b7929e5ce2df4b5db2c5ee1c6f79e13f": {
     "views": [
      {
       "cell_index": 4
      },
      {
       "cell_index": 4
      },
      {
       "cell_index": 4
      },
      {
       "cell_index": 4
      }
     ]
    },
    "b84b7540f86b448bb21eff31abb7c7c8": {
     "views": [
      {
       "cell_index": 4
      }
     ]
    },
    "b9355455568c4c5dbb5c8e879ce73ae8": {
     "views": [
      {
       "cell_index": 4
      }
     ]
    },
    "bcadec19ea4542369415c3f33183aeaf": {
     "views": [
      {
       "cell_index": 4
      }
     ]
    },
    "bd85bde923a546f9b8f5b9663e35a68e": {
     "views": [
      {
       "cell_index": 4
      }
     ]
    },
    "c11eab697566452c9f5f7315b796cf5f": {
     "views": [
      {
       "cell_index": 4
      }
     ]
    },
    "c57a3ec7c0804aaa9b56d47a6a3832e2": {
     "views": [
      {
       "cell_index": 4
      }
     ]
    },
    "ca1e9aa454d3452cbd02fd35235efb6d": {
     "views": [
      {
       "cell_index": 4
      }
     ]
    },
    "cbc7dafce9a54c5185b70ac8e2e15207": {
     "views": [
      {
       "cell_index": 4
      }
     ]
    },
    "cd25c2a2d4924f878043568fa13eda05": {
     "views": [
      {
       "cell_index": 4
      }
     ]
    },
    "cd4421e0fa4846dc87e79d56e6d71af9": {
     "views": [
      {
       "cell_index": 3
      },
      {
       "cell_index": 3
      },
      {
       "cell_index": 3
      }
     ]
    },
    "cd645d15adec4ca7b2f3b44b048fd2bb": {
     "views": [
      {
       "cell_index": 4
      }
     ]
    },
    "cfe4c365f4eb4076b3ede9547178c400": {
     "views": [
      {
       "cell_index": 4
      }
     ]
    },
    "cffde21ce320424bb0a4b2da678a1f6e": {
     "views": [
      {
       "cell_index": 4
      }
     ]
    },
    "d0627558134d46108fa8edef49d53629": {
     "views": [
      {
       "cell_index": 4
      }
     ]
    },
    "d0b03562527b4751b6db5170010d761a": {
     "views": [
      {
       "cell_index": 4
      }
     ]
    },
    "d1076981974743fa915dbbee6e5ab829": {
     "views": [
      {
       "cell_index": 4
      }
     ]
    },
    "d18ccc4fd7454f679f97fc129c77a289": {
     "views": [
      {
       "cell_index": 4
      },
      {
       "cell_index": 4
      }
     ]
    },
    "d3ce91f404bf4fa895d108aa023f82a9": {
     "views": [
      {
       "cell_index": 4
      }
     ]
    },
    "d6c292fe87af4d689859d02325e0f1a4": {
     "views": [
      {
       "cell_index": 4
      }
     ]
    },
    "d75c921df6f445669d3fb4c7abdd876a": {
     "views": [
      {
       "cell_index": 4
      },
      {
       "cell_index": 4
      }
     ]
    },
    "d7703cb200d6462792a43c4daf78979e": {
     "views": [
      {
       "cell_index": 4
      }
     ]
    },
    "d7734dba4ffd470e9af373eb9a523d8b": {
     "views": [
      {
       "cell_index": 4
      }
     ]
    },
    "d82fe56983d24a598bce38ecf9db7443": {
     "views": [
      {
       "cell_index": 4
      }
     ]
    },
    "d863d11ab61748ba853b7d10f7b8f9c8": {
     "views": [
      {
       "cell_index": 4
      }
     ]
    },
    "d898bd07fb02411cae1930394c62f9ee": {
     "views": [
      {
       "cell_index": 4
      },
      {
       "cell_index": 4
      },
      {
       "cell_index": 4
      }
     ]
    },
    "db8156349019470fa7aeb8a4aeb737a9": {
     "views": [
      {
       "cell_index": 4
      }
     ]
    },
    "dc2749273b2b49ddaac37940354b44b3": {
     "views": [
      {
       "cell_index": 3
      },
      {
       "cell_index": 3
      }
     ]
    },
    "dd75818f64e14f7e8f3c4e52baf89223": {
     "views": [
      {
       "cell_index": 3
      },
      {
       "cell_index": 3
      }
     ]
    },
    "e1c9d0cb28ae4454a7cd6b20f51d5b33": {
     "views": [
      {
       "cell_index": 4
      }
     ]
    },
    "e1d341b99d0649aab14c230c71e20220": {
     "views": [
      {
       "cell_index": 3
      },
      {
       "cell_index": 3
      }
     ]
    },
    "e375f9dc8579411f8479aed8d84b70b5": {
     "views": [
      {
       "cell_index": 4
      },
      {
       "cell_index": 4
      },
      {
       "cell_index": 4
      },
      {
       "cell_index": 4
      }
     ]
    },
    "e3e63be432284c589c83846bda51da81": {
     "views": [
      {
       "cell_index": 4
      }
     ]
    },
    "e50ebf5df37549558e842430236a7168": {
     "views": [
      {
       "cell_index": 4
      },
      {
       "cell_index": 4
      }
     ]
    },
    "e58eb10a40a74e96b564a1a7ec938e10": {
     "views": [
      {
       "cell_index": 4
      }
     ]
    },
    "e5b503634df6485b99208832bd4f4625": {
     "views": [
      {
       "cell_index": 4
      }
     ]
    },
    "e5d68dc5776a4d19a8edc3a572cb26b9": {
     "views": [
      {
       "cell_index": 4
      }
     ]
    },
    "e5feb204a8b84c4f8f130493ac495b39": {
     "views": [
      {
       "cell_index": 4
      }
     ]
    },
    "e91a43504f1a4c72a1e6ea24651db17d": {
     "views": [
      {
       "cell_index": 4
      }
     ]
    },
    "ebf3ebdb02f944f0aece067dfc25d2e1": {
     "views": [
      {
       "cell_index": 4
      }
     ]
    },
    "ed9a70f5384c471eb564224f83909722": {
     "views": [
      {
       "cell_index": 4
      }
     ]
    },
    "f2cc1458e55b412b8e632e62824356be": {
     "views": [
      {
       "cell_index": 4
      }
     ]
    },
    "f2fa595a5b3e442199a2b0dacfee5e1d": {
     "views": [
      {
       "cell_index": 4
      }
     ]
    },
    "f3414b09cb9a4af8a6c933b7f2884231": {
     "views": [
      {
       "cell_index": 2
      }
     ]
    },
    "f3a7c5a2d3034a96b3cf47fcc8edfd4e": {
     "views": [
      {
       "cell_index": 4
      }
     ]
    },
    "f453d0cb9ad94c83bb76cb84735d4f12": {
     "views": [
      {
       "cell_index": 4
      },
      {
       "cell_index": 4
      }
     ]
    },
    "f4de0e8ad19a4962bc0a6e3e84e59412": {
     "views": [
      {
       "cell_index": 4
      }
     ]
    },
    "f63c9541132c415d90983d6aa0de4bb5": {
     "views": [
      {
       "cell_index": 4
      }
     ]
    },
    "f7ed777a1c41405d9397b54f757bdc2e": {
     "views": [
      {
       "cell_index": 4
      }
     ]
    },
    "f81f26213da0468e92363aa1a7267ece": {
     "views": [
      {
       "cell_index": 4
      }
     ]
    },
    "f841a67927be445dba094c102392f88f": {
     "views": [
      {
       "cell_index": 4
      }
     ]
    },
    "fcc22d2cecab4da0afa2fed880c132de": {
     "views": [
      {
       "cell_index": 4
      }
     ]
    },
    "ff757876b18844a59d5b98103d217d2c": {
     "views": [
      {
       "cell_index": 4
      }
     ]
    },
    "ff9b03e25ae74098bba59a9c21234234": {
     "views": [
      {
       "cell_index": 4
      }
     ]
    }
   },
   "version": "1.2.0"
  }
 },
 "nbformat": 4,
 "nbformat_minor": 2
}
