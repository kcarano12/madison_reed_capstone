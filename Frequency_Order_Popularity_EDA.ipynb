{
 "cells": [
  {
   "cell_type": "code",
   "execution_count": 1,
   "metadata": {
    "collapsed": true
   },
   "outputs": [],
   "source": [
    "import pandas as pd\n",
    "import numpy as np\n",
    "from sklearn.model_selection import train_test_split\n",
    "from sklearn.linear_model import LogisticRegression\n",
    "from sklearn.metrics import classification_report\n",
    "from cross_val_tool import cross_validation\n",
    "from time import time\n",
    "import matplotlib.pyplot as plt\n",
    "%matplotlib inline"
   ]
  },
  {
   "cell_type": "code",
   "execution_count": 2,
   "metadata": {
    "collapsed": true
   },
   "outputs": [],
   "source": [
    "order_history = pd.read_csv('/Users/keatoncarano/Desktop/dsi-sf-7-materials-Keaton/Capstone/OrderFrequency.csv')"
   ]
  },
  {
   "cell_type": "code",
   "execution_count": 15,
   "metadata": {},
   "outputs": [
    {
     "data": {
      "text/html": [
       "<div>\n",
       "<table border=\"1\" class=\"dataframe\">\n",
       "  <thead>\n",
       "    <tr style=\"text-align: right;\">\n",
       "      <th></th>\n",
       "      <th>Mr Order Order ID</th>\n",
       "      <th>Mr Order Subscriber Before Order Date (Yes / No)</th>\n",
       "      <th>Mr Order Capture Month</th>\n",
       "      <th>Mr Order Items Subscription Frequency</th>\n",
       "      <th>User Sub Facts Days to First Sub Tiered</th>\n",
       "      <th>User Sub Facts Is Active Sub (Yes / No)</th>\n",
       "      <th>Mr User User ID</th>\n",
       "      <th>User Nps Facts Last Nps Response</th>\n",
       "      <th>User Nps Facts First Nps Response</th>\n",
       "      <th>User Order Facts First Order Month</th>\n",
       "      <th>Mr Order Items Product Code</th>\n",
       "    </tr>\n",
       "  </thead>\n",
       "  <tbody>\n",
       "    <tr>\n",
       "      <th>0</th>\n",
       "      <td>101517387</td>\n",
       "      <td>Yes</td>\n",
       "      <td>2017-06</td>\n",
       "      <td>6.0</td>\n",
       "      <td>(-inf,1.0)</td>\n",
       "      <td>Yes</td>\n",
       "      <td>1065966.0</td>\n",
       "      <td>NaN</td>\n",
       "      <td>NaN</td>\n",
       "      <td>2017-02</td>\n",
       "      <td>7NGV</td>\n",
       "    </tr>\n",
       "    <tr>\n",
       "      <th>1</th>\n",
       "      <td>101565713</td>\n",
       "      <td>Yes</td>\n",
       "      <td>2017-07</td>\n",
       "      <td>0.0</td>\n",
       "      <td>(-inf,1.0)</td>\n",
       "      <td>Yes</td>\n",
       "      <td>822465.0</td>\n",
       "      <td>10.0</td>\n",
       "      <td>10.0</td>\n",
       "      <td>2016-08</td>\n",
       "      <td>41006</td>\n",
       "    </tr>\n",
       "    <tr>\n",
       "      <th>2</th>\n",
       "      <td>101176091</td>\n",
       "      <td>Yes</td>\n",
       "      <td>2016-11</td>\n",
       "      <td>0.0</td>\n",
       "      <td>(-inf,1.0)</td>\n",
       "      <td>No</td>\n",
       "      <td>534863.0</td>\n",
       "      <td>10.0</td>\n",
       "      <td>10.0</td>\n",
       "      <td>2015-08</td>\n",
       "      <td>30030</td>\n",
       "    </tr>\n",
       "    <tr>\n",
       "      <th>3</th>\n",
       "      <td>100939361</td>\n",
       "      <td>Yes</td>\n",
       "      <td>2016-06</td>\n",
       "      <td>0.0</td>\n",
       "      <td>(-inf,1.0)</td>\n",
       "      <td>Yes</td>\n",
       "      <td>658160.0</td>\n",
       "      <td>NaN</td>\n",
       "      <td>NaN</td>\n",
       "      <td>2016-01</td>\n",
       "      <td>6NRR</td>\n",
       "    </tr>\n",
       "    <tr>\n",
       "      <th>4</th>\n",
       "      <td>101004385</td>\n",
       "      <td>Yes</td>\n",
       "      <td>2016-07</td>\n",
       "      <td>0.0</td>\n",
       "      <td>(-inf,1.0)</td>\n",
       "      <td>No</td>\n",
       "      <td>696781.0</td>\n",
       "      <td>5.0</td>\n",
       "      <td>10.0</td>\n",
       "      <td>2016-03</td>\n",
       "      <td>7NGV</td>\n",
       "    </tr>\n",
       "    <tr>\n",
       "      <th>5</th>\n",
       "      <td>101068796</td>\n",
       "      <td>Yes</td>\n",
       "      <td>2016-09</td>\n",
       "      <td>0.0</td>\n",
       "      <td>(-inf,1.0)</td>\n",
       "      <td>Yes</td>\n",
       "      <td>801713.0</td>\n",
       "      <td>10.0</td>\n",
       "      <td>10.0</td>\n",
       "      <td>2016-07</td>\n",
       "      <td>5NGM</td>\n",
       "    </tr>\n",
       "    <tr>\n",
       "      <th>6</th>\n",
       "      <td>101213861</td>\n",
       "      <td>Yes</td>\n",
       "      <td>2016-12</td>\n",
       "      <td>3.0</td>\n",
       "      <td>(-inf,1.0)</td>\n",
       "      <td>No</td>\n",
       "      <td>562299.0</td>\n",
       "      <td>10.0</td>\n",
       "      <td>9.0</td>\n",
       "      <td>2015-09</td>\n",
       "      <td>9NA</td>\n",
       "    </tr>\n",
       "    <tr>\n",
       "      <th>7</th>\n",
       "      <td>100705809</td>\n",
       "      <td>Yes</td>\n",
       "      <td>2015-10</td>\n",
       "      <td>0.0</td>\n",
       "      <td>(-inf,1.0)</td>\n",
       "      <td>Yes</td>\n",
       "      <td>225501.0</td>\n",
       "      <td>10.0</td>\n",
       "      <td>10.0</td>\n",
       "      <td>2014-09</td>\n",
       "      <td>4NGV</td>\n",
       "    </tr>\n",
       "    <tr>\n",
       "      <th>8</th>\n",
       "      <td>100969330</td>\n",
       "      <td>Yes</td>\n",
       "      <td>2016-07</td>\n",
       "      <td>0.0</td>\n",
       "      <td>(-inf,1.0)</td>\n",
       "      <td>No</td>\n",
       "      <td>450859.0</td>\n",
       "      <td>10.0</td>\n",
       "      <td>10.0</td>\n",
       "      <td>2015-06</td>\n",
       "      <td>6NRR</td>\n",
       "    </tr>\n",
       "    <tr>\n",
       "      <th>10</th>\n",
       "      <td>101284937</td>\n",
       "      <td>Yes</td>\n",
       "      <td>2017-02</td>\n",
       "      <td>4.0</td>\n",
       "      <td>(-inf,1.0)</td>\n",
       "      <td>No</td>\n",
       "      <td>931546.0</td>\n",
       "      <td>NaN</td>\n",
       "      <td>NaN</td>\n",
       "      <td>2016-11</td>\n",
       "      <td>8NGV</td>\n",
       "    </tr>\n",
       "  </tbody>\n",
       "</table>\n",
       "</div>"
      ],
      "text/plain": [
       "    Mr Order Order ID Mr Order Subscriber Before Order Date (Yes / No)  \\\n",
       "0           101517387                                              Yes   \n",
       "1           101565713                                              Yes   \n",
       "2           101176091                                              Yes   \n",
       "3           100939361                                              Yes   \n",
       "4           101004385                                              Yes   \n",
       "5           101068796                                              Yes   \n",
       "6           101213861                                              Yes   \n",
       "7           100705809                                              Yes   \n",
       "8           100969330                                              Yes   \n",
       "10          101284937                                              Yes   \n",
       "\n",
       "   Mr Order Capture Month  Mr Order Items Subscription Frequency  \\\n",
       "0                 2017-06                                    6.0   \n",
       "1                 2017-07                                    0.0   \n",
       "2                 2016-11                                    0.0   \n",
       "3                 2016-06                                    0.0   \n",
       "4                 2016-07                                    0.0   \n",
       "5                 2016-09                                    0.0   \n",
       "6                 2016-12                                    3.0   \n",
       "7                 2015-10                                    0.0   \n",
       "8                 2016-07                                    0.0   \n",
       "10                2017-02                                    4.0   \n",
       "\n",
       "   User Sub Facts Days to First Sub Tiered  \\\n",
       "0                               (-inf,1.0)   \n",
       "1                               (-inf,1.0)   \n",
       "2                               (-inf,1.0)   \n",
       "3                               (-inf,1.0)   \n",
       "4                               (-inf,1.0)   \n",
       "5                               (-inf,1.0)   \n",
       "6                               (-inf,1.0)   \n",
       "7                               (-inf,1.0)   \n",
       "8                               (-inf,1.0)   \n",
       "10                              (-inf,1.0)   \n",
       "\n",
       "   User Sub Facts Is Active Sub (Yes / No)  Mr User User ID  \\\n",
       "0                                      Yes        1065966.0   \n",
       "1                                      Yes         822465.0   \n",
       "2                                       No         534863.0   \n",
       "3                                      Yes         658160.0   \n",
       "4                                       No         696781.0   \n",
       "5                                      Yes         801713.0   \n",
       "6                                       No         562299.0   \n",
       "7                                      Yes         225501.0   \n",
       "8                                       No         450859.0   \n",
       "10                                      No         931546.0   \n",
       "\n",
       "    User Nps Facts Last Nps Response  User Nps Facts First Nps Response  \\\n",
       "0                                NaN                                NaN   \n",
       "1                               10.0                               10.0   \n",
       "2                               10.0                               10.0   \n",
       "3                                NaN                                NaN   \n",
       "4                                5.0                               10.0   \n",
       "5                               10.0                               10.0   \n",
       "6                               10.0                                9.0   \n",
       "7                               10.0                               10.0   \n",
       "8                               10.0                               10.0   \n",
       "10                               NaN                                NaN   \n",
       "\n",
       "   User Order Facts First Order Month Mr Order Items Product Code  \n",
       "0                             2017-02                        7NGV  \n",
       "1                             2016-08                       41006  \n",
       "2                             2015-08                       30030  \n",
       "3                             2016-01                        6NRR  \n",
       "4                             2016-03                        7NGV  \n",
       "5                             2016-07                        5NGM  \n",
       "6                             2015-09                         9NA  \n",
       "7                             2014-09                        4NGV  \n",
       "8                             2015-06                        6NRR  \n",
       "10                            2016-11                        8NGV  "
      ]
     },
     "execution_count": 15,
     "metadata": {},
     "output_type": "execute_result"
    }
   ],
   "source": [
    "order_history.head(10)"
   ]
  },
  {
   "cell_type": "code",
   "execution_count": 8,
   "metadata": {},
   "outputs": [],
   "source": [
    "order_history[['Mr Order Items Product Code']] = order_history[['Mr Order Items Product Code']].replace('[\\$,]','',regex=True)\n",
    "exclude_purchased_rows = order_history['Mr Order Items Product Code'].str.contains('^cc')\n",
    "order_history = order_history[~exclude_purchased_rows]\n",
    "order_history = order_history[order_history['Mr User User ID'].notnull()]\n",
    "order_history.drop(['User Visit Facts User ID'], axis=1, inplace=True)"
   ]
  },
  {
   "cell_type": "code",
   "execution_count": 64,
   "metadata": {},
   "outputs": [
    {
     "data": {
      "text/plain": [
       "Yes    635764\n",
       "No     430069\n",
       "Name: Mr Order Subscriber Before Order Date (Yes / No), dtype: int64"
      ]
     },
     "execution_count": 64,
     "metadata": {},
     "output_type": "execute_result"
    }
   ],
   "source": [
    "order_history['Mr Order Subscriber Before Order Date (Yes / No)'].value_counts()"
   ]
  },
  {
   "cell_type": "code",
   "execution_count": 65,
   "metadata": {},
   "outputs": [
    {
     "data": {
      "text/plain": [
       "No     572058\n",
       "Yes    493775\n",
       "Name: User Sub Facts Is Active Sub (Yes / No), dtype: int64"
      ]
     },
     "execution_count": 65,
     "metadata": {},
     "output_type": "execute_result"
    }
   ],
   "source": [
    "order_history['User Sub Facts Is Active Sub (Yes / No)'].value_counts()"
   ]
  },
  {
   "cell_type": "code",
   "execution_count": 38,
   "metadata": {},
   "outputs": [
    {
     "data": {
      "text/plain": [
       "4.607353901086313"
      ]
     },
     "execution_count": 38,
     "metadata": {},
     "output_type": "execute_result"
    }
   ],
   "source": [
    "orders_subs_by_user = order_history[['Mr User User ID','Mr Order Items Product Code','Mr Order Order ID']].groupby(by=['Mr User User ID']).count()\n",
    "orders_subs_by_user['Mr Order Order ID'].mean()"
   ]
  },
  {
   "cell_type": "code",
   "execution_count": 41,
   "metadata": {},
   "outputs": [
    {
     "data": {
      "image/png": "[encoded data removed]",
      "text/plain": [
       "<matplotlib.figure.Figure at 0x132ddaa10>"
      ]
     },
     "metadata": {},
     "output_type": "display_data"
    }
   ],
   "source": [
    "plt.hist(orders_subs_by_user['Mr Order Order ID'], bins = 50)\n",
    "plt.show()"
   ]
  },
  {
   "cell_type": "code",
   "execution_count": 63,
   "metadata": {},
   "outputs": [
    {
     "name": "stderr",
     "output_type": "stream",
     "text": [
      "/Users/keatoncarano/anaconda/envs/dsi/lib/python2.7/site-packages/ipykernel/__main__.py:1: FutureWarning: \n",
      "The default value for 'return_type' will change to 'axes' in a future release.\n",
      " To use the future behavior now, set return_type='axes'.\n",
      " To keep the previous behavior and silence this warning, set return_type='dict'.\n",
      "  if __name__ == '__main__':\n"
     ]
    },
    {
     "data": {
      "text/plain": [
       "{'boxes': [<matplotlib.lines.Line2D at 0x131674bd0>],\n",
       " 'caps': [<matplotlib.lines.Line2D at 0x13167e910>,\n",
       "  <matplotlib.lines.Line2D at 0x13167ef50>],\n",
       " 'fliers': [<matplotlib.lines.Line2D at 0x132ddac10>],\n",
       " 'means': [],\n",
       " 'medians': [<matplotlib.lines.Line2D at 0x132dda5d0>],\n",
       " 'whiskers': [<matplotlib.lines.Line2D at 0x1139224d0>,\n",
       "  <matplotlib.lines.Line2D at 0x13167e410>]}"
      ]
     },
     "execution_count": 63,
     "metadata": {},
     "output_type": "execute_result"
    },
    {
     "data": {
      "image/png": "[encoded data removed]",
      "text/plain": [
       "<matplotlib.figure.Figure at 0x132dbfcd0>"
      ]
     },
     "metadata": {},
     "output_type": "display_data"
    }
   ],
   "source": [
    "orders_subs_by_user.boxplot(column=['Mr Order Order ID'])"
   ]
  },
  {
   "cell_type": "code",
   "execution_count": 34,
   "metadata": {},
   "outputs": [],
   "source": [
    "order_date_by_user = pd.Series(order_history['Mr Order Capture Month'].values,index=order_history['Mr User User ID']).to_dict()"
   ]
  },
  {
   "cell_type": "code",
   "execution_count": 43,
   "metadata": {},
   "outputs": [],
   "source": [
    "sub_history = pd.read_csv('/Users/keatoncarano/Desktop/dsi-sf-7-materials-Keaton/Capstone/Sub_id_lifetime_order.csv')"
   ]
  },
  {
   "cell_type": "code",
   "execution_count": 44,
   "metadata": {},
   "outputs": [
    {
     "data": {
      "text/html": [
       "<div>\n",
       "<table border=\"1\" class=\"dataframe\">\n",
       "  <thead>\n",
       "    <tr style=\"text-align: right;\">\n",
       "      <th></th>\n",
       "      <th>Mr Subscription Subscription ID</th>\n",
       "      <th>Mr User User ID</th>\n",
       "      <th>User Order Facts Lifetime Number of Orders Tier</th>\n",
       "      <th>User Order Facts Lifetime Orders</th>\n",
       "      <th>User Order Facts Lifetime Revenue</th>\n",
       "      <th>User Order Facts Months As Customer</th>\n",
       "      <th>User Order Facts Repeat Customer (Yes / No)</th>\n",
       "      <th>User Order Facts First Order Type</th>\n",
       "    </tr>\n",
       "  </thead>\n",
       "  <tbody>\n",
       "    <tr>\n",
       "      <th>0</th>\n",
       "      <td>129456</td>\n",
       "      <td>1159377</td>\n",
       "      <td>Below 2</td>\n",
       "      <td>1</td>\n",
       "      <td>19.95</td>\n",
       "      <td>0.0</td>\n",
       "      <td>No</td>\n",
       "      <td>subscription</td>\n",
       "    </tr>\n",
       "    <tr>\n",
       "      <th>1</th>\n",
       "      <td>130079</td>\n",
       "      <td>1162150</td>\n",
       "      <td>Below 2</td>\n",
       "      <td>1</td>\n",
       "      <td>24.95</td>\n",
       "      <td>0.0</td>\n",
       "      <td>No</td>\n",
       "      <td>subscription</td>\n",
       "    </tr>\n",
       "    <tr>\n",
       "      <th>2</th>\n",
       "      <td>130059</td>\n",
       "      <td>1162030</td>\n",
       "      <td>Below 2</td>\n",
       "      <td>1</td>\n",
       "      <td>84.80</td>\n",
       "      <td>0.0</td>\n",
       "      <td>No</td>\n",
       "      <td>subscription</td>\n",
       "    </tr>\n",
       "    <tr>\n",
       "      <th>3</th>\n",
       "      <td>122025</td>\n",
       "      <td>1059649</td>\n",
       "      <td>Below 2</td>\n",
       "      <td>1</td>\n",
       "      <td>19.95</td>\n",
       "      <td>0.0</td>\n",
       "      <td>No</td>\n",
       "      <td>subscription</td>\n",
       "    </tr>\n",
       "    <tr>\n",
       "      <th>4</th>\n",
       "      <td>146021</td>\n",
       "      <td>1229140</td>\n",
       "      <td>Below 2</td>\n",
       "      <td>1</td>\n",
       "      <td>52.85</td>\n",
       "      <td>0.0</td>\n",
       "      <td>No</td>\n",
       "      <td>subscription</td>\n",
       "    </tr>\n",
       "  </tbody>\n",
       "</table>\n",
       "</div>"
      ],
      "text/plain": [
       "   Mr Subscription Subscription ID  Mr User User ID  \\\n",
       "0                           129456          1159377   \n",
       "1                           130079          1162150   \n",
       "2                           130059          1162030   \n",
       "3                           122025          1059649   \n",
       "4                           146021          1229140   \n",
       "\n",
       "  User Order Facts Lifetime Number of Orders Tier  \\\n",
       "0                                         Below 2   \n",
       "1                                         Below 2   \n",
       "2                                         Below 2   \n",
       "3                                         Below 2   \n",
       "4                                         Below 2   \n",
       "\n",
       "   User Order Facts Lifetime Orders  User Order Facts Lifetime Revenue  \\\n",
       "0                                 1                              19.95   \n",
       "1                                 1                              24.95   \n",
       "2                                 1                              84.80   \n",
       "3                                 1                              19.95   \n",
       "4                                 1                              52.85   \n",
       "\n",
       "   User Order Facts Months As Customer  \\\n",
       "0                                  0.0   \n",
       "1                                  0.0   \n",
       "2                                  0.0   \n",
       "3                                  0.0   \n",
       "4                                  0.0   \n",
       "\n",
       "  User Order Facts Repeat Customer (Yes / No)  \\\n",
       "0                                          No   \n",
       "1                                          No   \n",
       "2                                          No   \n",
       "3                                          No   \n",
       "4                                          No   \n",
       "\n",
       "  User Order Facts First Order Type  \n",
       "0                      subscription  \n",
       "1                      subscription  \n",
       "2                      subscription  \n",
       "3                      subscription  \n",
       "4                      subscription  "
      ]
     },
     "execution_count": 44,
     "metadata": {},
     "output_type": "execute_result"
    }
   ],
   "source": [
    "sub_history.head()"
   ]
  },
  {
   "cell_type": "code",
   "execution_count": 45,
   "metadata": {},
   "outputs": [
    {
     "data": {
      "text/plain": [
       "Yes    129121\n",
       "No      21169\n",
       "Name: User Order Facts Repeat Customer (Yes / No), dtype: int64"
      ]
     },
     "execution_count": 45,
     "metadata": {},
     "output_type": "execute_result"
    }
   ],
   "source": [
    "sub_history['User Order Facts Repeat Customer (Yes / No)'].value_counts()"
   ]
  },
  {
   "cell_type": "code",
   "execution_count": 72,
   "metadata": {},
   "outputs": [],
   "source": [
    "#plt.hist(sub_history['User Order Facts Months As Customer'])"
   ]
  },
  {
   "cell_type": "code",
   "execution_count": 77,
   "metadata": {},
   "outputs": [
    {
     "data": {
      "text/plain": [
       "<Container object of 71 artists>"
      ]
     },
     "execution_count": 77,
     "metadata": {},
     "output_type": "execute_result"
    },
    {
     "data": {
      "image/png": "[encoded data removed]",
      "text/plain": [
       "<matplotlib.figure.Figure at 0x11e82b790>"
      ]
     },
     "metadata": {},
     "output_type": "display_data"
    }
   ],
   "source": [
    "order_count_subs = sub_history['User Order Facts Lifetime Orders'].value_counts().to_dict()\n",
    "order_count_subs\n",
    "plt.figure(figsize=(20,10))\n",
    "plt.bar(order_count_subs.keys(), order_count_subs.values(), color='g')\n"
   ]
  },
  {
   "cell_type": "code",
   "execution_count": 55,
   "metadata": {},
   "outputs": [],
   "source": [
    "user_rev_per_order = sub_history[['Mr User User ID','User Order Facts Lifetime Orders','User Order Facts Lifetime Revenue']]"
   ]
  },
  {
   "cell_type": "code",
   "execution_count": 58,
   "metadata": {},
   "outputs": [
    {
     "name": "stderr",
     "output_type": "stream",
     "text": [
      "/Users/keatoncarano/anaconda/envs/dsi/lib/python2.7/site-packages/ipykernel/__main__.py:3: SettingWithCopyWarning: \n",
      "A value is trying to be set on a copy of a slice from a DataFrame.\n",
      "Try using .loc[row_indexer,col_indexer] = value instead\n",
      "\n",
      "See the caveats in the documentation: http://pandas.pydata.org/pandas-docs/stable/indexing.html#indexing-view-versus-copy\n",
      "  app.launch_new_instance()\n"
     ]
    },
    {
     "data": {
      "text/plain": [
       "0         19.950000\n",
       "1         24.950000\n",
       "2         84.800000\n",
       "3         19.950000\n",
       "4         52.850000\n",
       "5         19.950000\n",
       "6         19.950000\n",
       "7         32.900000\n",
       "8         19.950000\n",
       "9         24.950000\n",
       "10        19.950000\n",
       "11        34.950000\n",
       "12        30.370000\n",
       "13        19.950000\n",
       "14        19.950000\n",
       "15        29.950000\n",
       "16        17.950000\n",
       "17        17.950000\n",
       "18        34.950000\n",
       "19         4.950000\n",
       "20        27.900000\n",
       "21        19.950000\n",
       "22        84.800000\n",
       "23        56.900000\n",
       "24        29.950000\n",
       "25        19.950000\n",
       "26        47.850000\n",
       "27        24.950000\n",
       "28        29.950000\n",
       "29        19.950000\n",
       "            ...    \n",
       "150260    17.262000\n",
       "150261    25.783333\n",
       "150262    45.286154\n",
       "150263    28.640000\n",
       "150264    30.108000\n",
       "150265    24.450000\n",
       "150266    25.643889\n",
       "150267    27.613667\n",
       "150268    29.253333\n",
       "150269    38.041500\n",
       "150270    24.950000\n",
       "150271    27.400000\n",
       "150272    26.740000\n",
       "150273    25.955455\n",
       "150274    36.158000\n",
       "150275    24.950000\n",
       "150276    40.736364\n",
       "150277    30.443750\n",
       "150278    23.950000\n",
       "150279    27.450000\n",
       "150280    24.533333\n",
       "150281    22.375000\n",
       "150282    24.950000\n",
       "150283    33.936364\n",
       "150284    35.628846\n",
       "150285    34.550000\n",
       "150286    25.325238\n",
       "150287    32.658333\n",
       "150288    28.871429\n",
       "150289    31.678947\n",
       "Name: avg_order, dtype: float64"
      ]
     },
     "execution_count": 58,
     "metadata": {},
     "output_type": "execute_result"
    }
   ],
   "source": [
    "from __future__ import division\n",
    "\n",
    "user_rev_per_order['avg_order'] = user_rev_per_order['User Order Facts Lifetime Revenue']/ user_rev_per_order['User Order Facts Lifetime Orders']\n",
    "user_rev_per_order['avg_order']"
   ]
  },
  {
   "cell_type": "code",
   "execution_count": 78,
   "metadata": {},
   "outputs": [],
   "source": [
    "#plt.hist(user_rev_per_order['avg_order'], bins=20)"
   ]
  },
  {
   "cell_type": "code",
   "execution_count": 80,
   "metadata": {},
   "outputs": [
    {
     "data": {
      "text/html": [
       "<div>\n",
       "<table border=\"1\" class=\"dataframe\">\n",
       "  <thead>\n",
       "    <tr style=\"text-align: right;\">\n",
       "      <th></th>\n",
       "      <th>Mr Order Days Between Orders</th>\n",
       "      <th>Mr Order Order ID</th>\n",
       "      <th>Mr Order Items Order Item Type</th>\n",
       "      <th>User Visit Facts User ID</th>\n",
       "      <th>Mr Order First Order (Yes / No)</th>\n",
       "    </tr>\n",
       "  </thead>\n",
       "  <tbody>\n",
       "    <tr>\n",
       "      <th>0</th>\n",
       "      <td>NaN</td>\n",
       "      <td>100508728</td>\n",
       "      <td>one-time</td>\n",
       "      <td>354444.0</td>\n",
       "      <td>Yes</td>\n",
       "    </tr>\n",
       "    <tr>\n",
       "      <th>1</th>\n",
       "      <td>NaN</td>\n",
       "      <td>101295738</td>\n",
       "      <td>one-time</td>\n",
       "      <td>1056539.0</td>\n",
       "      <td>Yes</td>\n",
       "    </tr>\n",
       "    <tr>\n",
       "      <th>2</th>\n",
       "      <td>NaN</td>\n",
       "      <td>101303354</td>\n",
       "      <td>one-time</td>\n",
       "      <td>985342.0</td>\n",
       "      <td>Yes</td>\n",
       "    </tr>\n",
       "    <tr>\n",
       "      <th>3</th>\n",
       "      <td>NaN</td>\n",
       "      <td>101495038</td>\n",
       "      <td>one-time</td>\n",
       "      <td>1202455.0</td>\n",
       "      <td>Yes</td>\n",
       "    </tr>\n",
       "    <tr>\n",
       "      <th>4</th>\n",
       "      <td>NaN</td>\n",
       "      <td>101514889</td>\n",
       "      <td>subscription</td>\n",
       "      <td>1211637.0</td>\n",
       "      <td>Yes</td>\n",
       "    </tr>\n",
       "  </tbody>\n",
       "</table>\n",
       "</div>"
      ],
      "text/plain": [
       "   Mr Order Days Between Orders  Mr Order Order ID  \\\n",
       "0                           NaN          100508728   \n",
       "1                           NaN          101295738   \n",
       "2                           NaN          101303354   \n",
       "3                           NaN          101495038   \n",
       "4                           NaN          101514889   \n",
       "\n",
       "  Mr Order Items Order Item Type  User Visit Facts User ID  \\\n",
       "0                       one-time                  354444.0   \n",
       "1                       one-time                 1056539.0   \n",
       "2                       one-time                  985342.0   \n",
       "3                       one-time                 1202455.0   \n",
       "4                   subscription                 1211637.0   \n",
       "\n",
       "  Mr Order First Order (Yes / No)  \n",
       "0                             Yes  \n",
       "1                             Yes  \n",
       "2                             Yes  \n",
       "3                             Yes  \n",
       "4                             Yes  "
      ]
     },
     "execution_count": 80,
     "metadata": {},
     "output_type": "execute_result"
    }
   ],
   "source": [
    "days_between_orders = pd.read_csv('/Users/keatoncarano/Desktop/dsi-sf-7-materials-Keaton/Capstone/days_between_orders.csv')\n",
    "days_between_orders.head()"
   ]
  },
  {
   "cell_type": "code",
   "execution_count": 85,
   "metadata": {},
   "outputs": [
    {
     "data": {
      "text/plain": [
       "<Container object of 991 artists>"
      ]
     },
     "execution_count": 85,
     "metadata": {},
     "output_type": "execute_result"
    },
    {
     "data": {
      "image/png": "[encoded data removed]",
      "text/plain": [
       "<matplotlib.figure.Figure at 0x132daa6d0>"
      ]
     },
     "metadata": {},
     "output_type": "display_data"
    }
   ],
   "source": [
    "days_dist = days_between_orders['Mr Order Days Between Orders'].value_counts().to_dict()\n",
    "plt.figure(figsize=(20,10))\n",
    "plt.bar(days_dist.keys(), days_dist.values(), color='r')"
   ]
  },
  {
   "cell_type": "code",
   "execution_count": 89,
   "metadata": {},
   "outputs": [
    {
     "name": "stdout",
     "output_type": "stream",
     "text": [
      "max days between orders is: 1287.0\n",
      "min days between orders is: 0.0\n",
      "mean days between orders is: 50.7117155813\n",
      "median days between orders is: 35.0\n"
     ]
    }
   ],
   "source": [
    "print \"max days between orders is: \" + str(days_between_orders['Mr Order Days Between Orders'].max())\n",
    "print \"min days between orders is: \" + str(days_between_orders['Mr Order Days Between Orders'].min())\n",
    "print \"mean days between orders is: \" + str(days_between_orders['Mr Order Days Between Orders'].mean())\n",
    "print \"median days between orders is: \" + str(days_between_orders['Mr Order Days Between Orders'].median())"
   ]
  },
  {
   "cell_type": "code",
   "execution_count": null,
   "metadata": {
    "collapsed": true
   },
   "outputs": [],
   "source": []
  }
 ],
 "metadata": {
  "kernelspec": {
   "display_name": "Python [conda env:dsi]",
   "language": "python",
   "name": "conda-env-dsi-py"
  },
  "language_info": {
   "codemirror_mode": {
    "name": "ipython",
    "version": 2
   },
   "file_extension": ".py",
   "mimetype": "text/x-python",
   "name": "python",
   "nbconvert_exporter": "python",
   "pygments_lexer": "ipython2",
   "version": "2.7.12"
  }
 },
 "nbformat": 4,
 "nbformat_minor": 1
}
