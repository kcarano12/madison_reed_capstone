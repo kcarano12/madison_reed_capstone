{
 "cells": [
  {
   "cell_type": "code",
   "execution_count": 38,
   "metadata": {},
   "outputs": [],
   "source": [
    "import pandas as pd\n",
    "import numpy as np\n",
    "from sklearn.model_selection import train_test_split\n",
    "from sklearn.linear_model import LogisticRegression\n",
    "from sklearn.metrics import classification_report\n",
    "from cross_val_tool import cross_validation\n",
    "from time import time\n",
    "import matplotlib.pyplot as plt\n",
    "from collections import defaultdict\n",
    "import seaborn as sns\n",
    "from sklearn.feature_extraction.text import CountVectorizer\n",
    "from sklearn.model_selection import train_test_split\n",
    "from sklearn.linear_model import LogisticRegression\n",
    "from sklearn.metrics import classification_report, confusion_matrix\n",
    "from sklearn.preprocessing import StandardScaler\n",
    "from sklearn.ensemble import RandomForestClassifier\n",
    "from sklearn.model_selection import cross_val_score\n",
    "from sklearn.ensemble import ExtraTreesClassifier\n",
    "from sklearn.ensemble import GradientBoostingClassifier\n",
    "from sklearn.externals import joblib\n",
    "from sklearn.cross_validation import ShuffleSplit\n",
    "import os\n",
    "from sklearn.svm import SVC\n",
    "import datetime\n",
    "from __future__ import division\n",
    "\n",
    "%matplotlib inline"
   ]
  },
  {
   "cell_type": "code",
   "execution_count": 39,
   "metadata": {
    "collapsed": true
   },
   "outputs": [],
   "source": [
    "disposition_analysis = pd.read_csv('./disposition_analysis.csv')"
   ]
  },
  {
   "cell_type": "code",
   "execution_count": 40,
   "metadata": {},
   "outputs": [
    {
     "data": {
      "text/plain": [
       "(83967, 8)"
      ]
     },
     "execution_count": 40,
     "metadata": {},
     "output_type": "execute_result"
    }
   ],
   "source": [
    "disposition_analysis.shape"
   ]
  },
  {
   "cell_type": "code",
   "execution_count": 41,
   "metadata": {},
   "outputs": [],
   "source": [
    "disposition_analysis['User Order Facts First Order Date'] = pd.to_datetime(disposition_analysis['User Order Facts First Order Date'])\n",
    "disposition_analysis['Subscription Dispositions Disposition Date'] = pd.to_datetime(disposition_analysis['Subscription Dispositions Disposition Date'])\n"
   ]
  },
  {
   "cell_type": "code",
   "execution_count": 42,
   "metadata": {},
   "outputs": [
    {
     "data": {
      "text/plain": [
       "Mr User User ID                                        int64\n",
       "User Order Facts First Order Date             datetime64[ns]\n",
       "Subscription Dispositions Disposition Date    datetime64[ns]\n",
       "Subscription Dispositions Reason                      object\n",
       "User Order Facts First Order Type                     object\n",
       "User Sub Facts Is Active Sub (Yes / No)               object\n",
       "Calculation 1                                          int64\n",
       "User Order Facts Total Lifetime Orders                 int64\n",
       "dtype: object"
      ]
     },
     "execution_count": 42,
     "metadata": {},
     "output_type": "execute_result"
    }
   ],
   "source": [
    "disposition_analysis.dtypes"
   ]
  },
  {
   "cell_type": "code",
   "execution_count": 46,
   "metadata": {},
   "outputs": [
    {
     "data": {
      "text/plain": [
       "No     68223\n",
       "Yes    15742\n",
       "Name: User Sub Facts Is Active Sub (Yes / No), dtype: int64"
      ]
     },
     "execution_count": 46,
     "metadata": {},
     "output_type": "execute_result"
    }
   ],
   "source": [
    "disposition_analysis['User Sub Facts Is Active Sub (Yes / No)'].value_counts()"
   ]
  },
  {
   "cell_type": "code",
   "execution_count": 45,
   "metadata": {
    "collapsed": true
   },
   "outputs": [],
   "source": [
    "disposition_analysis.drop(disposition_analysis['User Sub Facts Is Active Sub (Yes / No)'] == 'Yes',inplace=True)"
   ]
  },
  {
   "cell_type": "code",
   "execution_count": 47,
   "metadata": {
    "collapsed": true
   },
   "outputs": [],
   "source": [
    "disp_data = disposition_analysis[disposition_analysis['User Sub Facts Is Active Sub (Yes / No)'] == \"No\"]"
   ]
  },
  {
   "cell_type": "code",
   "execution_count": 48,
   "metadata": {},
   "outputs": [
    {
     "data": {
      "text/plain": [
       "array(['No'], dtype=object)"
      ]
     },
     "execution_count": 48,
     "metadata": {},
     "output_type": "execute_result"
    }
   ],
   "source": [
    "disp_data[\"User Sub Facts Is Active Sub (Yes / No)\"]"
   ]
  },
  {
   "cell_type": "code",
   "execution_count": 49,
   "metadata": {},
   "outputs": [
    {
     "data": {
      "text/plain": [
       "Auto-delivery - Prefer one-time            17995\n",
       "Too much product on hand                   16353\n",
       "Color Issue - Color Match                   9422\n",
       "Price                                       5632\n",
       "Color Issue - Gray Coverage                 5382\n",
       "Color Issue - Color faded                   3957\n",
       "3PL return                                  2224\n",
       "Duplicate Subscription                      1138\n",
       "Auto-delivery - Other                        957\n",
       "Product Concerns                             918\n",
       "Going back to the salon                      827\n",
       "Sensitivity                                  665\n",
       "Didn't reply / Wouldn't say                  627\n",
       "Checkout Process                             560\n",
       "Going gray                                   442\n",
       "Shipping - Where's my order?                 404\n",
       "Wasn't satisfied with color                  158\n",
       "Duplicate order                              143\n",
       "Not the right product                        124\n",
       "Accidental, incorrect                         94\n",
       "Returned                                      92\n",
       "Change to shipping method                     35\n",
       "Using another product                         19\n",
       "Auto-delivery - Unexpected subscription       11\n",
       "Checkout Process - Billing                    11\n",
       "Decided not to use product                     9\n",
       "Checkout Process - Promo                       7\n",
       "Shipping - Wrong component                     6\n",
       "Unexpected auto delivery                       4\n",
       "Color Issue - Too dark                         4\n",
       "Shipping - Missing component                   3\n",
       "Name: Subscription Dispositions Reason, dtype: int64"
      ]
     },
     "execution_count": 49,
     "metadata": {},
     "output_type": "execute_result"
    }
   ],
   "source": [
    "disp_data['Subscription Dispositions Reason'].value_counts()"
   ]
  },
  {
   "cell_type": "code",
   "execution_count": 50,
   "metadata": {},
   "outputs": [
    {
     "data": {
      "text/html": [
       "<div>\n",
       "<table border=\"1\" class=\"dataframe\">\n",
       "  <thead>\n",
       "    <tr style=\"text-align: right;\">\n",
       "      <th></th>\n",
       "      <th>Mr User User ID</th>\n",
       "      <th>User Order Facts First Order Date</th>\n",
       "      <th>Subscription Dispositions Disposition Date</th>\n",
       "      <th>Subscription Dispositions Reason</th>\n",
       "      <th>User Order Facts First Order Type</th>\n",
       "      <th>User Sub Facts Is Active Sub (Yes / No)</th>\n",
       "      <th>Calculation 1</th>\n",
       "      <th>User Order Facts Total Lifetime Orders</th>\n",
       "    </tr>\n",
       "  </thead>\n",
       "  <tbody>\n",
       "    <tr>\n",
       "      <th>2</th>\n",
       "      <td>1261011</td>\n",
       "      <td>2017-08-01</td>\n",
       "      <td>2017-08-01</td>\n",
       "      <td>Checkout Process</td>\n",
       "      <td>subscription</td>\n",
       "      <td>No</td>\n",
       "      <td>0</td>\n",
       "      <td>1</td>\n",
       "    </tr>\n",
       "    <tr>\n",
       "      <th>5</th>\n",
       "      <td>1238812</td>\n",
       "      <td>2017-07-31</td>\n",
       "      <td>2017-07-31</td>\n",
       "      <td>Auto-delivery - Prefer one-time</td>\n",
       "      <td>subscription</td>\n",
       "      <td>No</td>\n",
       "      <td>0</td>\n",
       "      <td>1</td>\n",
       "    </tr>\n",
       "    <tr>\n",
       "      <th>6</th>\n",
       "      <td>1253707</td>\n",
       "      <td>2017-07-31</td>\n",
       "      <td>2017-08-03</td>\n",
       "      <td>Color Issue - Color Match</td>\n",
       "      <td>subscription</td>\n",
       "      <td>No</td>\n",
       "      <td>3</td>\n",
       "      <td>1</td>\n",
       "    </tr>\n",
       "    <tr>\n",
       "      <th>7</th>\n",
       "      <td>1260058</td>\n",
       "      <td>2017-07-31</td>\n",
       "      <td>2017-07-31</td>\n",
       "      <td>Color Issue - Gray Coverage</td>\n",
       "      <td>one-time</td>\n",
       "      <td>No</td>\n",
       "      <td>0</td>\n",
       "      <td>1</td>\n",
       "    </tr>\n",
       "    <tr>\n",
       "      <th>8</th>\n",
       "      <td>1254758</td>\n",
       "      <td>2017-07-30</td>\n",
       "      <td>2017-07-30</td>\n",
       "      <td>Not the right product</td>\n",
       "      <td>one-time</td>\n",
       "      <td>No</td>\n",
       "      <td>0</td>\n",
       "      <td>2</td>\n",
       "    </tr>\n",
       "  </tbody>\n",
       "</table>\n",
       "</div>"
      ],
      "text/plain": [
       "   Mr User User ID User Order Facts First Order Date  \\\n",
       "2          1261011                        2017-08-01   \n",
       "5          1238812                        2017-07-31   \n",
       "6          1253707                        2017-07-31   \n",
       "7          1260058                        2017-07-31   \n",
       "8          1254758                        2017-07-30   \n",
       "\n",
       "  Subscription Dispositions Disposition Date Subscription Dispositions Reason  \\\n",
       "2                                 2017-08-01                 Checkout Process   \n",
       "5                                 2017-07-31  Auto-delivery - Prefer one-time   \n",
       "6                                 2017-08-03        Color Issue - Color Match   \n",
       "7                                 2017-07-31      Color Issue - Gray Coverage   \n",
       "8                                 2017-07-30            Not the right product   \n",
       "\n",
       "  User Order Facts First Order Type User Sub Facts Is Active Sub (Yes / No)  \\\n",
       "2                      subscription                                      No   \n",
       "5                      subscription                                      No   \n",
       "6                      subscription                                      No   \n",
       "7                          one-time                                      No   \n",
       "8                          one-time                                      No   \n",
       "\n",
       "   Calculation 1  User Order Facts Total Lifetime Orders  \n",
       "2              0                                       1  \n",
       "5              0                                       1  \n",
       "6              3                                       1  \n",
       "7              0                                       1  \n",
       "8              0                                       2  "
      ]
     },
     "execution_count": 50,
     "metadata": {},
     "output_type": "execute_result"
    }
   ],
   "source": [
    "disp_data.head()"
   ]
  },
  {
   "cell_type": "code",
   "execution_count": 51,
   "metadata": {},
   "outputs": [
    {
     "data": {
      "text/plain": [
       "<matplotlib.axes._subplots.AxesSubplot at 0x111c8b5d0>"
      ]
     },
     "execution_count": 51,
     "metadata": {},
     "output_type": "execute_result"
    },
    {
     "data": {
      "image/png": "[encoded data removed]",
      "text/plain": [
       "<matplotlib.figure.Figure at 0x112da9ad0>"
      ]
     },
     "metadata": {},
     "output_type": "display_data"
    }
   ],
   "source": [
    "plt.figure(figsize=(20,10))\n",
    "disp_data['Calculation 1'].plot(kind='hist',bins=100)\n",
    "\n"
   ]
  },
  {
   "cell_type": "code",
   "execution_count": 52,
   "metadata": {},
   "outputs": [
    {
     "name": "stdout",
     "output_type": "stream",
     "text": [
      "the mean length of time between first order and disposition is: 179.278996819\n",
      "the median length of time between first order and disposition is: 111.0\n"
     ]
    }
   ],
   "source": [
    "print 'the mean length of time between first order and disposition is: ' + str(disp_data['Calculation 1'].mean())\n",
    "print 'the median length of time between first order and disposition is: ' + str(disp_data['Calculation 1'].median())\n",
    "\n"
   ]
  },
  {
   "cell_type": "code",
   "execution_count": 53,
   "metadata": {},
   "outputs": [
    {
     "data": {
      "text/plain": [
       "2     12350\n",
       "1     11095\n",
       "3      9026\n",
       "4      6532\n",
       "5      5108\n",
       "6      4283\n",
       "7      3336\n",
       "8      2641\n",
       "9      2264\n",
       "10     1916\n",
       "11     1541\n",
       "12     1229\n",
       "13     1089\n",
       "14      881\n",
       "15      714\n",
       "16      574\n",
       "17      563\n",
       "18      459\n",
       "19      402\n",
       "21      337\n",
       "20      299\n",
       "22      217\n",
       "23      213\n",
       "25      167\n",
       "24      151\n",
       "27      114\n",
       "26      112\n",
       "28       92\n",
       "29       69\n",
       "30       62\n",
       "32       62\n",
       "33       58\n",
       "31       41\n",
       "34       38\n",
       "38       31\n",
       "41       31\n",
       "35       24\n",
       "36       21\n",
       "37       12\n",
       "51       10\n",
       "44       10\n",
       "43       10\n",
       "40        8\n",
       "49        8\n",
       "39        6\n",
       "42        6\n",
       "47        3\n",
       "53        2\n",
       "57        2\n",
       "50        2\n",
       "58        2\n",
       "Name: User Order Facts Total Lifetime Orders, dtype: int64"
      ]
     },
     "execution_count": 53,
     "metadata": {},
     "output_type": "execute_result"
    }
   ],
   "source": [
    "disp_data['User Order Facts Total Lifetime Orders'].value_counts()"
   ]
  },
  {
   "cell_type": "code",
   "execution_count": 55,
   "metadata": {},
   "outputs": [
    {
     "data": {
      "text/plain": [
       "No    68223\n",
       "Name: User Sub Facts Is Active Sub (Yes / No), dtype: int64"
      ]
     },
     "execution_count": 55,
     "metadata": {},
     "output_type": "execute_result"
    }
   ],
   "source": [
    "disp_data['User Sub Facts Is Active Sub (Yes / No)'].value_counts()"
   ]
  },
  {
   "cell_type": "code",
   "execution_count": 10,
   "metadata": {},
   "outputs": [
    {
     "data": {
      "text/html": [
       "<div>\n",
       "<table border=\"1\" class=\"dataframe\">\n",
       "  <thead>\n",
       "    <tr style=\"text-align: right;\">\n",
       "      <th></th>\n",
       "      <th>User Order Facts Average Days Between Orders</th>\n",
       "      <th>User Order Facts One and Done (Yes / No)</th>\n",
       "      <th>Average Orders Per 90 Days</th>\n",
       "      <th>90 Day LTR</th>\n",
       "      <th>Mr User User Count</th>\n",
       "      <th>Mr Order Order Count</th>\n",
       "      <th>Mr Order Average Order Value</th>\n",
       "    </tr>\n",
       "  </thead>\n",
       "  <tbody>\n",
       "    <tr>\n",
       "      <th>0</th>\n",
       "      <td>NaN</td>\n",
       "      <td>Yes</td>\n",
       "      <td>NaN</td>\n",
       "      <td>NaN</td>\n",
       "      <td>55157</td>\n",
       "      <td>55158</td>\n",
       "      <td>31.027863</td>\n",
       "    </tr>\n",
       "    <tr>\n",
       "      <th>1</th>\n",
       "      <td>28.0</td>\n",
       "      <td>No</td>\n",
       "      <td>NaN</td>\n",
       "      <td>NaN</td>\n",
       "      <td>2487</td>\n",
       "      <td>9170</td>\n",
       "      <td>27.931058</td>\n",
       "    </tr>\n",
       "    <tr>\n",
       "      <th>2</th>\n",
       "      <td>56.0</td>\n",
       "      <td>No</td>\n",
       "      <td>NaN</td>\n",
       "      <td>NaN</td>\n",
       "      <td>2138</td>\n",
       "      <td>6724</td>\n",
       "      <td>27.549855</td>\n",
       "    </tr>\n",
       "    <tr>\n",
       "      <th>3</th>\n",
       "      <td>42.0</td>\n",
       "      <td>No</td>\n",
       "      <td>NaN</td>\n",
       "      <td>NaN</td>\n",
       "      <td>1918</td>\n",
       "      <td>6572</td>\n",
       "      <td>27.292658</td>\n",
       "    </tr>\n",
       "    <tr>\n",
       "      <th>4</th>\n",
       "      <td>35.0</td>\n",
       "      <td>No</td>\n",
       "      <td>NaN</td>\n",
       "      <td>NaN</td>\n",
       "      <td>1262</td>\n",
       "      <td>4940</td>\n",
       "      <td>27.788402</td>\n",
       "    </tr>\n",
       "  </tbody>\n",
       "</table>\n",
       "</div>"
      ],
      "text/plain": [
       "   User Order Facts Average Days Between Orders  \\\n",
       "0                                           NaN   \n",
       "1                                          28.0   \n",
       "2                                          56.0   \n",
       "3                                          42.0   \n",
       "4                                          35.0   \n",
       "\n",
       "  User Order Facts One and Done (Yes / No)  Average Orders Per 90 Days  \\\n",
       "0                                      Yes                         NaN   \n",
       "1                                       No                         NaN   \n",
       "2                                       No                         NaN   \n",
       "3                                       No                         NaN   \n",
       "4                                       No                         NaN   \n",
       "\n",
       "   90 Day LTR  Mr User User Count  Mr Order Order Count  \\\n",
       "0         NaN               55157                 55158   \n",
       "1         NaN                2487                  9170   \n",
       "2         NaN                2138                  6724   \n",
       "3         NaN                1918                  6572   \n",
       "4         NaN                1262                  4940   \n",
       "\n",
       "   Mr Order Average Order Value  \n",
       "0                     31.027863  \n",
       "1                     27.931058  \n",
       "2                     27.549855  \n",
       "3                     27.292658  \n",
       "4                     27.788402  "
      ]
     },
     "execution_count": 10,
     "metadata": {},
     "output_type": "execute_result"
    }
   ],
   "source": [
    "ltr = pd.read_csv('./ltr_days_between.csv')\n",
    "ltr.head()"
   ]
  },
  {
   "cell_type": "code",
   "execution_count": 11,
   "metadata": {},
   "outputs": [],
   "source": [
    "ltr = ltr[ltr['User Order Facts Average Days Between Orders']<360] "
   ]
  },
  {
   "cell_type": "code",
   "execution_count": 12,
   "metadata": {},
   "outputs": [
    {
     "data": {
      "text/plain": [
       "<matplotlib.axes._subplots.AxesSubplot at 0x1128ecd50>"
      ]
     },
     "execution_count": 12,
     "metadata": {},
     "output_type": "execute_result"
    },
    {
     "data": {
      "image/png": "[encoded data removed]",
      "text/plain": [
       "<matplotlib.figure.Figure at 0x112188390>"
      ]
     },
     "metadata": {},
     "output_type": "display_data"
    }
   ],
   "source": [
    "plt.figure(figsize=(20,10))\n",
    "plt.xlabel('Days Between Orders')\n",
    "plt.ylabel('Percentage of Users Who order again')\n",
    "ltr['User Order Facts Average Days Between Orders'].hist(cumulative=True, normed=1, bins=100)"
   ]
  },
  {
   "cell_type": "code",
   "execution_count": 13,
   "metadata": {},
   "outputs": [
    {
     "data": {
      "text/plain": [
       "0.6873745996535523"
      ]
     },
     "execution_count": 13,
     "metadata": {},
     "output_type": "execute_result"
    }
   ],
   "source": [
    "1-ltr[ltr['User Order Facts Average Days Between Orders']>60]['Mr User User Count'].sum()/(ltr[ltr['User Order Facts Average Days Between Orders']>60]['Mr User User Count'].sum()+55157) \n",
    "                                                                                          \n",
    "                                                                                          \n",
    "                                                                                          \n",
    "                                                                                   "
   ]
  },
  {
   "cell_type": "code",
   "execution_count": 14,
   "metadata": {},
   "outputs": [
    {
     "data": {
      "text/plain": [
       "115707"
      ]
     },
     "execution_count": 14,
     "metadata": {},
     "output_type": "execute_result"
    }
   ],
   "source": [
    "ltr[ltr['User Order Facts Average Days Between Orders']>=60]['Mr Order Order Count'].sum()"
   ]
  },
  {
   "cell_type": "code",
   "execution_count": 15,
   "metadata": {},
   "outputs": [
    {
     "data": {
      "text/plain": [
       "0.6390346761206307"
      ]
     },
     "execution_count": 15,
     "metadata": {},
     "output_type": "execute_result"
    }
   ],
   "source": [
    "55157/(ltr['Mr User User Count'].sum())"
   ]
  },
  {
   "cell_type": "code",
   "execution_count": 16,
   "metadata": {},
   "outputs": [
    {
     "data": {
      "text/plain": [
       "613324"
      ]
     },
     "execution_count": 16,
     "metadata": {},
     "output_type": "execute_result"
    }
   ],
   "source": [
    "ltr['Mr Order Order Count'].sum()"
   ]
  },
  {
   "cell_type": "code",
   "execution_count": 17,
   "metadata": {},
   "outputs": [
    {
     "data": {
      "text/html": [
       "<div>\n",
       "<table border=\"1\" class=\"dataframe\">\n",
       "  <thead>\n",
       "    <tr style=\"text-align: right;\">\n",
       "      <th></th>\n",
       "      <th>Recall</th>\n",
       "      <th>0.01</th>\n",
       "      <th>0.05</th>\n",
       "      <th>0.1</th>\n",
       "      <th>0.15</th>\n",
       "      <th>0.2</th>\n",
       "      <th>0.25</th>\n",
       "      <th>0.3</th>\n",
       "      <th>0.35</th>\n",
       "      <th>0.4</th>\n",
       "      <th>0.45</th>\n",
       "      <th>0.5</th>\n",
       "      <th>0.55</th>\n",
       "      <th>0.6</th>\n",
       "      <th>Unnamed: 14</th>\n",
       "      <th>Unnamed: 15</th>\n",
       "    </tr>\n",
       "  </thead>\n",
       "  <tbody>\n",
       "    <tr>\n",
       "      <th>0</th>\n",
       "      <td>0.1</td>\n",
       "      <td>211.07</td>\n",
       "      <td>1055.34</td>\n",
       "      <td>2110.69</td>\n",
       "      <td>3166.03</td>\n",
       "      <td>4221.37</td>\n",
       "      <td>5276.71</td>\n",
       "      <td>6332.06</td>\n",
       "      <td>7387.40</td>\n",
       "      <td>8442.74</td>\n",
       "      <td>9498.08</td>\n",
       "      <td>10553.43</td>\n",
       "      <td>11608.77</td>\n",
       "      <td>12664.11</td>\n",
       "      <td>NaN</td>\n",
       "      <td>NaN</td>\n",
       "    </tr>\n",
       "    <tr>\n",
       "      <th>1</th>\n",
       "      <td>0.2</td>\n",
       "      <td>422.14</td>\n",
       "      <td>2110.69</td>\n",
       "      <td>4221.37</td>\n",
       "      <td>6332.06</td>\n",
       "      <td>8442.74</td>\n",
       "      <td>10553.43</td>\n",
       "      <td>12664.11</td>\n",
       "      <td>14774.80</td>\n",
       "      <td>16885.48</td>\n",
       "      <td>18996.17</td>\n",
       "      <td>21106.85</td>\n",
       "      <td>23217.54</td>\n",
       "      <td>25328.22</td>\n",
       "      <td>NaN</td>\n",
       "      <td>NaN</td>\n",
       "    </tr>\n",
       "    <tr>\n",
       "      <th>2</th>\n",
       "      <td>0.3</td>\n",
       "      <td>633.21</td>\n",
       "      <td>3166.03</td>\n",
       "      <td>6332.06</td>\n",
       "      <td>9498.08</td>\n",
       "      <td>12664.11</td>\n",
       "      <td>15830.14</td>\n",
       "      <td>18996.17</td>\n",
       "      <td>22162.20</td>\n",
       "      <td>25328.22</td>\n",
       "      <td>28494.25</td>\n",
       "      <td>31660.28</td>\n",
       "      <td>34826.31</td>\n",
       "      <td>37992.34</td>\n",
       "      <td>NaN</td>\n",
       "      <td>NaN</td>\n",
       "    </tr>\n",
       "    <tr>\n",
       "      <th>3</th>\n",
       "      <td>0.4</td>\n",
       "      <td>844.27</td>\n",
       "      <td>4221.37</td>\n",
       "      <td>8442.74</td>\n",
       "      <td>12664.11</td>\n",
       "      <td>16885.48</td>\n",
       "      <td>21106.85</td>\n",
       "      <td>25328.22</td>\n",
       "      <td>29549.60</td>\n",
       "      <td>33770.97</td>\n",
       "      <td>37992.34</td>\n",
       "      <td>42213.71</td>\n",
       "      <td>46435.08</td>\n",
       "      <td>50656.45</td>\n",
       "      <td>NaN</td>\n",
       "      <td>NaN</td>\n",
       "    </tr>\n",
       "    <tr>\n",
       "      <th>4</th>\n",
       "      <td>0.5</td>\n",
       "      <td>1055.34</td>\n",
       "      <td>5276.71</td>\n",
       "      <td>10553.43</td>\n",
       "      <td>15830.14</td>\n",
       "      <td>21106.85</td>\n",
       "      <td>26383.57</td>\n",
       "      <td>31660.28</td>\n",
       "      <td>36936.99</td>\n",
       "      <td>42213.71</td>\n",
       "      <td>47490.42</td>\n",
       "      <td>52767.14</td>\n",
       "      <td>58043.85</td>\n",
       "      <td>63320.56</td>\n",
       "      <td>NaN</td>\n",
       "      <td>NaN</td>\n",
       "    </tr>\n",
       "  </tbody>\n",
       "</table>\n",
       "</div>"
      ],
      "text/plain": [
       "  Recall     0.01     0.05       0.1      0.15       0.2      0.25       0.3  \\\n",
       "0    0.1   211.07  1055.34   2110.69   3166.03   4221.37   5276.71   6332.06   \n",
       "1    0.2   422.14  2110.69   4221.37   6332.06   8442.74  10553.43  12664.11   \n",
       "2    0.3   633.21  3166.03   6332.06   9498.08  12664.11  15830.14  18996.17   \n",
       "3    0.4   844.27  4221.37   8442.74  12664.11  16885.48  21106.85  25328.22   \n",
       "4    0.5  1055.34  5276.71  10553.43  15830.14  21106.85  26383.57  31660.28   \n",
       "\n",
       "       0.35       0.4      0.45       0.5      0.55       0.6  Unnamed: 14  \\\n",
       "0   7387.40   8442.74   9498.08  10553.43  11608.77  12664.11          NaN   \n",
       "1  14774.80  16885.48  18996.17  21106.85  23217.54  25328.22          NaN   \n",
       "2  22162.20  25328.22  28494.25  31660.28  34826.31  37992.34          NaN   \n",
       "3  29549.60  33770.97  37992.34  42213.71  46435.08  50656.45          NaN   \n",
       "4  36936.99  42213.71  47490.42  52767.14  58043.85  63320.56          NaN   \n",
       "\n",
       "   Unnamed: 15  \n",
       "0          NaN  \n",
       "1          NaN  \n",
       "2          NaN  \n",
       "3          NaN  \n",
       "4          NaN  "
      ]
     },
     "execution_count": 17,
     "metadata": {},
     "output_type": "execute_result"
    }
   ],
   "source": [
    "revenue = pd.read_excel('./revenue_recall.xlsx')\n",
    "revenue.head()"
   ]
  },
  {
   "cell_type": "code",
   "execution_count": 18,
   "metadata": {},
   "outputs": [],
   "source": [
    "revenue.drop(['Unnamed: 14', 'Unnamed: 15'], axis=1, inplace=True)"
   ]
  },
  {
   "cell_type": "code",
   "execution_count": 19,
   "metadata": {
    "collapsed": true
   },
   "outputs": [],
   "source": [
    "melted = pd.melt(revenue,id_vars='Recall',var_name='percent_prevent_churn')"
   ]
  },
  {
   "cell_type": "code",
   "execution_count": 20,
   "metadata": {},
   "outputs": [],
   "source": [
    "melted.value = pd.to_numeric(melted.value,errors='coerce')\n",
    "melted.percent_prevent_churn=pd.to_numeric(melted.percent_prevent_churn,errors='coerce')"
   ]
  },
  {
   "cell_type": "code",
   "execution_count": 21,
   "metadata": {},
   "outputs": [
    {
     "data": {
      "image/png": "[encoded data removed]",
      "text/plain": [
       "<matplotlib.figure.Figure at 0x111c4a4d0>"
      ]
     },
     "metadata": {},
     "output_type": "display_data"
    }
   ],
   "source": [
    "#sns.lmplot('percent_prevent_churn','value',data=melted, hue='Recall')\n",
    "sns.lmplot(x=\"percent_prevent_churn\", y=\"value\", hue=\"Recall\", data=melted);"
   ]
  },
  {
   "cell_type": "code",
   "execution_count": 22,
   "metadata": {
    "collapsed": true
   },
   "outputs": [],
   "source": [
    "def rev_predictor(time_frame, recall, prob_convert, users):\n",
    "    add_rev = 24.54\n",
    "    if time_frame ==90:\n",
    "        mm = 1\n",
    "    elif time_frame == 180:\n",
    "        mm = 2\n",
    "    elif time_frame == 360:\n",
    "        mm = 4\n",
    "    else:\n",
    "        return 'Please input a value of 90, 180, or 360'\n",
    "    return add_rev*recall/100.*mm*prob_convert*users\n",
    "\n",
    "sample_fn = lambda recall: rev_predictor(90, recall,.5,14000)\n",
    "\n",
    "from ipywidgets import interact\n",
    "from ipywidgets import widgets\n",
    "\n",
    "widgets.IntSlider(min=-10,max=30,step=1,value=10)\n",
    "\n",
    "interact(sample_fn, recall=widgets.IntSlider(min=75,max=95,step=1,value=82))"
   ]
  },
  {
   "cell_type": "code",
   "execution_count": null,
   "metadata": {},
   "outputs": [],
   "source": []
  },
  {
   "cell_type": "code",
   "execution_count": null,
   "metadata": {},
   "outputs": [],
   "source": []
  },
  {
   "cell_type": "code",
   "execution_count": null,
   "metadata": {
    "collapsed": true
   },
   "outputs": [],
   "source": []
  }
 ],
 "metadata": {
  "kernelspec": {
   "display_name": "Python [conda env:dsi]",
   "language": "python",
   "name": "conda-env-dsi-py"
  },
  "language_info": {
   "codemirror_mode": {
    "name": "ipython",
    "version": 2
   },
   "file_extension": ".py",
   "mimetype": "text/x-python",
   "name": "python",
   "nbconvert_exporter": "python",
   "pygments_lexer": "ipython2",
   "version": "2.7.12"
  }
 },
 "nbformat": 4,
 "nbformat_minor": 1
}
