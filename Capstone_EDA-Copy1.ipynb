{
 "cells": [
  {
   "cell_type": "code",
   "execution_count": 1,
   "metadata": {
    "collapsed": true
   },
   "outputs": [],
   "source": [
    "import pandas as pd\n",
    "import numpy as np\n",
    "from sklearn.model_selection import train_test_split\n",
    "from sklearn.linear_model import LogisticRegression\n",
    "from sklearn.metrics import classification_report\n",
    "from cross_val_tool import cross_validation\n",
    "from time import time\n",
    "import matplotlib.pyplot as plt\n",
    "from collections import defaultdict\n",
    "import seaborn as sns\n",
    "\n",
    "%matplotlib inline"
   ]
  },
  {
   "cell_type": "markdown",
   "metadata": {},
   "source": [
    "# Looking at First Order Purchases Only "
   ]
  },
  {
   "cell_type": "code",
   "execution_count": 2,
   "metadata": {
    "collapsed": true
   },
   "outputs": [],
   "source": [
    "first_order_raw = pd.read_csv('/Users/keatoncarano/Desktop/dsi-sf-7-materials-Keaton/Capstone/order_id_first_orders.csv')"
   ]
  },
  {
   "cell_type": "code",
   "execution_count": 3,
   "metadata": {},
   "outputs": [
    {
     "data": {
      "text/html": [
       "<div>\n",
       "<table border=\"1\" class=\"dataframe\">\n",
       "  <thead>\n",
       "    <tr style=\"text-align: right;\">\n",
       "      <th></th>\n",
       "      <th>Mr Order Order ID</th>\n",
       "      <th>User Order Facts First Order Type</th>\n",
       "      <th>Mr User User ID</th>\n",
       "      <th>Mr User Age Tier</th>\n",
       "      <th>Mr Order Items Product Code</th>\n",
       "      <th>User Order Facts Color Kit First (Yes / No)</th>\n",
       "      <th>Mr Order First Order (Yes / No)</th>\n",
       "      <th>User Order Facts Lifetime Orders</th>\n",
       "      <th>User Order Facts Total Lifetime Orders</th>\n",
       "    </tr>\n",
       "  </thead>\n",
       "  <tbody>\n",
       "    <tr>\n",
       "      <th>0</th>\n",
       "      <td>101251941</td>\n",
       "      <td>one-time</td>\n",
       "      <td>1012844.0</td>\n",
       "      <td>18 to 24</td>\n",
       "      <td>5NRM</td>\n",
       "      <td>Yes</td>\n",
       "      <td>Yes</td>\n",
       "      <td>8</td>\n",
       "      <td>8</td>\n",
       "    </tr>\n",
       "    <tr>\n",
       "      <th>1</th>\n",
       "      <td>101244767</td>\n",
       "      <td>one-time</td>\n",
       "      <td>1006001.0</td>\n",
       "      <td>18 to 24</td>\n",
       "      <td>5NRM</td>\n",
       "      <td>Yes</td>\n",
       "      <td>Yes</td>\n",
       "      <td>2</td>\n",
       "      <td>2</td>\n",
       "    </tr>\n",
       "    <tr>\n",
       "      <th>2</th>\n",
       "      <td>101244767</td>\n",
       "      <td>one-time</td>\n",
       "      <td>1006001.0</td>\n",
       "      <td>18 to 24</td>\n",
       "      <td>$5NRM</td>\n",
       "      <td>Yes</td>\n",
       "      <td>Yes</td>\n",
       "      <td>2</td>\n",
       "      <td>2</td>\n",
       "    </tr>\n",
       "    <tr>\n",
       "      <th>3</th>\n",
       "      <td>101234777</td>\n",
       "      <td>one-time</td>\n",
       "      <td>997724.0</td>\n",
       "      <td>18 to 24</td>\n",
       "      <td>5RV</td>\n",
       "      <td>Yes</td>\n",
       "      <td>Yes</td>\n",
       "      <td>2</td>\n",
       "      <td>2</td>\n",
       "    </tr>\n",
       "    <tr>\n",
       "      <th>4</th>\n",
       "      <td>101192188</td>\n",
       "      <td>subscription</td>\n",
       "      <td>967744.0</td>\n",
       "      <td>18 to 24</td>\n",
       "      <td>$4NMG</td>\n",
       "      <td>Yes</td>\n",
       "      <td>Yes</td>\n",
       "      <td>1</td>\n",
       "      <td>1</td>\n",
       "    </tr>\n",
       "  </tbody>\n",
       "</table>\n",
       "</div>"
      ],
      "text/plain": [
       "   Mr Order Order ID User Order Facts First Order Type  Mr User User ID  \\\n",
       "0          101251941                          one-time        1012844.0   \n",
       "1          101244767                          one-time        1006001.0   \n",
       "2          101244767                          one-time        1006001.0   \n",
       "3          101234777                          one-time         997724.0   \n",
       "4          101192188                      subscription         967744.0   \n",
       "\n",
       "  Mr User Age Tier Mr Order Items Product Code  \\\n",
       "0         18 to 24                        5NRM   \n",
       "1         18 to 24                        5NRM   \n",
       "2         18 to 24                       $5NRM   \n",
       "3         18 to 24                         5RV   \n",
       "4         18 to 24                       $4NMG   \n",
       "\n",
       "  User Order Facts Color Kit First (Yes / No) Mr Order First Order (Yes / No)  \\\n",
       "0                                         Yes                             Yes   \n",
       "1                                         Yes                             Yes   \n",
       "2                                         Yes                             Yes   \n",
       "3                                         Yes                             Yes   \n",
       "4                                         Yes                             Yes   \n",
       "\n",
       "   User Order Facts Lifetime Orders  User Order Facts Total Lifetime Orders  \n",
       "0                                 8                                       8  \n",
       "1                                 2                                       2  \n",
       "2                                 2                                       2  \n",
       "3                                 2                                       2  \n",
       "4                                 1                                       1  "
      ]
     },
     "execution_count": 3,
     "metadata": {},
     "output_type": "execute_result"
    }
   ],
   "source": [
    "first_order_raw.head()"
   ]
  },
  {
   "cell_type": "code",
   "execution_count": 4,
   "metadata": {},
   "outputs": [
    {
     "data": {
      "text/plain": [
       "Undefined      203263\n",
       "45 to 54         2157\n",
       "55 to 64         1520\n",
       "35 to 44         1075\n",
       "25 to 34          494\n",
       "65 or Above       488\n",
       "18 to 24           98\n",
       "Name: Mr User Age Tier, dtype: int64"
      ]
     },
     "execution_count": 4,
     "metadata": {},
     "output_type": "execute_result"
    }
   ],
   "source": [
    "first_order_raw.shape\n",
    "first_order_raw['Mr User Age Tier'].value_counts()"
   ]
  },
  {
   "cell_type": "code",
   "execution_count": 5,
   "metadata": {},
   "outputs": [
    {
     "data": {
      "text/plain": [
       "Mr Order Order ID                              0\n",
       "User Order Facts First Order Type              0\n",
       "Mr User User ID                                2\n",
       "Mr User Age Tier                               0\n",
       "Mr Order Items Product Code                    0\n",
       "User Order Facts Color Kit First (Yes / No)    0\n",
       "Mr Order First Order (Yes / No)                0\n",
       "User Order Facts Lifetime Orders               0\n",
       "User Order Facts Total Lifetime Orders         0\n",
       "dtype: int64"
      ]
     },
     "execution_count": 5,
     "metadata": {},
     "output_type": "execute_result"
    }
   ],
   "source": [
    "first_order_raw.isnull().sum()"
   ]
  },
  {
   "cell_type": "code",
   "execution_count": 6,
   "metadata": {
    "collapsed": true
   },
   "outputs": [],
   "source": [
    "order = first_order_raw.groupby(['Mr User User ID'])['Mr Order Items Product Code'].agg(lambda x: x.tolist())\n"
   ]
  },
  {
   "cell_type": "code",
   "execution_count": 7,
   "metadata": {
    "collapsed": true
   },
   "outputs": [],
   "source": [
    "first_order = order.reset_index()"
   ]
  },
  {
   "cell_type": "code",
   "execution_count": 8,
   "metadata": {},
   "outputs": [
    {
     "data": {
      "text/html": [
       "<div>\n",
       "<table border=\"1\" class=\"dataframe\">\n",
       "  <thead>\n",
       "    <tr style=\"text-align: right;\">\n",
       "      <th></th>\n",
       "      <th>Mr User User ID</th>\n",
       "      <th>0</th>\n",
       "    </tr>\n",
       "  </thead>\n",
       "  <tbody>\n",
       "    <tr>\n",
       "      <th>0</th>\n",
       "      <td>2796.0</td>\n",
       "      <td>[9NGV]</td>\n",
       "    </tr>\n",
       "    <tr>\n",
       "      <th>1</th>\n",
       "      <td>3558.0</td>\n",
       "      <td>[5NGV]</td>\n",
       "    </tr>\n",
       "    <tr>\n",
       "      <th>2</th>\n",
       "      <td>7880.0</td>\n",
       "      <td>[9NA, $9NA]</td>\n",
       "    </tr>\n",
       "    <tr>\n",
       "      <th>3</th>\n",
       "      <td>26990.0</td>\n",
       "      <td>[5NRM]</td>\n",
       "    </tr>\n",
       "    <tr>\n",
       "      <th>4</th>\n",
       "      <td>32199.0</td>\n",
       "      <td>[4NMG]</td>\n",
       "    </tr>\n",
       "  </tbody>\n",
       "</table>\n",
       "</div>"
      ],
      "text/plain": [
       "   Mr User User ID            0\n",
       "0           2796.0       [9NGV]\n",
       "1           3558.0       [5NGV]\n",
       "2           7880.0  [9NA, $9NA]\n",
       "3          26990.0       [5NRM]\n",
       "4          32199.0       [4NMG]"
      ]
     },
     "execution_count": 8,
     "metadata": {},
     "output_type": "execute_result"
    }
   ],
   "source": [
    "first_order.head()"
   ]
  },
  {
   "cell_type": "code",
   "execution_count": null,
   "metadata": {
    "collapsed": true
   },
   "outputs": [],
   "source": []
  },
  {
   "cell_type": "code",
   "execution_count": 9,
   "metadata": {
    "collapsed": true
   },
   "outputs": [],
   "source": [
    "first_order.columns=['Mr User User ID', 'Product(s) Purchased']"
   ]
  },
  {
   "cell_type": "code",
   "execution_count": 10,
   "metadata": {},
   "outputs": [
    {
     "data": {
      "text/plain": [
       "Undefined      133951\n",
       "45 to 54         1280\n",
       "55 to 64          961\n",
       "35 to 44          660\n",
       "65 or Above       322\n",
       "25 to 34          311\n",
       "18 to 24           62\n",
       "Name: Mr User Age Tier, dtype: int64"
      ]
     },
     "execution_count": 10,
     "metadata": {},
     "output_type": "execute_result"
    }
   ],
   "source": [
    "clean_first_orders = first_order_raw.drop_duplicates(subset=['Mr User User ID'])\n",
    "clean_first_orders['Mr User Age Tier'].value_counts()"
   ]
  },
  {
   "cell_type": "code",
   "execution_count": 11,
   "metadata": {
    "collapsed": true
   },
   "outputs": [],
   "source": [
    "first_order = first_order.merge(clean_first_orders, on='Mr User User ID')\n",
    "\n",
    "\n"
   ]
  },
  {
   "cell_type": "code",
   "execution_count": 12,
   "metadata": {},
   "outputs": [
    {
     "data": {
      "text/html": [
       "<div>\n",
       "<table border=\"1\" class=\"dataframe\">\n",
       "  <thead>\n",
       "    <tr style=\"text-align: right;\">\n",
       "      <th></th>\n",
       "      <th>Mr User User ID</th>\n",
       "      <th>Product(s) Purchased</th>\n",
       "      <th>Mr Order Order ID</th>\n",
       "      <th>User Order Facts First Order Type</th>\n",
       "      <th>Mr User Age Tier</th>\n",
       "      <th>Mr Order Items Product Code</th>\n",
       "      <th>User Order Facts Color Kit First (Yes / No)</th>\n",
       "      <th>Mr Order First Order (Yes / No)</th>\n",
       "      <th>User Order Facts Lifetime Orders</th>\n",
       "      <th>User Order Facts Total Lifetime Orders</th>\n",
       "    </tr>\n",
       "  </thead>\n",
       "  <tbody>\n",
       "    <tr>\n",
       "      <th>0</th>\n",
       "      <td>2796.0</td>\n",
       "      <td>[9NGV]</td>\n",
       "      <td>100900090</td>\n",
       "      <td>one-time</td>\n",
       "      <td>Undefined</td>\n",
       "      <td>9NGV</td>\n",
       "      <td>Yes</td>\n",
       "      <td>Yes</td>\n",
       "      <td>1</td>\n",
       "      <td>1</td>\n",
       "    </tr>\n",
       "    <tr>\n",
       "      <th>1</th>\n",
       "      <td>3558.0</td>\n",
       "      <td>[5NGV]</td>\n",
       "      <td>100637272</td>\n",
       "      <td>subscription</td>\n",
       "      <td>Undefined</td>\n",
       "      <td>5NGV</td>\n",
       "      <td>Yes</td>\n",
       "      <td>Yes</td>\n",
       "      <td>1</td>\n",
       "      <td>1</td>\n",
       "    </tr>\n",
       "    <tr>\n",
       "      <th>2</th>\n",
       "      <td>7880.0</td>\n",
       "      <td>[9NA, $9NA]</td>\n",
       "      <td>100605469</td>\n",
       "      <td>one-time</td>\n",
       "      <td>Undefined</td>\n",
       "      <td>9NA</td>\n",
       "      <td>Yes</td>\n",
       "      <td>Yes</td>\n",
       "      <td>7</td>\n",
       "      <td>7</td>\n",
       "    </tr>\n",
       "    <tr>\n",
       "      <th>3</th>\n",
       "      <td>26990.0</td>\n",
       "      <td>[5NRM]</td>\n",
       "      <td>100838508</td>\n",
       "      <td>one-time</td>\n",
       "      <td>Undefined</td>\n",
       "      <td>5NRM</td>\n",
       "      <td>Yes</td>\n",
       "      <td>Yes</td>\n",
       "      <td>2</td>\n",
       "      <td>2</td>\n",
       "    </tr>\n",
       "    <tr>\n",
       "      <th>4</th>\n",
       "      <td>32199.0</td>\n",
       "      <td>[4NMG]</td>\n",
       "      <td>100416063</td>\n",
       "      <td>subscription</td>\n",
       "      <td>Undefined</td>\n",
       "      <td>4NMG</td>\n",
       "      <td>Yes</td>\n",
       "      <td>Yes</td>\n",
       "      <td>7</td>\n",
       "      <td>7</td>\n",
       "    </tr>\n",
       "  </tbody>\n",
       "</table>\n",
       "</div>"
      ],
      "text/plain": [
       "   Mr User User ID Product(s) Purchased  Mr Order Order ID  \\\n",
       "0           2796.0               [9NGV]          100900090   \n",
       "1           3558.0               [5NGV]          100637272   \n",
       "2           7880.0          [9NA, $9NA]          100605469   \n",
       "3          26990.0               [5NRM]          100838508   \n",
       "4          32199.0               [4NMG]          100416063   \n",
       "\n",
       "  User Order Facts First Order Type Mr User Age Tier  \\\n",
       "0                          one-time        Undefined   \n",
       "1                      subscription        Undefined   \n",
       "2                          one-time        Undefined   \n",
       "3                          one-time        Undefined   \n",
       "4                      subscription        Undefined   \n",
       "\n",
       "  Mr Order Items Product Code User Order Facts Color Kit First (Yes / No)  \\\n",
       "0                        9NGV                                         Yes   \n",
       "1                        5NGV                                         Yes   \n",
       "2                         9NA                                         Yes   \n",
       "3                        5NRM                                         Yes   \n",
       "4                        4NMG                                         Yes   \n",
       "\n",
       "  Mr Order First Order (Yes / No)  User Order Facts Lifetime Orders  \\\n",
       "0                             Yes                                 1   \n",
       "1                             Yes                                 1   \n",
       "2                             Yes                                 7   \n",
       "3                             Yes                                 2   \n",
       "4                             Yes                                 7   \n",
       "\n",
       "   User Order Facts Total Lifetime Orders  \n",
       "0                                       1  \n",
       "1                                       1  \n",
       "2                                       7  \n",
       "3                                       2  \n",
       "4                                       7  "
      ]
     },
     "execution_count": 12,
     "metadata": {},
     "output_type": "execute_result"
    }
   ],
   "source": [
    "first_order.head()"
   ]
  },
  {
   "cell_type": "code",
   "execution_count": 13,
   "metadata": {},
   "outputs": [
    {
     "data": {
      "text/plain": [
       "Yes    137546\n",
       "Name: Mr Order First Order (Yes / No), dtype: int64"
      ]
     },
     "execution_count": 13,
     "metadata": {},
     "output_type": "execute_result"
    }
   ],
   "source": [
    "first_order['Mr Order First Order (Yes / No)'].value_counts()"
   ]
  },
  {
   "cell_type": "code",
   "execution_count": 14,
   "metadata": {},
   "outputs": [
    {
     "data": {
      "text/plain": [
       "one-time        88213\n",
       "subscription    49333\n",
       "Name: User Order Facts First Order Type, dtype: int64"
      ]
     },
     "execution_count": 14,
     "metadata": {},
     "output_type": "execute_result"
    }
   ],
   "source": [
    "first_order['User Order Facts First Order Type'].value_counts()"
   ]
  },
  {
   "cell_type": "code",
   "execution_count": 15,
   "metadata": {},
   "outputs": [],
   "source": [
    "first_order.drop(['Mr Order Items Product Code'],axis=1,inplace=True)"
   ]
  },
  {
   "cell_type": "code",
   "execution_count": 16,
   "metadata": {
    "collapsed": true
   },
   "outputs": [],
   "source": [
    "first_order['Num Items Purchased'] = first_order['Product(s) Purchased'].str.len()\n"
   ]
  },
  {
   "cell_type": "code",
   "execution_count": 17,
   "metadata": {},
   "outputs": [
    {
     "data": {
      "text/html": [
       "<div>\n",
       "<table border=\"1\" class=\"dataframe\">\n",
       "  <thead>\n",
       "    <tr style=\"text-align: right;\">\n",
       "      <th></th>\n",
       "      <th>Mr User User ID</th>\n",
       "      <th>Product(s) Purchased</th>\n",
       "      <th>Mr Order Order ID</th>\n",
       "      <th>User Order Facts First Order Type</th>\n",
       "      <th>Mr User Age Tier</th>\n",
       "      <th>User Order Facts Color Kit First (Yes / No)</th>\n",
       "      <th>Mr Order First Order (Yes / No)</th>\n",
       "      <th>User Order Facts Lifetime Orders</th>\n",
       "      <th>User Order Facts Total Lifetime Orders</th>\n",
       "      <th>Num Items Purchased</th>\n",
       "      <th>Purchased Accessory Kit</th>\n",
       "    </tr>\n",
       "  </thead>\n",
       "  <tbody>\n",
       "    <tr>\n",
       "      <th>0</th>\n",
       "      <td>2796.0</td>\n",
       "      <td>[9NGV]</td>\n",
       "      <td>100900090</td>\n",
       "      <td>one-time</td>\n",
       "      <td>Undefined</td>\n",
       "      <td>Yes</td>\n",
       "      <td>Yes</td>\n",
       "      <td>1</td>\n",
       "      <td>1</td>\n",
       "      <td>1</td>\n",
       "      <td>0</td>\n",
       "    </tr>\n",
       "    <tr>\n",
       "      <th>1</th>\n",
       "      <td>3558.0</td>\n",
       "      <td>[5NGV]</td>\n",
       "      <td>100637272</td>\n",
       "      <td>subscription</td>\n",
       "      <td>Undefined</td>\n",
       "      <td>Yes</td>\n",
       "      <td>Yes</td>\n",
       "      <td>1</td>\n",
       "      <td>1</td>\n",
       "      <td>1</td>\n",
       "      <td>0</td>\n",
       "    </tr>\n",
       "    <tr>\n",
       "      <th>2</th>\n",
       "      <td>7880.0</td>\n",
       "      <td>[9NA, $9NA]</td>\n",
       "      <td>100605469</td>\n",
       "      <td>one-time</td>\n",
       "      <td>Undefined</td>\n",
       "      <td>Yes</td>\n",
       "      <td>Yes</td>\n",
       "      <td>7</td>\n",
       "      <td>7</td>\n",
       "      <td>2</td>\n",
       "      <td>0</td>\n",
       "    </tr>\n",
       "    <tr>\n",
       "      <th>3</th>\n",
       "      <td>26990.0</td>\n",
       "      <td>[5NRM]</td>\n",
       "      <td>100838508</td>\n",
       "      <td>one-time</td>\n",
       "      <td>Undefined</td>\n",
       "      <td>Yes</td>\n",
       "      <td>Yes</td>\n",
       "      <td>2</td>\n",
       "      <td>2</td>\n",
       "      <td>1</td>\n",
       "      <td>0</td>\n",
       "    </tr>\n",
       "    <tr>\n",
       "      <th>4</th>\n",
       "      <td>32199.0</td>\n",
       "      <td>[4NMG]</td>\n",
       "      <td>100416063</td>\n",
       "      <td>subscription</td>\n",
       "      <td>Undefined</td>\n",
       "      <td>Yes</td>\n",
       "      <td>Yes</td>\n",
       "      <td>7</td>\n",
       "      <td>7</td>\n",
       "      <td>1</td>\n",
       "      <td>0</td>\n",
       "    </tr>\n",
       "    <tr>\n",
       "      <th>5</th>\n",
       "      <td>36995.0</td>\n",
       "      <td>[6NGV]</td>\n",
       "      <td>100627043</td>\n",
       "      <td>one-time</td>\n",
       "      <td>Undefined</td>\n",
       "      <td>Yes</td>\n",
       "      <td>Yes</td>\n",
       "      <td>2</td>\n",
       "      <td>2</td>\n",
       "      <td>1</td>\n",
       "      <td>0</td>\n",
       "    </tr>\n",
       "    <tr>\n",
       "      <th>6</th>\n",
       "      <td>72523.0</td>\n",
       "      <td>[9NG]</td>\n",
       "      <td>100352809</td>\n",
       "      <td>one-time</td>\n",
       "      <td>Undefined</td>\n",
       "      <td>Yes</td>\n",
       "      <td>Yes</td>\n",
       "      <td>6</td>\n",
       "      <td>6</td>\n",
       "      <td>1</td>\n",
       "      <td>0</td>\n",
       "    </tr>\n",
       "    <tr>\n",
       "      <th>7</th>\n",
       "      <td>75776.0</td>\n",
       "      <td>[5NGV]</td>\n",
       "      <td>100632681</td>\n",
       "      <td>one-time</td>\n",
       "      <td>Undefined</td>\n",
       "      <td>Yes</td>\n",
       "      <td>Yes</td>\n",
       "      <td>4</td>\n",
       "      <td>4</td>\n",
       "      <td>1</td>\n",
       "      <td>0</td>\n",
       "    </tr>\n",
       "    <tr>\n",
       "      <th>8</th>\n",
       "      <td>76208.0</td>\n",
       "      <td>[CRG7GM, 6NMG]</td>\n",
       "      <td>100841416</td>\n",
       "      <td>one-time</td>\n",
       "      <td>Undefined</td>\n",
       "      <td>Yes</td>\n",
       "      <td>Yes</td>\n",
       "      <td>2</td>\n",
       "      <td>2</td>\n",
       "      <td>2</td>\n",
       "      <td>0</td>\n",
       "    </tr>\n",
       "    <tr>\n",
       "      <th>9</th>\n",
       "      <td>86140.0</td>\n",
       "      <td>[5NGV, 41000]</td>\n",
       "      <td>101084661</td>\n",
       "      <td>subscription</td>\n",
       "      <td>Undefined</td>\n",
       "      <td>Yes</td>\n",
       "      <td>Yes</td>\n",
       "      <td>11</td>\n",
       "      <td>11</td>\n",
       "      <td>2</td>\n",
       "      <td>1</td>\n",
       "    </tr>\n",
       "  </tbody>\n",
       "</table>\n",
       "</div>"
      ],
      "text/plain": [
       "   Mr User User ID Product(s) Purchased  Mr Order Order ID  \\\n",
       "0           2796.0               [9NGV]          100900090   \n",
       "1           3558.0               [5NGV]          100637272   \n",
       "2           7880.0          [9NA, $9NA]          100605469   \n",
       "3          26990.0               [5NRM]          100838508   \n",
       "4          32199.0               [4NMG]          100416063   \n",
       "5          36995.0               [6NGV]          100627043   \n",
       "6          72523.0                [9NG]          100352809   \n",
       "7          75776.0               [5NGV]          100632681   \n",
       "8          76208.0       [CRG7GM, 6NMG]          100841416   \n",
       "9          86140.0        [5NGV, 41000]          101084661   \n",
       "\n",
       "  User Order Facts First Order Type Mr User Age Tier  \\\n",
       "0                          one-time        Undefined   \n",
       "1                      subscription        Undefined   \n",
       "2                          one-time        Undefined   \n",
       "3                          one-time        Undefined   \n",
       "4                      subscription        Undefined   \n",
       "5                          one-time        Undefined   \n",
       "6                          one-time        Undefined   \n",
       "7                          one-time        Undefined   \n",
       "8                          one-time        Undefined   \n",
       "9                      subscription        Undefined   \n",
       "\n",
       "  User Order Facts Color Kit First (Yes / No) Mr Order First Order (Yes / No)  \\\n",
       "0                                         Yes                             Yes   \n",
       "1                                         Yes                             Yes   \n",
       "2                                         Yes                             Yes   \n",
       "3                                         Yes                             Yes   \n",
       "4                                         Yes                             Yes   \n",
       "5                                         Yes                             Yes   \n",
       "6                                         Yes                             Yes   \n",
       "7                                         Yes                             Yes   \n",
       "8                                         Yes                             Yes   \n",
       "9                                         Yes                             Yes   \n",
       "\n",
       "   User Order Facts Lifetime Orders  User Order Facts Total Lifetime Orders  \\\n",
       "0                                 1                                       1   \n",
       "1                                 1                                       1   \n",
       "2                                 7                                       7   \n",
       "3                                 2                                       2   \n",
       "4                                 7                                       7   \n",
       "5                                 2                                       2   \n",
       "6                                 6                                       6   \n",
       "7                                 4                                       4   \n",
       "8                                 2                                       2   \n",
       "9                                11                                      11   \n",
       "\n",
       "   Num Items Purchased  Purchased Accessory Kit  \n",
       "0                    1                        0  \n",
       "1                    1                        0  \n",
       "2                    2                        0  \n",
       "3                    1                        0  \n",
       "4                    1                        0  \n",
       "5                    1                        0  \n",
       "6                    1                        0  \n",
       "7                    1                        0  \n",
       "8                    2                        0  \n",
       "9                    2                        1  "
      ]
     },
     "execution_count": 17,
     "metadata": {},
     "output_type": "execute_result"
    }
   ],
   "source": [
    "first_order['Purchased Accessory Kit'] = first_order['Product(s) Purchased'].apply(lambda x: 1 if '41000' in x else 0)\n",
    "first_order.head(10)"
   ]
  },
  {
   "cell_type": "code",
   "execution_count": 18,
   "metadata": {},
   "outputs": [
    {
     "data": {
      "text/plain": [
       "(137546, 11)"
      ]
     },
     "execution_count": 18,
     "metadata": {},
     "output_type": "execute_result"
    }
   ],
   "source": [
    "first_order.shape"
   ]
  },
  {
   "cell_type": "code",
   "execution_count": 19,
   "metadata": {
    "collapsed": true
   },
   "outputs": [],
   "source": [
    "#first_order.drop_duplicates(inplace=True)"
   ]
  },
  {
   "cell_type": "code",
   "execution_count": 20,
   "metadata": {
    "collapsed": true
   },
   "outputs": [],
   "source": [
    "first_order =  pd.get_dummies(data=first_order, columns=['User Order Facts First Order Type', 'Mr User Age Tier'])"
   ]
  },
  {
   "cell_type": "code",
   "execution_count": 21,
   "metadata": {
    "collapsed": true
   },
   "outputs": [],
   "source": [
    "first_order.drop(['User Order Facts First Order Type_one-time','User Order Facts Total Lifetime Orders','User Order Facts Color Kit First (Yes / No)','Mr Order First Order (Yes / No)'], axis=1, inplace=True)"
   ]
  },
  {
   "cell_type": "code",
   "execution_count": 22,
   "metadata": {},
   "outputs": [
    {
     "data": {
      "text/plain": [
       "(137546, 14)"
      ]
     },
     "execution_count": 22,
     "metadata": {},
     "output_type": "execute_result"
    }
   ],
   "source": [
    "first_order.shape"
   ]
  },
  {
   "cell_type": "code",
   "execution_count": 23,
   "metadata": {},
   "outputs": [
    {
     "data": {
      "text/html": [
       "<div>\n",
       "<table border=\"1\" class=\"dataframe\">\n",
       "  <thead>\n",
       "    <tr style=\"text-align: right;\">\n",
       "      <th></th>\n",
       "      <th>Mr User User ID</th>\n",
       "      <th>Product(s) Purchased</th>\n",
       "      <th>Mr Order Order ID</th>\n",
       "      <th>User Order Facts Lifetime Orders</th>\n",
       "      <th>Num Items Purchased</th>\n",
       "      <th>Purchased Accessory Kit</th>\n",
       "      <th>User Order Facts First Order Type_subscription</th>\n",
       "      <th>Mr User Age Tier_18 to 24</th>\n",
       "      <th>Mr User Age Tier_25 to 34</th>\n",
       "      <th>Mr User Age Tier_35 to 44</th>\n",
       "      <th>Mr User Age Tier_45 to 54</th>\n",
       "      <th>Mr User Age Tier_55 to 64</th>\n",
       "      <th>Mr User Age Tier_65 or Above</th>\n",
       "      <th>Mr User Age Tier_Undefined</th>\n",
       "    </tr>\n",
       "  </thead>\n",
       "  <tbody>\n",
       "    <tr>\n",
       "      <th>0</th>\n",
       "      <td>2796.0</td>\n",
       "      <td>[9NGV]</td>\n",
       "      <td>100900090</td>\n",
       "      <td>1</td>\n",
       "      <td>1</td>\n",
       "      <td>0</td>\n",
       "      <td>0.0</td>\n",
       "      <td>0.0</td>\n",
       "      <td>0.0</td>\n",
       "      <td>0.0</td>\n",
       "      <td>0.0</td>\n",
       "      <td>0.0</td>\n",
       "      <td>0.0</td>\n",
       "      <td>1.0</td>\n",
       "    </tr>\n",
       "    <tr>\n",
       "      <th>1</th>\n",
       "      <td>3558.0</td>\n",
       "      <td>[5NGV]</td>\n",
       "      <td>100637272</td>\n",
       "      <td>1</td>\n",
       "      <td>1</td>\n",
       "      <td>0</td>\n",
       "      <td>1.0</td>\n",
       "      <td>0.0</td>\n",
       "      <td>0.0</td>\n",
       "      <td>0.0</td>\n",
       "      <td>0.0</td>\n",
       "      <td>0.0</td>\n",
       "      <td>0.0</td>\n",
       "      <td>1.0</td>\n",
       "    </tr>\n",
       "    <tr>\n",
       "      <th>2</th>\n",
       "      <td>7880.0</td>\n",
       "      <td>[9NA, $9NA]</td>\n",
       "      <td>100605469</td>\n",
       "      <td>7</td>\n",
       "      <td>2</td>\n",
       "      <td>0</td>\n",
       "      <td>0.0</td>\n",
       "      <td>0.0</td>\n",
       "      <td>0.0</td>\n",
       "      <td>0.0</td>\n",
       "      <td>0.0</td>\n",
       "      <td>0.0</td>\n",
       "      <td>0.0</td>\n",
       "      <td>1.0</td>\n",
       "    </tr>\n",
       "    <tr>\n",
       "      <th>3</th>\n",
       "      <td>26990.0</td>\n",
       "      <td>[5NRM]</td>\n",
       "      <td>100838508</td>\n",
       "      <td>2</td>\n",
       "      <td>1</td>\n",
       "      <td>0</td>\n",
       "      <td>0.0</td>\n",
       "      <td>0.0</td>\n",
       "      <td>0.0</td>\n",
       "      <td>0.0</td>\n",
       "      <td>0.0</td>\n",
       "      <td>0.0</td>\n",
       "      <td>0.0</td>\n",
       "      <td>1.0</td>\n",
       "    </tr>\n",
       "    <tr>\n",
       "      <th>4</th>\n",
       "      <td>32199.0</td>\n",
       "      <td>[4NMG]</td>\n",
       "      <td>100416063</td>\n",
       "      <td>7</td>\n",
       "      <td>1</td>\n",
       "      <td>0</td>\n",
       "      <td>1.0</td>\n",
       "      <td>0.0</td>\n",
       "      <td>0.0</td>\n",
       "      <td>0.0</td>\n",
       "      <td>0.0</td>\n",
       "      <td>0.0</td>\n",
       "      <td>0.0</td>\n",
       "      <td>1.0</td>\n",
       "    </tr>\n",
       "  </tbody>\n",
       "</table>\n",
       "</div>"
      ],
      "text/plain": [
       "   Mr User User ID Product(s) Purchased  Mr Order Order ID  \\\n",
       "0           2796.0               [9NGV]          100900090   \n",
       "1           3558.0               [5NGV]          100637272   \n",
       "2           7880.0          [9NA, $9NA]          100605469   \n",
       "3          26990.0               [5NRM]          100838508   \n",
       "4          32199.0               [4NMG]          100416063   \n",
       "\n",
       "   User Order Facts Lifetime Orders  Num Items Purchased  \\\n",
       "0                                 1                    1   \n",
       "1                                 1                    1   \n",
       "2                                 7                    2   \n",
       "3                                 2                    1   \n",
       "4                                 7                    1   \n",
       "\n",
       "   Purchased Accessory Kit  User Order Facts First Order Type_subscription  \\\n",
       "0                        0                                             0.0   \n",
       "1                        0                                             1.0   \n",
       "2                        0                                             0.0   \n",
       "3                        0                                             0.0   \n",
       "4                        0                                             1.0   \n",
       "\n",
       "   Mr User Age Tier_18 to 24  Mr User Age Tier_25 to 34  \\\n",
       "0                        0.0                        0.0   \n",
       "1                        0.0                        0.0   \n",
       "2                        0.0                        0.0   \n",
       "3                        0.0                        0.0   \n",
       "4                        0.0                        0.0   \n",
       "\n",
       "   Mr User Age Tier_35 to 44  Mr User Age Tier_45 to 54  \\\n",
       "0                        0.0                        0.0   \n",
       "1                        0.0                        0.0   \n",
       "2                        0.0                        0.0   \n",
       "3                        0.0                        0.0   \n",
       "4                        0.0                        0.0   \n",
       "\n",
       "   Mr User Age Tier_55 to 64  Mr User Age Tier_65 or Above  \\\n",
       "0                        0.0                           0.0   \n",
       "1                        0.0                           0.0   \n",
       "2                        0.0                           0.0   \n",
       "3                        0.0                           0.0   \n",
       "4                        0.0                           0.0   \n",
       "\n",
       "   Mr User Age Tier_Undefined  \n",
       "0                         1.0  \n",
       "1                         1.0  \n",
       "2                         1.0  \n",
       "3                         1.0  \n",
       "4                         1.0  "
      ]
     },
     "execution_count": 23,
     "metadata": {},
     "output_type": "execute_result"
    }
   ],
   "source": [
    "first_order.head()"
   ]
  },
  {
   "cell_type": "markdown",
   "metadata": {},
   "source": [
    "# Look at Quiz Responsess for All Orders"
   ]
  },
  {
   "cell_type": "code",
   "execution_count": 24,
   "metadata": {},
   "outputs": [
    {
     "name": "stderr",
     "output_type": "stream",
     "text": [
      "/Users/keatoncarano/anaconda/envs/dsi/lib/python2.7/site-packages/IPython/core/interactiveshell.py:2717: DtypeWarning: Columns (25,26,27,28,29,30,31,32) have mixed types. Specify dtype option on import or set low_memory=False.\n",
      "  interactivity=interactivity, compiler=compiler, result=result)\n"
     ]
    }
   ],
   "source": [
    "quiz_by_order = pd.read_csv('/Users/keatoncarano/Desktop/dsi-sf-7-materials-Keaton/Capstone/QuizResults.csv')"
   ]
  },
  {
   "cell_type": "code",
   "execution_count": 25,
   "metadata": {},
   "outputs": [
    {
     "data": {
      "text/plain": [
       "(1646037, 33)"
      ]
     },
     "execution_count": 25,
     "metadata": {},
     "output_type": "execute_result"
    }
   ],
   "source": [
    "quiz_by_order.shape"
   ]
  },
  {
   "cell_type": "code",
   "execution_count": 26,
   "metadata": {},
   "outputs": [
    {
     "data": {
      "text/plain": [
       "(419023, 33)"
      ]
     },
     "execution_count": 26,
     "metadata": {},
     "output_type": "execute_result"
    }
   ],
   "source": [
    "# eliminate rows with no rec\n",
    "quiz_by_order = quiz_by_order[quiz_by_order['Event Facts Recommendation 1'].notnull()]\n",
    "quiz_by_order.shape"
   ]
  },
  {
   "cell_type": "code",
   "execution_count": 27,
   "metadata": {
    "collapsed": true
   },
   "outputs": [],
   "source": [
    "quiz_by_order.fillna(0,inplace=True)"
   ]
  },
  {
   "cell_type": "code",
   "execution_count": 28,
   "metadata": {
    "collapsed": true
   },
   "outputs": [],
   "source": [
    "non_dum_cols_ond = ['Mr Order Order ID','Mr Order Items Product Code','Mr User User ID','Quiz Responses Color Differntial','Quiz Responses Color Frequency','Quiz Responses Natural Hair Level','Quiz Responses Treated Hair Level','Event Facts Recommendation 1','Event Facts Recommendation 2','Event Facts Recommendation 3','Event Facts Recommendation 4','Event Facts Recommendation 5','Event Facts Recommendation 6','Event Facts Recommendation 7','Event Facts Recommendation 8']"
   ]
  },
  {
   "cell_type": "code",
   "execution_count": 29,
   "metadata": {},
   "outputs": [
    {
     "data": {
      "text/html": [
       "<div>\n",
       "<table border=\"1\" class=\"dataframe\">\n",
       "  <thead>\n",
       "    <tr style=\"text-align: right;\">\n",
       "      <th></th>\n",
       "      <th>Mr Order Order ID</th>\n",
       "      <th>Mr User User ID</th>\n",
       "      <th>Mr Order Items Product Code</th>\n",
       "      <th>Quiz Responses Hair Tone</th>\n",
       "      <th>Quiz Responses Color Differntial</th>\n",
       "      <th>Quiz Responses Color Family</th>\n",
       "      <th>Quiz Responses Color Frequency</th>\n",
       "      <th>Quiz Responses Color Resistance</th>\n",
       "      <th>Quiz Responses Color Treated</th>\n",
       "      <th>Quiz Responses Covering Grey</th>\n",
       "      <th>...</th>\n",
       "      <th>Quiz Responses What Are You Looking to Do</th>\n",
       "      <th>Quiz Responses Final Advisor Profile</th>\n",
       "      <th>Event Facts Recommendation 1</th>\n",
       "      <th>Event Facts Recommendation 2</th>\n",
       "      <th>Event Facts Recommendation 3</th>\n",
       "      <th>Event Facts Recommendation 4</th>\n",
       "      <th>Event Facts Recommendation 5</th>\n",
       "      <th>Event Facts Recommendation 6</th>\n",
       "      <th>Event Facts Recommendation 7</th>\n",
       "      <th>Event Facts Recommendation 8</th>\n",
       "    </tr>\n",
       "  </thead>\n",
       "  <tbody>\n",
       "    <tr>\n",
       "      <th>193425</th>\n",
       "      <td>100679661</td>\n",
       "      <td>315645.0</td>\n",
       "      <td>6NAV</td>\n",
       "      <td>mahogany</td>\n",
       "      <td>0.0</td>\n",
       "      <td>brown</td>\n",
       "      <td>4.0</td>\n",
       "      <td>normal</td>\n",
       "      <td>Yes</td>\n",
       "      <td>Yes</td>\n",
       "      <td>...</td>\n",
       "      <td>0</td>\n",
       "      <td>0</td>\n",
       "      <td>6.5NNN</td>\n",
       "      <td>6NMG</td>\n",
       "      <td>6NAC</td>\n",
       "      <td>6NGV</td>\n",
       "      <td>6NAV</td>\n",
       "      <td>6NCG</td>\n",
       "      <td>6NRR</td>\n",
       "      <td>0</td>\n",
       "    </tr>\n",
       "    <tr>\n",
       "      <th>203042</th>\n",
       "      <td>100687782</td>\n",
       "      <td>416345.0</td>\n",
       "      <td>5NGM</td>\n",
       "      <td>mahogany</td>\n",
       "      <td>0.0</td>\n",
       "      <td>brown</td>\n",
       "      <td>8.0</td>\n",
       "      <td>0</td>\n",
       "      <td>Yes</td>\n",
       "      <td>Yes</td>\n",
       "      <td>...</td>\n",
       "      <td>0</td>\n",
       "      <td>0</td>\n",
       "      <td>5NGM</td>\n",
       "      <td>5NAC</td>\n",
       "      <td>5NA</td>\n",
       "      <td>5NGV</td>\n",
       "      <td>5NRM</td>\n",
       "      <td>5.5NNN</td>\n",
       "      <td>0</td>\n",
       "      <td>0</td>\n",
       "    </tr>\n",
       "    <tr>\n",
       "      <th>203043</th>\n",
       "      <td>100687782</td>\n",
       "      <td>416345.0</td>\n",
       "      <td>5NGM</td>\n",
       "      <td>mahogany</td>\n",
       "      <td>0.0</td>\n",
       "      <td>brown</td>\n",
       "      <td>8.0</td>\n",
       "      <td>0</td>\n",
       "      <td>Yes</td>\n",
       "      <td>Yes</td>\n",
       "      <td>...</td>\n",
       "      <td>0</td>\n",
       "      <td>0</td>\n",
       "      <td>5NRM</td>\n",
       "      <td>5NAC</td>\n",
       "      <td>5NA</td>\n",
       "      <td>5NGV</td>\n",
       "      <td>5NGM</td>\n",
       "      <td>5.5NNN</td>\n",
       "      <td>0</td>\n",
       "      <td>0</td>\n",
       "    </tr>\n",
       "    <tr>\n",
       "      <th>286089</th>\n",
       "      <td>100758353</td>\n",
       "      <td>593514.0</td>\n",
       "      <td>$4NA</td>\n",
       "      <td>ash</td>\n",
       "      <td>0.0</td>\n",
       "      <td>blonde</td>\n",
       "      <td>0.0</td>\n",
       "      <td>resistant</td>\n",
       "      <td>No</td>\n",
       "      <td>Yes</td>\n",
       "      <td>...</td>\n",
       "      <td>change</td>\n",
       "      <td>Profile B - Blonde High Gray</td>\n",
       "      <td>4NA</td>\n",
       "      <td>4NGV</td>\n",
       "      <td>4NMG</td>\n",
       "      <td>0</td>\n",
       "      <td>0</td>\n",
       "      <td>0</td>\n",
       "      <td>0</td>\n",
       "      <td>0</td>\n",
       "    </tr>\n",
       "    <tr>\n",
       "      <th>286092</th>\n",
       "      <td>100758353</td>\n",
       "      <td>593514.0</td>\n",
       "      <td>CRG6NA</td>\n",
       "      <td>ash</td>\n",
       "      <td>0.0</td>\n",
       "      <td>blonde</td>\n",
       "      <td>0.0</td>\n",
       "      <td>resistant</td>\n",
       "      <td>No</td>\n",
       "      <td>Yes</td>\n",
       "      <td>...</td>\n",
       "      <td>change</td>\n",
       "      <td>Profile B - Blonde High Gray</td>\n",
       "      <td>4NA</td>\n",
       "      <td>4NGV</td>\n",
       "      <td>4NMG</td>\n",
       "      <td>0</td>\n",
       "      <td>0</td>\n",
       "      <td>0</td>\n",
       "      <td>0</td>\n",
       "      <td>0</td>\n",
       "    </tr>\n",
       "  </tbody>\n",
       "</table>\n",
       "<p>5 rows × 33 columns</p>\n",
       "</div>"
      ],
      "text/plain": [
       "        Mr Order Order ID  Mr User User ID Mr Order Items Product Code  \\\n",
       "193425          100679661         315645.0                        6NAV   \n",
       "203042          100687782         416345.0                        5NGM   \n",
       "203043          100687782         416345.0                        5NGM   \n",
       "286089          100758353         593514.0                        $4NA   \n",
       "286092          100758353         593514.0                      CRG6NA   \n",
       "\n",
       "       Quiz Responses Hair Tone  Quiz Responses Color Differntial  \\\n",
       "193425                 mahogany                               0.0   \n",
       "203042                 mahogany                               0.0   \n",
       "203043                 mahogany                               0.0   \n",
       "286089                      ash                               0.0   \n",
       "286092                      ash                               0.0   \n",
       "\n",
       "       Quiz Responses Color Family  Quiz Responses Color Frequency  \\\n",
       "193425                       brown                             4.0   \n",
       "203042                       brown                             8.0   \n",
       "203043                       brown                             8.0   \n",
       "286089                      blonde                             0.0   \n",
       "286092                      blonde                             0.0   \n",
       "\n",
       "       Quiz Responses Color Resistance Quiz Responses Color Treated  \\\n",
       "193425                          normal                          Yes   \n",
       "203042                               0                          Yes   \n",
       "203043                               0                          Yes   \n",
       "286089                       resistant                           No   \n",
       "286092                       resistant                           No   \n",
       "\n",
       "       Quiz Responses Covering Grey             ...               \\\n",
       "193425                          Yes             ...                \n",
       "203042                          Yes             ...                \n",
       "203043                          Yes             ...                \n",
       "286089                          Yes             ...                \n",
       "286092                          Yes             ...                \n",
       "\n",
       "       Quiz Responses What Are You Looking to Do  \\\n",
       "193425                                         0   \n",
       "203042                                         0   \n",
       "203043                                         0   \n",
       "286089                                    change   \n",
       "286092                                    change   \n",
       "\n",
       "       Quiz Responses Final Advisor Profile Event Facts Recommendation 1  \\\n",
       "193425                                    0                       6.5NNN   \n",
       "203042                                    0                         5NGM   \n",
       "203043                                    0                         5NRM   \n",
       "286089         Profile B - Blonde High Gray                          4NA   \n",
       "286092         Profile B - Blonde High Gray                          4NA   \n",
       "\n",
       "       Event Facts Recommendation 2 Event Facts Recommendation 3  \\\n",
       "193425                         6NMG                         6NAC   \n",
       "203042                         5NAC                          5NA   \n",
       "203043                         5NAC                          5NA   \n",
       "286089                         4NGV                         4NMG   \n",
       "286092                         4NGV                         4NMG   \n",
       "\n",
       "       Event Facts Recommendation 4 Event Facts Recommendation 5  \\\n",
       "193425                         6NGV                         6NAV   \n",
       "203042                         5NGV                         5NRM   \n",
       "203043                         5NGV                         5NGM   \n",
       "286089                            0                            0   \n",
       "286092                            0                            0   \n",
       "\n",
       "       Event Facts Recommendation 6  Event Facts Recommendation 7  \\\n",
       "193425                         6NCG                          6NRR   \n",
       "203042                       5.5NNN                             0   \n",
       "203043                       5.5NNN                             0   \n",
       "286089                            0                             0   \n",
       "286092                            0                             0   \n",
       "\n",
       "       Event Facts Recommendation 8  \n",
       "193425                            0  \n",
       "203042                            0  \n",
       "203043                            0  \n",
       "286089                            0  \n",
       "286092                            0  \n",
       "\n",
       "[5 rows x 33 columns]"
      ]
     },
     "execution_count": 29,
     "metadata": {},
     "output_type": "execute_result"
    }
   ],
   "source": [
    "quiz_by_order.head()"
   ]
  },
  {
   "cell_type": "code",
   "execution_count": 30,
   "metadata": {
    "collapsed": true
   },
   "outputs": [],
   "source": [
    "joined_no_dum_quiz = first_order.merge(quiz_by_order, on='Mr Order Order ID', how='left')"
   ]
  },
  {
   "cell_type": "code",
   "execution_count": 31,
   "metadata": {
    "collapsed": true
   },
   "outputs": [],
   "source": [
    "order_count = quiz_by_order['Quiz Responses Color Family'].value_counts().to_dict()\n",
    "\n",
    "ond_count = joined_no_dum_quiz[joined_no_dum_quiz['User Order Facts Lifetime Orders']==1]['Quiz Responses Color Family'].value_counts().to_dict()"
   ]
  },
  {
   "cell_type": "code",
   "execution_count": 32,
   "metadata": {
    "collapsed": true
   },
   "outputs": [],
   "source": [
    "#rec_purchased = pd.DataFrame.from_dict([otb_rec_purchased, notb_rec_purchased])\n",
    "\n",
    "\n",
    "color = pd.DataFrame.from_dict([order_count,ond_count])"
   ]
  },
  {
   "cell_type": "code",
   "execution_count": 33,
   "metadata": {},
   "outputs": [
    {
     "data": {
      "text/html": [
       "<div>\n",
       "<table border=\"1\" class=\"dataframe\">\n",
       "  <thead>\n",
       "    <tr style=\"text-align: right;\">\n",
       "      <th></th>\n",
       "      <th>0</th>\n",
       "      <th>black</th>\n",
       "      <th>blonde</th>\n",
       "      <th>brown</th>\n",
       "      <th>red</th>\n",
       "    </tr>\n",
       "  </thead>\n",
       "  <tbody>\n",
       "    <tr>\n",
       "      <th>0</th>\n",
       "      <td>1053</td>\n",
       "      <td>36518</td>\n",
       "      <td>71358</td>\n",
       "      <td>263629</td>\n",
       "      <td>46465</td>\n",
       "    </tr>\n",
       "    <tr>\n",
       "      <th>1</th>\n",
       "      <td>184</td>\n",
       "      <td>4796</td>\n",
       "      <td>10912</td>\n",
       "      <td>31030</td>\n",
       "      <td>4702</td>\n",
       "    </tr>\n",
       "  </tbody>\n",
       "</table>\n",
       "</div>"
      ],
      "text/plain": [
       "      0  black  blonde   brown    red\n",
       "0  1053  36518   71358  263629  46465\n",
       "1   184   4796   10912   31030   4702"
      ]
     },
     "execution_count": 33,
     "metadata": {},
     "output_type": "execute_result"
    }
   ],
   "source": [
    "color.head()"
   ]
  },
  {
   "cell_type": "code",
   "execution_count": 34,
   "metadata": {},
   "outputs": [
    {
     "data": {
      "text/plain": [
       "0         0.174739\n",
       "black     0.131332\n",
       "blonde    0.152919\n",
       "brown     0.117703\n",
       "red       0.101194\n",
       "dtype: float64"
      ]
     },
     "execution_count": 34,
     "metadata": {},
     "output_type": "execute_result"
    }
   ],
   "source": [
    "color.iloc[1,:]/color.iloc[0,:]"
   ]
  },
  {
   "cell_type": "markdown",
   "metadata": {},
   "source": [
    "we see that blondes seeem to have a higher rate than brunettes for being one and done customers. Black has the second highest rate. this makes somewhat logical sense because according to Madison Reed, they often have trouble creating products that create drastic color changes. Blonds and Black haired women are on the extreme ends of hair coloring and the results may not be as dramatic as the user wished"
   ]
  },
  {
   "cell_type": "code",
   "execution_count": 35,
   "metadata": {
    "collapsed": true
   },
   "outputs": [],
   "source": [
    "dum_cols = []\n",
    "for col in quiz_by_order.columns:\n",
    "    if col not in non_dum_cols_ond:\n",
    "        dum_cols.append(col)"
   ]
  },
  {
   "cell_type": "code",
   "execution_count": 36,
   "metadata": {
    "collapsed": true
   },
   "outputs": [],
   "source": [
    "quiz_by_order = pd.get_dummies(data=quiz_by_order, columns=dum_cols)"
   ]
  },
  {
   "cell_type": "code",
   "execution_count": 37,
   "metadata": {},
   "outputs": [
    {
     "data": {
      "text/plain": [
       "(419023, 99)"
      ]
     },
     "execution_count": 37,
     "metadata": {},
     "output_type": "execute_result"
    }
   ],
   "source": [
    "quiz_by_order.shape"
   ]
  },
  {
   "cell_type": "code",
   "execution_count": 38,
   "metadata": {
    "collapsed": true
   },
   "outputs": [],
   "source": [
    "quiz_by_order = quiz_by_order.drop_duplicates(subset=['Mr Order Order ID'])\n"
   ]
  },
  {
   "cell_type": "code",
   "execution_count": 39,
   "metadata": {},
   "outputs": [
    {
     "data": {
      "text/plain": [
       " 0.0    134454\n",
       " 1.0     34484\n",
       "-1.0     18692\n",
       " 2.0     16189\n",
       " 3.0      8209\n",
       "-2.0      4726\n",
       " 4.0      3276\n",
       "-3.0      1508\n",
       " 5.0       820\n",
       "-4.0       537\n",
       " 6.0       226\n",
       "-5.0       153\n",
       " 7.0        89\n",
       "-6.0        77\n",
       " 8.0        17\n",
       "-7.0        16\n",
       "-8.0         1\n",
       "Name: Quiz Responses Color Differntial, dtype: int64"
      ]
     },
     "execution_count": 39,
     "metadata": {},
     "output_type": "execute_result"
    }
   ],
   "source": [
    "quiz_by_order['Quiz Responses Color Differntial'].value_counts()"
   ]
  },
  {
   "cell_type": "code",
   "execution_count": 40,
   "metadata": {},
   "outputs": [
    {
     "data": {
      "text/plain": [
       "(137546, 112)"
      ]
     },
     "execution_count": 40,
     "metadata": {},
     "output_type": "execute_result"
    }
   ],
   "source": [
    "joined = first_order.merge(quiz_by_order, on='Mr Order Order ID', how='left')\n",
    "joined.shape"
   ]
  },
  {
   "cell_type": "code",
   "execution_count": 41,
   "metadata": {
    "collapsed": true
   },
   "outputs": [],
   "source": [
    "# eliminate rows with no rec again\n",
    "joined = joined[joined['Event Facts Recommendation 1'].notnull()]"
   ]
  },
  {
   "cell_type": "code",
   "execution_count": 42,
   "metadata": {},
   "outputs": [
    {
     "data": {
      "text/html": [
       "<div>\n",
       "<table border=\"1\" class=\"dataframe\">\n",
       "  <thead>\n",
       "    <tr style=\"text-align: right;\">\n",
       "      <th></th>\n",
       "      <th>Mr User User ID_x</th>\n",
       "      <th>Product(s) Purchased</th>\n",
       "      <th>Mr Order Order ID</th>\n",
       "      <th>User Order Facts Lifetime Orders</th>\n",
       "      <th>Num Items Purchased</th>\n",
       "      <th>Purchased Accessory Kit</th>\n",
       "      <th>User Order Facts First Order Type_subscription</th>\n",
       "      <th>Mr User Age Tier_18 to 24</th>\n",
       "      <th>Mr User Age Tier_25 to 34</th>\n",
       "      <th>Mr User Age Tier_35 to 44</th>\n",
       "      <th>...</th>\n",
       "      <th>Quiz Responses What Are You Looking to Do_not_sure</th>\n",
       "      <th>Quiz Responses What Are You Looking to Do_touch_up</th>\n",
       "      <th>Quiz Responses Final Advisor Profile_0</th>\n",
       "      <th>Quiz Responses Final Advisor Profile_Profile A - Blonde Low Gray</th>\n",
       "      <th>Quiz Responses Final Advisor Profile_Profile B - Blonde High Gray</th>\n",
       "      <th>Quiz Responses Final Advisor Profile_Profile D Brunette Low Gray</th>\n",
       "      <th>Quiz Responses Final Advisor Profile_Profile E Brunette High Gray</th>\n",
       "      <th>Quiz Responses Final Advisor Profile_Profile F Brunette Go Darker</th>\n",
       "      <th>Quiz Responses Final Advisor Profile_Profile G Warm Brunette</th>\n",
       "      <th>Quiz Responses Final Advisor Profile_Profile J Brunette Resistant High Gray</th>\n",
       "    </tr>\n",
       "  </thead>\n",
       "  <tbody>\n",
       "    <tr>\n",
       "      <th>0</th>\n",
       "      <td>2796.0</td>\n",
       "      <td>[9NGV]</td>\n",
       "      <td>100900090</td>\n",
       "      <td>1</td>\n",
       "      <td>1</td>\n",
       "      <td>0</td>\n",
       "      <td>0.0</td>\n",
       "      <td>0.0</td>\n",
       "      <td>0.0</td>\n",
       "      <td>0.0</td>\n",
       "      <td>...</td>\n",
       "      <td>0.0</td>\n",
       "      <td>0.0</td>\n",
       "      <td>1.0</td>\n",
       "      <td>0.0</td>\n",
       "      <td>0.0</td>\n",
       "      <td>0.0</td>\n",
       "      <td>0.0</td>\n",
       "      <td>0.0</td>\n",
       "      <td>0.0</td>\n",
       "      <td>0.0</td>\n",
       "    </tr>\n",
       "    <tr>\n",
       "      <th>3</th>\n",
       "      <td>26990.0</td>\n",
       "      <td>[5NRM]</td>\n",
       "      <td>100838508</td>\n",
       "      <td>2</td>\n",
       "      <td>1</td>\n",
       "      <td>0</td>\n",
       "      <td>0.0</td>\n",
       "      <td>0.0</td>\n",
       "      <td>0.0</td>\n",
       "      <td>0.0</td>\n",
       "      <td>...</td>\n",
       "      <td>0.0</td>\n",
       "      <td>0.0</td>\n",
       "      <td>1.0</td>\n",
       "      <td>0.0</td>\n",
       "      <td>0.0</td>\n",
       "      <td>0.0</td>\n",
       "      <td>0.0</td>\n",
       "      <td>0.0</td>\n",
       "      <td>0.0</td>\n",
       "      <td>0.0</td>\n",
       "    </tr>\n",
       "    <tr>\n",
       "      <th>8</th>\n",
       "      <td>76208.0</td>\n",
       "      <td>[CRG7GM, 6NMG]</td>\n",
       "      <td>100841416</td>\n",
       "      <td>2</td>\n",
       "      <td>2</td>\n",
       "      <td>0</td>\n",
       "      <td>0.0</td>\n",
       "      <td>0.0</td>\n",
       "      <td>0.0</td>\n",
       "      <td>0.0</td>\n",
       "      <td>...</td>\n",
       "      <td>0.0</td>\n",
       "      <td>0.0</td>\n",
       "      <td>1.0</td>\n",
       "      <td>0.0</td>\n",
       "      <td>0.0</td>\n",
       "      <td>0.0</td>\n",
       "      <td>0.0</td>\n",
       "      <td>0.0</td>\n",
       "      <td>0.0</td>\n",
       "      <td>0.0</td>\n",
       "    </tr>\n",
       "    <tr>\n",
       "      <th>9</th>\n",
       "      <td>86140.0</td>\n",
       "      <td>[5NGV, 41000]</td>\n",
       "      <td>101084661</td>\n",
       "      <td>11</td>\n",
       "      <td>2</td>\n",
       "      <td>1</td>\n",
       "      <td>1.0</td>\n",
       "      <td>0.0</td>\n",
       "      <td>0.0</td>\n",
       "      <td>0.0</td>\n",
       "      <td>...</td>\n",
       "      <td>0.0</td>\n",
       "      <td>0.0</td>\n",
       "      <td>1.0</td>\n",
       "      <td>0.0</td>\n",
       "      <td>0.0</td>\n",
       "      <td>0.0</td>\n",
       "      <td>0.0</td>\n",
       "      <td>0.0</td>\n",
       "      <td>0.0</td>\n",
       "      <td>0.0</td>\n",
       "    </tr>\n",
       "    <tr>\n",
       "      <th>13</th>\n",
       "      <td>132208.0</td>\n",
       "      <td>[2NAA, 41000, cclegno]</td>\n",
       "      <td>100928525</td>\n",
       "      <td>9</td>\n",
       "      <td>3</td>\n",
       "      <td>1</td>\n",
       "      <td>1.0</td>\n",
       "      <td>0.0</td>\n",
       "      <td>0.0</td>\n",
       "      <td>0.0</td>\n",
       "      <td>...</td>\n",
       "      <td>0.0</td>\n",
       "      <td>0.0</td>\n",
       "      <td>1.0</td>\n",
       "      <td>0.0</td>\n",
       "      <td>0.0</td>\n",
       "      <td>0.0</td>\n",
       "      <td>0.0</td>\n",
       "      <td>0.0</td>\n",
       "      <td>0.0</td>\n",
       "      <td>0.0</td>\n",
       "    </tr>\n",
       "  </tbody>\n",
       "</table>\n",
       "<p>5 rows × 112 columns</p>\n",
       "</div>"
      ],
      "text/plain": [
       "    Mr User User ID_x    Product(s) Purchased  Mr Order Order ID  \\\n",
       "0              2796.0                  [9NGV]          100900090   \n",
       "3             26990.0                  [5NRM]          100838508   \n",
       "8             76208.0          [CRG7GM, 6NMG]          100841416   \n",
       "9             86140.0           [5NGV, 41000]          101084661   \n",
       "13           132208.0  [2NAA, 41000, cclegno]          100928525   \n",
       "\n",
       "    User Order Facts Lifetime Orders  Num Items Purchased  \\\n",
       "0                                  1                    1   \n",
       "3                                  2                    1   \n",
       "8                                  2                    2   \n",
       "9                                 11                    2   \n",
       "13                                 9                    3   \n",
       "\n",
       "    Purchased Accessory Kit  User Order Facts First Order Type_subscription  \\\n",
       "0                         0                                             0.0   \n",
       "3                         0                                             0.0   \n",
       "8                         0                                             0.0   \n",
       "9                         1                                             1.0   \n",
       "13                        1                                             1.0   \n",
       "\n",
       "    Mr User Age Tier_18 to 24  Mr User Age Tier_25 to 34  \\\n",
       "0                         0.0                        0.0   \n",
       "3                         0.0                        0.0   \n",
       "8                         0.0                        0.0   \n",
       "9                         0.0                        0.0   \n",
       "13                        0.0                        0.0   \n",
       "\n",
       "    Mr User Age Tier_35 to 44  \\\n",
       "0                         0.0   \n",
       "3                         0.0   \n",
       "8                         0.0   \n",
       "9                         0.0   \n",
       "13                        0.0   \n",
       "\n",
       "                                       ...                                       \\\n",
       "0                                      ...                                        \n",
       "3                                      ...                                        \n",
       "8                                      ...                                        \n",
       "9                                      ...                                        \n",
       "13                                     ...                                        \n",
       "\n",
       "    Quiz Responses What Are You Looking to Do_not_sure  \\\n",
       "0                                                 0.0    \n",
       "3                                                 0.0    \n",
       "8                                                 0.0    \n",
       "9                                                 0.0    \n",
       "13                                                0.0    \n",
       "\n",
       "    Quiz Responses What Are You Looking to Do_touch_up  \\\n",
       "0                                                 0.0    \n",
       "3                                                 0.0    \n",
       "8                                                 0.0    \n",
       "9                                                 0.0    \n",
       "13                                                0.0    \n",
       "\n",
       "    Quiz Responses Final Advisor Profile_0  \\\n",
       "0                                      1.0   \n",
       "3                                      1.0   \n",
       "8                                      1.0   \n",
       "9                                      1.0   \n",
       "13                                     1.0   \n",
       "\n",
       "    Quiz Responses Final Advisor Profile_Profile A - Blonde Low Gray  \\\n",
       "0                                                 0.0                  \n",
       "3                                                 0.0                  \n",
       "8                                                 0.0                  \n",
       "9                                                 0.0                  \n",
       "13                                                0.0                  \n",
       "\n",
       "    Quiz Responses Final Advisor Profile_Profile B - Blonde High Gray  \\\n",
       "0                                                 0.0                   \n",
       "3                                                 0.0                   \n",
       "8                                                 0.0                   \n",
       "9                                                 0.0                   \n",
       "13                                                0.0                   \n",
       "\n",
       "   Quiz Responses Final Advisor Profile_Profile D Brunette Low Gray  \\\n",
       "0                                                 0.0                 \n",
       "3                                                 0.0                 \n",
       "8                                                 0.0                 \n",
       "9                                                 0.0                 \n",
       "13                                                0.0                 \n",
       "\n",
       "    Quiz Responses Final Advisor Profile_Profile E Brunette High Gray  \\\n",
       "0                                                 0.0                   \n",
       "3                                                 0.0                   \n",
       "8                                                 0.0                   \n",
       "9                                                 0.0                   \n",
       "13                                                0.0                   \n",
       "\n",
       "    Quiz Responses Final Advisor Profile_Profile F Brunette Go Darker  \\\n",
       "0                                                 0.0                   \n",
       "3                                                 0.0                   \n",
       "8                                                 0.0                   \n",
       "9                                                 0.0                   \n",
       "13                                                0.0                   \n",
       "\n",
       "    Quiz Responses Final Advisor Profile_Profile G Warm Brunette  \\\n",
       "0                                                 0.0              \n",
       "3                                                 0.0              \n",
       "8                                                 0.0              \n",
       "9                                                 0.0              \n",
       "13                                                0.0              \n",
       "\n",
       "    Quiz Responses Final Advisor Profile_Profile J Brunette Resistant High Gray  \n",
       "0                                                 0.0                            \n",
       "3                                                 0.0                            \n",
       "8                                                 0.0                            \n",
       "9                                                 0.0                            \n",
       "13                                                0.0                            \n",
       "\n",
       "[5 rows x 112 columns]"
      ]
     },
     "execution_count": 42,
     "metadata": {},
     "output_type": "execute_result"
    }
   ],
   "source": [
    "joined.head()"
   ]
  },
  {
   "cell_type": "code",
   "execution_count": null,
   "metadata": {
    "collapsed": true
   },
   "outputs": [],
   "source": []
  },
  {
   "cell_type": "code",
   "execution_count": 43,
   "metadata": {
    "collapsed": true
   },
   "outputs": [],
   "source": [
    "# was for when analysis was done on product level\n",
    "# exclude_purchased_rows = joined['Mr Order Items Product Code_x'].str.contains('^cc')\n",
    "# joined = joined[~exclude_purchased_rows]"
   ]
  },
  {
   "cell_type": "code",
   "execution_count": 44,
   "metadata": {},
   "outputs": [
    {
     "data": {
      "text/plain": [
       "(65585, 112)"
      ]
     },
     "execution_count": 44,
     "metadata": {},
     "output_type": "execute_result"
    }
   ],
   "source": [
    "joined.shape"
   ]
  },
  {
   "cell_type": "code",
   "execution_count": 45,
   "metadata": {
    "collapsed": true
   },
   "outputs": [],
   "source": [
    "joined.drop(['Mr User User ID_y','Mr Order Items Product Code'],axis=1, inplace=True)"
   ]
  },
  {
   "cell_type": "code",
   "execution_count": 46,
   "metadata": {
    "collapsed": true
   },
   "outputs": [],
   "source": [
    "def check_recs(x):\n",
    "    x = x.values.tolist()\n",
    "    pur_set = x[0]\n",
    "    rec_set = x[1:]\n",
    "    #rec_set = set(rec_set)\n",
    "    #if any([item for item in pur_set if item in rec_set]):\n",
    "    return any([item for item in pur_set if item in rec_set])"
   ]
  },
  {
   "cell_type": "code",
   "execution_count": 47,
   "metadata": {
    "collapsed": true
   },
   "outputs": [],
   "source": [
    "rec_colums_1 = ['Product(s) Purchased','Event Facts Recommendation 1']\n",
    "rec_colums_2 = ['Product(s) Purchased','Event Facts Recommendation 1','Event Facts Recommendation 2']\n",
    "rec_colums_3 = ['Product(s) Purchased','Event Facts Recommendation 1','Event Facts Recommendation 2','Event Facts Recommendation 3']\n",
    "rec_colums_4 = ['Product(s) Purchased','Event Facts Recommendation 1','Event Facts Recommendation 2','Event Facts Recommendation 3','Event Facts Recommendation 4']\n",
    "rec_colums_5 = ['Product(s) Purchased','Event Facts Recommendation 1','Event Facts Recommendation 2','Event Facts Recommendation 3','Event Facts Recommendation 4','Event Facts Recommendation 5']\n",
    "rec_colums_6 = ['Product(s) Purchased','Event Facts Recommendation 1','Event Facts Recommendation 2','Event Facts Recommendation 3','Event Facts Recommendation 4','Event Facts Recommendation 5','Event Facts Recommendation 6']\n",
    "rec_colums_7 = ['Product(s) Purchased','Event Facts Recommendation 1','Event Facts Recommendation 2','Event Facts Recommendation 3','Event Facts Recommendation 4','Event Facts Recommendation 5','Event Facts Recommendation 6','Event Facts Recommendation 7']\n",
    "rec_colums_8 = ['Product(s) Purchased','Event Facts Recommendation 1','Event Facts Recommendation 2','Event Facts Recommendation 3','Event Facts Recommendation 4','Event Facts Recommendation 5','Event Facts Recommendation 6','Event Facts Recommendation 7','Event Facts Recommendation 8']"
   ]
  },
  {
   "cell_type": "code",
   "execution_count": 48,
   "metadata": {
    "collapsed": true
   },
   "outputs": [],
   "source": [
    "rec_colum_1 = ['Product(s) Purchased','Event Facts Recommendation 1']\n",
    "rec_colum_2 = ['Product(s) Purchased','Event Facts Recommendation 2']\n",
    "rec_colum_3 = ['Product(s) Purchased','Event Facts Recommendation 3']\n",
    "rec_colum_4 = ['Product(s) Purchased','Event Facts Recommendation 4']\n",
    "rec_colum_5 = ['Product(s) Purchased','Event Facts Recommendation 5']\n",
    "rec_colum_6 = ['Product(s) Purchased','Event Facts Recommendation 6']\n",
    "rec_colum_7 = ['Product(s) Purchased','Event Facts Recommendation 7']\n",
    "rec_colum_8 = ['Product(s) Purchased','Event Facts Recommendation 8']"
   ]
  },
  {
   "cell_type": "code",
   "execution_count": 49,
   "metadata": {},
   "outputs": [
    {
     "data": {
      "text/plain": [
       "0       False\n",
       "3       False\n",
       "8       False\n",
       "9       False\n",
       "13      False\n",
       "23      False\n",
       "47       True\n",
       "685     False\n",
       "1135    False\n",
       "1516    False\n",
       "dtype: bool"
      ]
     },
     "execution_count": 49,
     "metadata": {},
     "output_type": "execute_result"
    }
   ],
   "source": [
    "joined[rec_colums_1].iloc[0:10].apply(check_recs, axis = 1)"
   ]
  },
  {
   "cell_type": "code",
   "execution_count": 50,
   "metadata": {},
   "outputs": [
    {
     "data": {
      "text/html": [
       "<div>\n",
       "<table border=\"1\" class=\"dataframe\">\n",
       "  <thead>\n",
       "    <tr style=\"text-align: right;\">\n",
       "      <th></th>\n",
       "      <th>Mr User User ID_x</th>\n",
       "      <th>Product(s) Purchased</th>\n",
       "      <th>Mr Order Order ID</th>\n",
       "      <th>User Order Facts Lifetime Orders</th>\n",
       "      <th>Num Items Purchased</th>\n",
       "      <th>Purchased Accessory Kit</th>\n",
       "      <th>User Order Facts First Order Type_subscription</th>\n",
       "      <th>Mr User Age Tier_18 to 24</th>\n",
       "      <th>Mr User Age Tier_25 to 34</th>\n",
       "      <th>Mr User Age Tier_35 to 44</th>\n",
       "      <th>...</th>\n",
       "      <th>Quiz Responses What Are You Looking to Do_not_sure</th>\n",
       "      <th>Quiz Responses What Are You Looking to Do_touch_up</th>\n",
       "      <th>Quiz Responses Final Advisor Profile_0</th>\n",
       "      <th>Quiz Responses Final Advisor Profile_Profile A - Blonde Low Gray</th>\n",
       "      <th>Quiz Responses Final Advisor Profile_Profile B - Blonde High Gray</th>\n",
       "      <th>Quiz Responses Final Advisor Profile_Profile D Brunette Low Gray</th>\n",
       "      <th>Quiz Responses Final Advisor Profile_Profile E Brunette High Gray</th>\n",
       "      <th>Quiz Responses Final Advisor Profile_Profile F Brunette Go Darker</th>\n",
       "      <th>Quiz Responses Final Advisor Profile_Profile G Warm Brunette</th>\n",
       "      <th>Quiz Responses Final Advisor Profile_Profile J Brunette Resistant High Gray</th>\n",
       "    </tr>\n",
       "  </thead>\n",
       "  <tbody>\n",
       "    <tr>\n",
       "      <th>0</th>\n",
       "      <td>2796.0</td>\n",
       "      <td>[9NGV]</td>\n",
       "      <td>100900090</td>\n",
       "      <td>1</td>\n",
       "      <td>1</td>\n",
       "      <td>0</td>\n",
       "      <td>0.0</td>\n",
       "      <td>0.0</td>\n",
       "      <td>0.0</td>\n",
       "      <td>0.0</td>\n",
       "      <td>...</td>\n",
       "      <td>0.0</td>\n",
       "      <td>0.0</td>\n",
       "      <td>1.0</td>\n",
       "      <td>0.0</td>\n",
       "      <td>0.0</td>\n",
       "      <td>0.0</td>\n",
       "      <td>0.0</td>\n",
       "      <td>0.0</td>\n",
       "      <td>0.0</td>\n",
       "      <td>0.0</td>\n",
       "    </tr>\n",
       "    <tr>\n",
       "      <th>3</th>\n",
       "      <td>26990.0</td>\n",
       "      <td>[5NRM]</td>\n",
       "      <td>100838508</td>\n",
       "      <td>2</td>\n",
       "      <td>1</td>\n",
       "      <td>0</td>\n",
       "      <td>0.0</td>\n",
       "      <td>0.0</td>\n",
       "      <td>0.0</td>\n",
       "      <td>0.0</td>\n",
       "      <td>...</td>\n",
       "      <td>0.0</td>\n",
       "      <td>0.0</td>\n",
       "      <td>1.0</td>\n",
       "      <td>0.0</td>\n",
       "      <td>0.0</td>\n",
       "      <td>0.0</td>\n",
       "      <td>0.0</td>\n",
       "      <td>0.0</td>\n",
       "      <td>0.0</td>\n",
       "      <td>0.0</td>\n",
       "    </tr>\n",
       "    <tr>\n",
       "      <th>8</th>\n",
       "      <td>76208.0</td>\n",
       "      <td>[CRG7GM, 6NMG]</td>\n",
       "      <td>100841416</td>\n",
       "      <td>2</td>\n",
       "      <td>2</td>\n",
       "      <td>0</td>\n",
       "      <td>0.0</td>\n",
       "      <td>0.0</td>\n",
       "      <td>0.0</td>\n",
       "      <td>0.0</td>\n",
       "      <td>...</td>\n",
       "      <td>0.0</td>\n",
       "      <td>0.0</td>\n",
       "      <td>1.0</td>\n",
       "      <td>0.0</td>\n",
       "      <td>0.0</td>\n",
       "      <td>0.0</td>\n",
       "      <td>0.0</td>\n",
       "      <td>0.0</td>\n",
       "      <td>0.0</td>\n",
       "      <td>0.0</td>\n",
       "    </tr>\n",
       "    <tr>\n",
       "      <th>9</th>\n",
       "      <td>86140.0</td>\n",
       "      <td>[5NGV, 41000]</td>\n",
       "      <td>101084661</td>\n",
       "      <td>11</td>\n",
       "      <td>2</td>\n",
       "      <td>1</td>\n",
       "      <td>1.0</td>\n",
       "      <td>0.0</td>\n",
       "      <td>0.0</td>\n",
       "      <td>0.0</td>\n",
       "      <td>...</td>\n",
       "      <td>0.0</td>\n",
       "      <td>0.0</td>\n",
       "      <td>1.0</td>\n",
       "      <td>0.0</td>\n",
       "      <td>0.0</td>\n",
       "      <td>0.0</td>\n",
       "      <td>0.0</td>\n",
       "      <td>0.0</td>\n",
       "      <td>0.0</td>\n",
       "      <td>0.0</td>\n",
       "    </tr>\n",
       "    <tr>\n",
       "      <th>13</th>\n",
       "      <td>132208.0</td>\n",
       "      <td>[2NAA, 41000, cclegno]</td>\n",
       "      <td>100928525</td>\n",
       "      <td>9</td>\n",
       "      <td>3</td>\n",
       "      <td>1</td>\n",
       "      <td>1.0</td>\n",
       "      <td>0.0</td>\n",
       "      <td>0.0</td>\n",
       "      <td>0.0</td>\n",
       "      <td>...</td>\n",
       "      <td>0.0</td>\n",
       "      <td>0.0</td>\n",
       "      <td>1.0</td>\n",
       "      <td>0.0</td>\n",
       "      <td>0.0</td>\n",
       "      <td>0.0</td>\n",
       "      <td>0.0</td>\n",
       "      <td>0.0</td>\n",
       "      <td>0.0</td>\n",
       "      <td>0.0</td>\n",
       "    </tr>\n",
       "  </tbody>\n",
       "</table>\n",
       "<p>5 rows × 110 columns</p>\n",
       "</div>"
      ],
      "text/plain": [
       "    Mr User User ID_x    Product(s) Purchased  Mr Order Order ID  \\\n",
       "0              2796.0                  [9NGV]          100900090   \n",
       "3             26990.0                  [5NRM]          100838508   \n",
       "8             76208.0          [CRG7GM, 6NMG]          100841416   \n",
       "9             86140.0           [5NGV, 41000]          101084661   \n",
       "13           132208.0  [2NAA, 41000, cclegno]          100928525   \n",
       "\n",
       "    User Order Facts Lifetime Orders  Num Items Purchased  \\\n",
       "0                                  1                    1   \n",
       "3                                  2                    1   \n",
       "8                                  2                    2   \n",
       "9                                 11                    2   \n",
       "13                                 9                    3   \n",
       "\n",
       "    Purchased Accessory Kit  User Order Facts First Order Type_subscription  \\\n",
       "0                         0                                             0.0   \n",
       "3                         0                                             0.0   \n",
       "8                         0                                             0.0   \n",
       "9                         1                                             1.0   \n",
       "13                        1                                             1.0   \n",
       "\n",
       "    Mr User Age Tier_18 to 24  Mr User Age Tier_25 to 34  \\\n",
       "0                         0.0                        0.0   \n",
       "3                         0.0                        0.0   \n",
       "8                         0.0                        0.0   \n",
       "9                         0.0                        0.0   \n",
       "13                        0.0                        0.0   \n",
       "\n",
       "    Mr User Age Tier_35 to 44  \\\n",
       "0                         0.0   \n",
       "3                         0.0   \n",
       "8                         0.0   \n",
       "9                         0.0   \n",
       "13                        0.0   \n",
       "\n",
       "                                       ...                                      \\\n",
       "0                                      ...                                       \n",
       "3                                      ...                                       \n",
       "8                                      ...                                       \n",
       "9                                      ...                                       \n",
       "13                                     ...                                       \n",
       "\n",
       "    Quiz Responses What Are You Looking to Do_not_sure  \\\n",
       "0                                                 0.0    \n",
       "3                                                 0.0    \n",
       "8                                                 0.0    \n",
       "9                                                 0.0    \n",
       "13                                                0.0    \n",
       "\n",
       "    Quiz Responses What Are You Looking to Do_touch_up  \\\n",
       "0                                                 0.0    \n",
       "3                                                 0.0    \n",
       "8                                                 0.0    \n",
       "9                                                 0.0    \n",
       "13                                                0.0    \n",
       "\n",
       "    Quiz Responses Final Advisor Profile_0  \\\n",
       "0                                      1.0   \n",
       "3                                      1.0   \n",
       "8                                      1.0   \n",
       "9                                      1.0   \n",
       "13                                     1.0   \n",
       "\n",
       "    Quiz Responses Final Advisor Profile_Profile A - Blonde Low Gray  \\\n",
       "0                                                 0.0                  \n",
       "3                                                 0.0                  \n",
       "8                                                 0.0                  \n",
       "9                                                 0.0                  \n",
       "13                                                0.0                  \n",
       "\n",
       "    Quiz Responses Final Advisor Profile_Profile B - Blonde High Gray  \\\n",
       "0                                                 0.0                   \n",
       "3                                                 0.0                   \n",
       "8                                                 0.0                   \n",
       "9                                                 0.0                   \n",
       "13                                                0.0                   \n",
       "\n",
       "    Quiz Responses Final Advisor Profile_Profile D Brunette Low Gray  \\\n",
       "0                                                 0.0                  \n",
       "3                                                 0.0                  \n",
       "8                                                 0.0                  \n",
       "9                                                 0.0                  \n",
       "13                                                0.0                  \n",
       "\n",
       "    Quiz Responses Final Advisor Profile_Profile E Brunette High Gray  \\\n",
       "0                                                 0.0                   \n",
       "3                                                 0.0                   \n",
       "8                                                 0.0                   \n",
       "9                                                 0.0                   \n",
       "13                                                0.0                   \n",
       "\n",
       "    Quiz Responses Final Advisor Profile_Profile F Brunette Go Darker  \\\n",
       "0                                                 0.0                   \n",
       "3                                                 0.0                   \n",
       "8                                                 0.0                   \n",
       "9                                                 0.0                   \n",
       "13                                                0.0                   \n",
       "\n",
       "   Quiz Responses Final Advisor Profile_Profile G Warm Brunette  \\\n",
       "0                                                 0.0             \n",
       "3                                                 0.0             \n",
       "8                                                 0.0             \n",
       "9                                                 0.0             \n",
       "13                                                0.0             \n",
       "\n",
       "   Quiz Responses Final Advisor Profile_Profile J Brunette Resistant High Gray  \n",
       "0                                                 0.0                           \n",
       "3                                                 0.0                           \n",
       "8                                                 0.0                           \n",
       "9                                                 0.0                           \n",
       "13                                                0.0                           \n",
       "\n",
       "[5 rows x 110 columns]"
      ]
     },
     "execution_count": 50,
     "metadata": {},
     "output_type": "execute_result"
    }
   ],
   "source": [
    "joined.head()"
   ]
  },
  {
   "cell_type": "code",
   "execution_count": 51,
   "metadata": {},
   "outputs": [
    {
     "name": "stdout",
     "output_type": "stream",
     "text": [
      "0.518304490356\n",
      "0.659159868872\n",
      "0.731478234352\n",
      "0.773728748952\n",
      "0.798322787223\n",
      "0.812045437219\n",
      "0.816833117329\n",
      "0.820187542883\n"
     ]
    },
    {
     "data": {
      "image/png": "[encoded data removed]",
      "text/plain": [
       "<matplotlib.figure.Figure at 0x115ba0090>"
      ]
     },
     "metadata": {},
     "output_type": "display_data"
    },
    {
     "data": {
      "text/plain": [
       "<Container object of 8 artists>"
      ]
     },
     "execution_count": 51,
     "metadata": {},
     "output_type": "execute_result"
    },
    {
     "data": {
      "image/png": "[encoded data removed]",
      "text/plain": [
       "<matplotlib.figure.Figure at 0x112644890>"
      ]
     },
     "metadata": {},
     "output_type": "display_data"
    }
   ],
   "source": [
    "joined['Bought_top_1_Rec'] = joined[rec_colums_1].apply(check_recs, axis = 1)\n",
    "joined['Bought_top_2_Rec'] = joined[rec_colums_2].apply(check_recs, axis = 1)\n",
    "joined['Bought_top_3_Rec'] = joined[rec_colums_3].apply(check_recs, axis = 1)\n",
    "joined['Bought_top_4_Rec'] = joined[rec_colums_4].apply(check_recs, axis = 1)\n",
    "joined['Bought_top_5_Rec'] = joined[rec_colums_5].apply(check_recs, axis = 1)\n",
    "joined['Bought_top_6_Rec'] = joined[rec_colums_6].apply(check_recs, axis = 1)\n",
    "joined['Bought_top_7_Rec'] = joined[rec_colums_7].apply(check_recs, axis = 1)\n",
    "joined['Bought_top_8_Rec'] = joined[rec_colums_8].apply(check_recs, axis = 1)\n",
    "\n",
    "joined['Bought_Rec_1'] = joined[rec_colum_1].apply(check_recs, axis = 1)\n",
    "joined['Bought_Rec_2'] = joined[rec_colum_2].apply(check_recs, axis = 1)\n",
    "joined['Bought_Rec_3'] = joined[rec_colum_3].apply(check_recs, axis = 1)\n",
    "joined['Bought_Rec_4'] = joined[rec_colum_4].apply(check_recs, axis = 1)\n",
    "joined['Bought_Rec_5'] = joined[rec_colum_5].apply(check_recs, axis = 1)\n",
    "joined['Bought_Rec_6'] = joined[rec_colum_6].apply(check_recs, axis = 1)\n",
    "joined['Bought_Rec_7'] = joined[rec_colum_7].apply(check_recs, axis = 1)\n",
    "joined['Bought_Rec_8'] = joined[rec_colum_8].apply(check_recs, axis = 1)\n",
    "\n",
    "avg_buy_top_1 = joined['Bought_top_1_Rec'].mean()\n",
    "avg_buy_top_2 = joined['Bought_top_2_Rec'].mean()\n",
    "avg_buy_top_3 = joined['Bought_top_3_Rec'].mean()\n",
    "avg_buy_top_4 = joined['Bought_top_4_Rec'].mean()\n",
    "avg_buy_top_5 = joined['Bought_top_5_Rec'].mean()\n",
    "avg_buy_top_6 = joined['Bought_top_6_Rec'].mean()\n",
    "avg_buy_top_7 = joined['Bought_top_7_Rec'].mean()\n",
    "avg_buy_top_8 = joined['Bought_top_8_Rec'].mean()\n",
    "\n",
    "avg_buy_1 = joined['Bought_Rec_1'].mean()\n",
    "avg_buy_2 = joined['Bought_Rec_2'].mean()\n",
    "avg_buy_3 = joined['Bought_Rec_3'].mean()\n",
    "avg_buy_4 = joined['Bought_Rec_4'].mean()\n",
    "avg_buy_5 = joined['Bought_Rec_5'].mean()\n",
    "avg_buy_6 = joined['Bought_Rec_6'].mean()\n",
    "avg_buy_7 = joined['Bought_Rec_7'].mean()\n",
    "avg_buy_8 = joined['Bought_Rec_8'].mean()\n",
    "\n",
    "top_rec_purchased = {}\n",
    "top_rec_purchased['1'] = avg_buy_top_1\n",
    "top_rec_purchased['2'] = avg_buy_top_2\n",
    "top_rec_purchased['3'] = avg_buy_top_3\n",
    "top_rec_purchased['4'] = avg_buy_top_4\n",
    "top_rec_purchased['5'] = avg_buy_top_5\n",
    "top_rec_purchased['6'] = avg_buy_top_6\n",
    "top_rec_purchased['7'] = avg_buy_top_7\n",
    "top_rec_purchased['8'] = avg_buy_top_8\n",
    "\n",
    "rec_purchased = {}\n",
    "rec_purchased['1'] = avg_buy_1\n",
    "rec_purchased['2'] = avg_buy_2\n",
    "rec_purchased['3'] = avg_buy_3\n",
    "rec_purchased['4'] = avg_buy_4\n",
    "rec_purchased['5'] = avg_buy_5\n",
    "rec_purchased['6'] = avg_buy_6\n",
    "rec_purchased['7'] = avg_buy_7\n",
    "rec_purchased['8'] = avg_buy_8\n",
    "\n",
    "print avg_buy_top_1\n",
    "print avg_buy_top_2\n",
    "print avg_buy_top_3\n",
    "print avg_buy_top_4\n",
    "print avg_buy_top_5\n",
    "print avg_buy_top_6\n",
    "print avg_buy_top_7\n",
    "print avg_buy_top_8\n",
    "\n",
    "plt.title('Percentage of Users cumulative Rec Purchase')\n",
    "plt.xlabel('Top x Rec')\n",
    "plt.bar(top_rec_purchased.keys(), top_rec_purchased.values(), color='g')\n",
    "plt.show()\n",
    "\n",
    "plt.title('Percentage of Users Purchase each Rec')\n",
    "plt.xlabel('Top x Rec')\n",
    "plt.bar(rec_purchased.keys(),rec_purchased.values(), color='g')"
   ]
  },
  {
   "cell_type": "markdown",
   "metadata": {},
   "source": [
    "The first graph above shows the percent of users who bought at least one of their to X Recs\n",
    "\n",
    "The second graph shows the percent of Users who bought each individual rec (Some orders have more than one item purchased)"
   ]
  },
  {
   "cell_type": "code",
   "execution_count": null,
   "metadata": {
    "collapsed": true
   },
   "outputs": [],
   "source": []
  },
  {
   "cell_type": "code",
   "execution_count": 52,
   "metadata": {},
   "outputs": [
    {
     "data": {
      "text/html": [
       "<div>\n",
       "<table border=\"1\" class=\"dataframe\">\n",
       "  <thead>\n",
       "    <tr style=\"text-align: right;\">\n",
       "      <th></th>\n",
       "      <th>Mr User User ID_x</th>\n",
       "      <th>Product(s) Purchased</th>\n",
       "      <th>Mr Order Order ID</th>\n",
       "      <th>User Order Facts Lifetime Orders</th>\n",
       "      <th>Num Items Purchased</th>\n",
       "      <th>Purchased Accessory Kit</th>\n",
       "      <th>User Order Facts First Order Type_subscription</th>\n",
       "      <th>Mr User Age Tier_18 to 24</th>\n",
       "      <th>Mr User Age Tier_25 to 34</th>\n",
       "      <th>Mr User Age Tier_35 to 44</th>\n",
       "      <th>...</th>\n",
       "      <th>Bought_top_7_Rec</th>\n",
       "      <th>Bought_top_8_Rec</th>\n",
       "      <th>Bought_Rec_1</th>\n",
       "      <th>Bought_Rec_2</th>\n",
       "      <th>Bought_Rec_3</th>\n",
       "      <th>Bought_Rec_4</th>\n",
       "      <th>Bought_Rec_5</th>\n",
       "      <th>Bought_Rec_6</th>\n",
       "      <th>Bought_Rec_7</th>\n",
       "      <th>Bought_Rec_8</th>\n",
       "    </tr>\n",
       "  </thead>\n",
       "  <tbody>\n",
       "    <tr>\n",
       "      <th>0</th>\n",
       "      <td>2796.0</td>\n",
       "      <td>[9NGV]</td>\n",
       "      <td>100900090</td>\n",
       "      <td>1</td>\n",
       "      <td>1</td>\n",
       "      <td>0</td>\n",
       "      <td>0.0</td>\n",
       "      <td>0.0</td>\n",
       "      <td>0.0</td>\n",
       "      <td>0.0</td>\n",
       "      <td>...</td>\n",
       "      <td>True</td>\n",
       "      <td>True</td>\n",
       "      <td>False</td>\n",
       "      <td>False</td>\n",
       "      <td>True</td>\n",
       "      <td>False</td>\n",
       "      <td>False</td>\n",
       "      <td>False</td>\n",
       "      <td>False</td>\n",
       "      <td>False</td>\n",
       "    </tr>\n",
       "    <tr>\n",
       "      <th>3</th>\n",
       "      <td>26990.0</td>\n",
       "      <td>[5NRM]</td>\n",
       "      <td>100838508</td>\n",
       "      <td>2</td>\n",
       "      <td>1</td>\n",
       "      <td>0</td>\n",
       "      <td>0.0</td>\n",
       "      <td>0.0</td>\n",
       "      <td>0.0</td>\n",
       "      <td>0.0</td>\n",
       "      <td>...</td>\n",
       "      <td>False</td>\n",
       "      <td>False</td>\n",
       "      <td>False</td>\n",
       "      <td>False</td>\n",
       "      <td>False</td>\n",
       "      <td>False</td>\n",
       "      <td>False</td>\n",
       "      <td>False</td>\n",
       "      <td>False</td>\n",
       "      <td>False</td>\n",
       "    </tr>\n",
       "    <tr>\n",
       "      <th>8</th>\n",
       "      <td>76208.0</td>\n",
       "      <td>[CRG7GM, 6NMG]</td>\n",
       "      <td>100841416</td>\n",
       "      <td>2</td>\n",
       "      <td>2</td>\n",
       "      <td>0</td>\n",
       "      <td>0.0</td>\n",
       "      <td>0.0</td>\n",
       "      <td>0.0</td>\n",
       "      <td>0.0</td>\n",
       "      <td>...</td>\n",
       "      <td>False</td>\n",
       "      <td>False</td>\n",
       "      <td>False</td>\n",
       "      <td>False</td>\n",
       "      <td>False</td>\n",
       "      <td>False</td>\n",
       "      <td>False</td>\n",
       "      <td>False</td>\n",
       "      <td>False</td>\n",
       "      <td>False</td>\n",
       "    </tr>\n",
       "    <tr>\n",
       "      <th>9</th>\n",
       "      <td>86140.0</td>\n",
       "      <td>[5NGV, 41000]</td>\n",
       "      <td>101084661</td>\n",
       "      <td>11</td>\n",
       "      <td>2</td>\n",
       "      <td>1</td>\n",
       "      <td>1.0</td>\n",
       "      <td>0.0</td>\n",
       "      <td>0.0</td>\n",
       "      <td>0.0</td>\n",
       "      <td>...</td>\n",
       "      <td>True</td>\n",
       "      <td>True</td>\n",
       "      <td>False</td>\n",
       "      <td>False</td>\n",
       "      <td>True</td>\n",
       "      <td>False</td>\n",
       "      <td>False</td>\n",
       "      <td>False</td>\n",
       "      <td>False</td>\n",
       "      <td>False</td>\n",
       "    </tr>\n",
       "    <tr>\n",
       "      <th>13</th>\n",
       "      <td>132208.0</td>\n",
       "      <td>[2NAA, 41000, cclegno]</td>\n",
       "      <td>100928525</td>\n",
       "      <td>9</td>\n",
       "      <td>3</td>\n",
       "      <td>1</td>\n",
       "      <td>1.0</td>\n",
       "      <td>0.0</td>\n",
       "      <td>0.0</td>\n",
       "      <td>0.0</td>\n",
       "      <td>...</td>\n",
       "      <td>True</td>\n",
       "      <td>True</td>\n",
       "      <td>False</td>\n",
       "      <td>False</td>\n",
       "      <td>True</td>\n",
       "      <td>False</td>\n",
       "      <td>False</td>\n",
       "      <td>False</td>\n",
       "      <td>False</td>\n",
       "      <td>False</td>\n",
       "    </tr>\n",
       "  </tbody>\n",
       "</table>\n",
       "<p>5 rows × 126 columns</p>\n",
       "</div>"
      ],
      "text/plain": [
       "    Mr User User ID_x    Product(s) Purchased  Mr Order Order ID  \\\n",
       "0              2796.0                  [9NGV]          100900090   \n",
       "3             26990.0                  [5NRM]          100838508   \n",
       "8             76208.0          [CRG7GM, 6NMG]          100841416   \n",
       "9             86140.0           [5NGV, 41000]          101084661   \n",
       "13           132208.0  [2NAA, 41000, cclegno]          100928525   \n",
       "\n",
       "    User Order Facts Lifetime Orders  Num Items Purchased  \\\n",
       "0                                  1                    1   \n",
       "3                                  2                    1   \n",
       "8                                  2                    2   \n",
       "9                                 11                    2   \n",
       "13                                 9                    3   \n",
       "\n",
       "    Purchased Accessory Kit  User Order Facts First Order Type_subscription  \\\n",
       "0                         0                                             0.0   \n",
       "3                         0                                             0.0   \n",
       "8                         0                                             0.0   \n",
       "9                         1                                             1.0   \n",
       "13                        1                                             1.0   \n",
       "\n",
       "    Mr User Age Tier_18 to 24  Mr User Age Tier_25 to 34  \\\n",
       "0                         0.0                        0.0   \n",
       "3                         0.0                        0.0   \n",
       "8                         0.0                        0.0   \n",
       "9                         0.0                        0.0   \n",
       "13                        0.0                        0.0   \n",
       "\n",
       "    Mr User Age Tier_35 to 44     ...       Bought_top_7_Rec  \\\n",
       "0                         0.0     ...                   True   \n",
       "3                         0.0     ...                  False   \n",
       "8                         0.0     ...                  False   \n",
       "9                         0.0     ...                   True   \n",
       "13                        0.0     ...                   True   \n",
       "\n",
       "    Bought_top_8_Rec  Bought_Rec_1  Bought_Rec_2  Bought_Rec_3  Bought_Rec_4  \\\n",
       "0               True         False         False          True         False   \n",
       "3              False         False         False         False         False   \n",
       "8              False         False         False         False         False   \n",
       "9               True         False         False          True         False   \n",
       "13              True         False         False          True         False   \n",
       "\n",
       "    Bought_Rec_5  Bought_Rec_6 Bought_Rec_7 Bought_Rec_8  \n",
       "0          False         False        False        False  \n",
       "3          False         False        False        False  \n",
       "8          False         False        False        False  \n",
       "9          False         False        False        False  \n",
       "13         False         False        False        False  \n",
       "\n",
       "[5 rows x 126 columns]"
      ]
     },
     "execution_count": 52,
     "metadata": {},
     "output_type": "execute_result"
    }
   ],
   "source": [
    "joined.head()"
   ]
  },
  {
   "cell_type": "markdown",
   "metadata": {},
   "source": [
    "# One TIme Buyer"
   ]
  },
  {
   "cell_type": "code",
   "execution_count": 53,
   "metadata": {},
   "outputs": [
    {
     "data": {
      "text/plain": [
       "0.39699626438972324"
      ]
     },
     "execution_count": 53,
     "metadata": {},
     "output_type": "execute_result"
    }
   ],
   "source": [
    "joined['one_time_buyer'] = joined['User Order Facts Lifetime Orders'].apply(lambda x: 1 if x ==1 else 0 )\n",
    "\n",
    "joined['one_time_buyer'].mean()"
   ]
  },
  {
   "cell_type": "code",
   "execution_count": 54,
   "metadata": {
    "collapsed": true
   },
   "outputs": [],
   "source": [
    "one_time_buy = joined[joined['one_time_buyer'] == 1]\n",
    "\n",
    "otb_avg_buy_top_1 = one_time_buy['Bought_top_1_Rec'].mean()\n",
    "otb_avg_buy_top_2 = one_time_buy['Bought_top_2_Rec'].mean()\n",
    "otb_avg_buy_top_3 = one_time_buy['Bought_top_3_Rec'].mean()\n",
    "otb_avg_buy_top_4 = one_time_buy['Bought_top_4_Rec'].mean()\n",
    "otb_avg_buy_top_5 = one_time_buy['Bought_top_5_Rec'].mean()\n",
    "otb_avg_buy_top_6 = one_time_buy['Bought_top_6_Rec'].mean()\n",
    "otb_avg_buy_top_7 = one_time_buy['Bought_top_7_Rec'].mean()\n",
    "otb_avg_buy_top_8 = one_time_buy['Bought_top_8_Rec'].mean()\n",
    "\n",
    "otb_top_rec_purchased = {}\n",
    "otb_top_rec_purchased['1'] = otb_avg_buy_top_1\n",
    "otb_top_rec_purchased['2'] = otb_avg_buy_top_2\n",
    "otb_top_rec_purchased['3'] = otb_avg_buy_top_3\n",
    "otb_top_rec_purchased['4'] = otb_avg_buy_top_4\n",
    "otb_top_rec_purchased['5'] = otb_avg_buy_top_5\n",
    "otb_top_rec_purchased['6'] = otb_avg_buy_top_6\n",
    "otb_top_rec_purchased['7'] = otb_avg_buy_top_7\n",
    "otb_top_rec_purchased['8'] = otb_avg_buy_top_8"
   ]
  },
  {
   "cell_type": "markdown",
   "metadata": {},
   "source": [
    "# Non One Time Buyers"
   ]
  },
  {
   "cell_type": "code",
   "execution_count": 55,
   "metadata": {
    "collapsed": true
   },
   "outputs": [],
   "source": [
    "none_time_buy = joined[joined['one_time_buyer'] != 1]\n",
    "\n",
    "notb_avg_buy_top_1 = none_time_buy['Bought_top_1_Rec'].mean()\n",
    "notb_avg_buy_top_2 = none_time_buy['Bought_top_2_Rec'].mean()\n",
    "notb_avg_buy_top_3 = none_time_buy['Bought_top_3_Rec'].mean()\n",
    "notb_avg_buy_top_4 = none_time_buy['Bought_top_4_Rec'].mean()\n",
    "notb_avg_buy_top_5 = none_time_buy['Bought_top_5_Rec'].mean()\n",
    "notb_avg_buy_top_6 = none_time_buy['Bought_top_6_Rec'].mean()\n",
    "notb_avg_buy_top_7 = none_time_buy['Bought_top_7_Rec'].mean()\n",
    "notb_avg_buy_top_8 = none_time_buy['Bought_top_8_Rec'].mean()\n",
    "\n",
    "notb_top_rec_purchased = {}\n",
    "notb_top_rec_purchased['1'] = notb_avg_buy_top_1\n",
    "notb_top_rec_purchased['2'] = notb_avg_buy_top_2\n",
    "notb_top_rec_purchased['3'] = notb_avg_buy_top_3\n",
    "notb_top_rec_purchased['4'] = notb_avg_buy_top_4\n",
    "notb_top_rec_purchased['5'] = notb_avg_buy_top_5\n",
    "notb_top_rec_purchased['6'] = notb_avg_buy_top_6\n",
    "notb_top_rec_purchased['7'] = notb_avg_buy_top_7\n",
    "notb_top_rec_purchased['8'] = notb_avg_buy_top_8"
   ]
  },
  {
   "cell_type": "code",
   "execution_count": 56,
   "metadata": {},
   "outputs": [
    {
     "data": {
      "text/html": [
       "<div>\n",
       "<table border=\"1\" class=\"dataframe\">\n",
       "  <thead>\n",
       "    <tr style=\"text-align: right;\">\n",
       "      <th></th>\n",
       "      <th>1</th>\n",
       "      <th>2</th>\n",
       "      <th>3</th>\n",
       "      <th>4</th>\n",
       "      <th>5</th>\n",
       "      <th>6</th>\n",
       "      <th>7</th>\n",
       "      <th>8</th>\n",
       "    </tr>\n",
       "  </thead>\n",
       "  <tbody>\n",
       "    <tr>\n",
       "      <th>0</th>\n",
       "      <td>0.521681</td>\n",
       "      <td>0.659101</td>\n",
       "      <td>0.728041</td>\n",
       "      <td>0.769789</td>\n",
       "      <td>0.792872</td>\n",
       "      <td>0.805738</td>\n",
       "      <td>0.810347</td>\n",
       "      <td>0.814034</td>\n",
       "    </tr>\n",
       "    <tr>\n",
       "      <th>1</th>\n",
       "      <td>0.516082</td>\n",
       "      <td>0.659199</td>\n",
       "      <td>0.733741</td>\n",
       "      <td>0.776322</td>\n",
       "      <td>0.801912</td>\n",
       "      <td>0.816198</td>\n",
       "      <td>0.821103</td>\n",
       "      <td>0.824239</td>\n",
       "    </tr>\n",
       "  </tbody>\n",
       "</table>\n",
       "</div>"
      ],
      "text/plain": [
       "          1         2         3         4         5         6         7  \\\n",
       "0  0.521681  0.659101  0.728041  0.769789  0.792872  0.805738  0.810347   \n",
       "1  0.516082  0.659199  0.733741  0.776322  0.801912  0.816198  0.821103   \n",
       "\n",
       "          8  \n",
       "0  0.814034  \n",
       "1  0.824239  "
      ]
     },
     "execution_count": 56,
     "metadata": {},
     "output_type": "execute_result"
    }
   ],
   "source": [
    "top_rec_purchased = pd.DataFrame.from_dict([otb_top_rec_purchased, notb_top_rec_purchased])\n",
    "top_rec_purchased.head()\n"
   ]
  },
  {
   "cell_type": "markdown",
   "metadata": {},
   "source": [
    "# Purchase per Rec OTB"
   ]
  },
  {
   "cell_type": "code",
   "execution_count": 57,
   "metadata": {
    "collapsed": true
   },
   "outputs": [],
   "source": [
    "otb_avg_buy_1 = one_time_buy['Bought_Rec_1'].mean()\n",
    "otb_avg_buy_2 = one_time_buy['Bought_Rec_2'].mean()\n",
    "otb_avg_buy_3 = one_time_buy['Bought_Rec_3'].mean()\n",
    "otb_avg_buy_4 = one_time_buy['Bought_Rec_4'].mean()\n",
    "otb_avg_buy_5 = one_time_buy['Bought_Rec_5'].mean()\n",
    "otb_avg_buy_6 = one_time_buy['Bought_Rec_6'].mean()\n",
    "otb_avg_buy_7 = one_time_buy['Bought_Rec_7'].mean()\n",
    "otb_avg_buy_8 = one_time_buy['Bought_Rec_8'].mean()\n",
    "\n",
    "otb_rec_purchased = {}\n",
    "otb_rec_purchased['1'] = otb_avg_buy_1\n",
    "otb_rec_purchased['2'] = otb_avg_buy_2\n",
    "otb_rec_purchased['3'] = otb_avg_buy_3\n",
    "otb_rec_purchased['4'] = otb_avg_buy_4\n",
    "otb_rec_purchased['5'] = otb_avg_buy_5\n",
    "otb_rec_purchased['6'] = otb_avg_buy_6\n",
    "otb_rec_purchased['7'] = otb_avg_buy_7\n",
    "otb_rec_purchased['8'] = otb_avg_buy_8"
   ]
  },
  {
   "cell_type": "markdown",
   "metadata": {},
   "source": [
    "# Purchas per Rec Non OTB"
   ]
  },
  {
   "cell_type": "code",
   "execution_count": 58,
   "metadata": {
    "collapsed": true
   },
   "outputs": [],
   "source": [
    "notb_avg_buy_1 = none_time_buy['Bought_Rec_1'].mean()\n",
    "notb_avg_buy_2 = none_time_buy['Bought_Rec_2'].mean()\n",
    "notb_avg_buy_3 = none_time_buy['Bought_Rec_3'].mean()\n",
    "notb_avg_buy_4 = none_time_buy['Bought_Rec_4'].mean()\n",
    "notb_avg_buy_5 = none_time_buy['Bought_Rec_5'].mean()\n",
    "notb_avg_buy_6 = none_time_buy['Bought_Rec_6'].mean()\n",
    "notb_avg_buy_7 = none_time_buy['Bought_Rec_7'].mean()\n",
    "notb_avg_buy_8 = none_time_buy['Bought_Rec_8'].mean()\n",
    "\n",
    "notb_rec_purchased = {}\n",
    "notb_rec_purchased['1'] = notb_avg_buy_1\n",
    "notb_rec_purchased['2'] = notb_avg_buy_2\n",
    "notb_rec_purchased['3'] = notb_avg_buy_3\n",
    "notb_rec_purchased['4'] = notb_avg_buy_4\n",
    "notb_rec_purchased['5'] = notb_avg_buy_5\n",
    "notb_rec_purchased['6'] = notb_avg_buy_6\n",
    "notb_rec_purchased['7'] = notb_avg_buy_7\n",
    "notb_rec_purchased['8'] = notb_avg_buy_8"
   ]
  },
  {
   "cell_type": "code",
   "execution_count": 59,
   "metadata": {},
   "outputs": [
    {
     "data": {
      "text/html": [
       "<div>\n",
       "<table border=\"1\" class=\"dataframe\">\n",
       "  <thead>\n",
       "    <tr style=\"text-align: right;\">\n",
       "      <th></th>\n",
       "      <th>1</th>\n",
       "      <th>2</th>\n",
       "      <th>3</th>\n",
       "      <th>4</th>\n",
       "      <th>5</th>\n",
       "      <th>6</th>\n",
       "      <th>7</th>\n",
       "      <th>8</th>\n",
       "    </tr>\n",
       "  </thead>\n",
       "  <tbody>\n",
       "    <tr>\n",
       "      <th>0</th>\n",
       "      <td>0.521681</td>\n",
       "      <td>0.145562</td>\n",
       "      <td>0.071706</td>\n",
       "      <td>0.042401</td>\n",
       "      <td>0.023697</td>\n",
       "      <td>0.013020</td>\n",
       "      <td>0.004762</td>\n",
       "      <td>0.003802</td>\n",
       "    </tr>\n",
       "    <tr>\n",
       "      <th>1</th>\n",
       "      <td>0.516082</td>\n",
       "      <td>0.147719</td>\n",
       "      <td>0.076059</td>\n",
       "      <td>0.043239</td>\n",
       "      <td>0.025842</td>\n",
       "      <td>0.014514</td>\n",
       "      <td>0.004956</td>\n",
       "      <td>0.003237</td>\n",
       "    </tr>\n",
       "  </tbody>\n",
       "</table>\n",
       "</div>"
      ],
      "text/plain": [
       "          1         2         3         4         5         6         7  \\\n",
       "0  0.521681  0.145562  0.071706  0.042401  0.023697  0.013020  0.004762   \n",
       "1  0.516082  0.147719  0.076059  0.043239  0.025842  0.014514  0.004956   \n",
       "\n",
       "          8  \n",
       "0  0.003802  \n",
       "1  0.003237  "
      ]
     },
     "execution_count": 59,
     "metadata": {},
     "output_type": "execute_result"
    }
   ],
   "source": [
    "rec_purchased = pd.DataFrame.from_dict([otb_rec_purchased, notb_rec_purchased])\n",
    "rec_purchased.head()\n",
    "\n"
   ]
  },
  {
   "cell_type": "markdown",
   "metadata": {},
   "source": [
    "# Subscribe OTB"
   ]
  },
  {
   "cell_type": "code",
   "execution_count": 60,
   "metadata": {
    "collapsed": true
   },
   "outputs": [],
   "source": [
    "sub_one_time_buy = one_time_buy[one_time_buy['User Order Facts First Order Type_subscription'] == 1]\n",
    "\n",
    "sub_otb_avg_buy_top_1 = sub_one_time_buy['Bought_top_1_Rec'].mean()\n",
    "sub_otb_avg_buy_top_2 = sub_one_time_buy['Bought_top_2_Rec'].mean()\n",
    "sub_otb_avg_buy_top_3 = sub_one_time_buy['Bought_top_3_Rec'].mean()\n",
    "sub_otb_avg_buy_top_4 = sub_one_time_buy['Bought_top_4_Rec'].mean()\n",
    "sub_otb_avg_buy_top_5 = sub_one_time_buy['Bought_top_5_Rec'].mean()\n",
    "sub_otb_avg_buy_top_6 = sub_one_time_buy['Bought_top_6_Rec'].mean()\n",
    "sub_otb_avg_buy_top_7 = sub_one_time_buy['Bought_top_7_Rec'].mean()\n",
    "sub_otb_avg_buy_top_8 = sub_one_time_buy['Bought_top_8_Rec'].mean()"
   ]
  },
  {
   "cell_type": "code",
   "execution_count": 61,
   "metadata": {
    "collapsed": true
   },
   "outputs": [],
   "source": [
    "sub_otb_top_rec_purchased = {}\n",
    "sub_otb_top_rec_purchased['1'] = sub_otb_avg_buy_top_1\n",
    "sub_otb_top_rec_purchased['2'] = sub_otb_avg_buy_top_2\n",
    "sub_otb_top_rec_purchased['3'] = sub_otb_avg_buy_top_3\n",
    "sub_otb_top_rec_purchased['4'] = sub_otb_avg_buy_top_4\n",
    "sub_otb_top_rec_purchased['5'] = sub_otb_avg_buy_top_5\n",
    "sub_otb_top_rec_purchased['6'] = sub_otb_avg_buy_top_6\n",
    "sub_otb_top_rec_purchased['7'] = sub_otb_avg_buy_top_7\n",
    "sub_otb_top_rec_purchased['8'] = sub_otb_avg_buy_top_8"
   ]
  },
  {
   "cell_type": "markdown",
   "metadata": {},
   "source": [
    "# Subscribe N OTB"
   ]
  },
  {
   "cell_type": "code",
   "execution_count": 62,
   "metadata": {
    "collapsed": true
   },
   "outputs": [],
   "source": [
    "sub_none_time_buy = none_time_buy[none_time_buy['User Order Facts First Order Type_subscription'] == 1]\n",
    "\n",
    "sub_notb_avg_buy_top_1 = sub_none_time_buy['Bought_top_1_Rec'].mean()\n",
    "sub_notb_avg_buy_top_2 = sub_none_time_buy['Bought_top_2_Rec'].mean()\n",
    "sub_notb_avg_buy_top_3 = sub_none_time_buy['Bought_top_3_Rec'].mean()\n",
    "sub_notb_avg_buy_top_4 = sub_none_time_buy['Bought_top_4_Rec'].mean()\n",
    "sub_notb_avg_buy_top_5 = sub_none_time_buy['Bought_top_5_Rec'].mean()\n",
    "sub_notb_avg_buy_top_6 = sub_none_time_buy['Bought_top_6_Rec'].mean()\n",
    "sub_notb_avg_buy_top_7 = sub_none_time_buy['Bought_top_7_Rec'].mean()\n",
    "sub_notb_avg_buy_top_8 = sub_none_time_buy['Bought_top_8_Rec'].mean()\n",
    "\n",
    "sub_notb_top_rec_purchased = {}\n",
    "sub_notb_top_rec_purchased['1'] = sub_notb_avg_buy_top_1\n",
    "sub_notb_top_rec_purchased['2'] = sub_notb_avg_buy_top_2\n",
    "sub_notb_top_rec_purchased['3'] = sub_notb_avg_buy_top_3\n",
    "sub_notb_top_rec_purchased['4'] = sub_notb_avg_buy_top_4\n",
    "sub_notb_top_rec_purchased['5'] = sub_notb_avg_buy_top_5\n",
    "sub_notb_top_rec_purchased['6'] = sub_notb_avg_buy_top_6\n",
    "sub_notb_top_rec_purchased['7'] = sub_notb_avg_buy_top_7\n",
    "sub_notb_top_rec_purchased['8'] = sub_notb_avg_buy_top_8"
   ]
  },
  {
   "cell_type": "code",
   "execution_count": 63,
   "metadata": {},
   "outputs": [
    {
     "data": {
      "text/html": [
       "<div>\n",
       "<table border=\"1\" class=\"dataframe\">\n",
       "  <thead>\n",
       "    <tr style=\"text-align: right;\">\n",
       "      <th></th>\n",
       "      <th>1</th>\n",
       "      <th>2</th>\n",
       "      <th>3</th>\n",
       "      <th>4</th>\n",
       "      <th>5</th>\n",
       "      <th>6</th>\n",
       "      <th>7</th>\n",
       "      <th>8</th>\n",
       "    </tr>\n",
       "  </thead>\n",
       "  <tbody>\n",
       "    <tr>\n",
       "      <th>0</th>\n",
       "      <td>0.520325</td>\n",
       "      <td>0.650915</td>\n",
       "      <td>0.727134</td>\n",
       "      <td>0.766260</td>\n",
       "      <td>0.789888</td>\n",
       "      <td>0.802083</td>\n",
       "      <td>0.805894</td>\n",
       "      <td>0.809197</td>\n",
       "    </tr>\n",
       "    <tr>\n",
       "      <th>1</th>\n",
       "      <td>0.509199</td>\n",
       "      <td>0.654629</td>\n",
       "      <td>0.728905</td>\n",
       "      <td>0.771265</td>\n",
       "      <td>0.799229</td>\n",
       "      <td>0.813870</td>\n",
       "      <td>0.819189</td>\n",
       "      <td>0.822800</td>\n",
       "    </tr>\n",
       "  </tbody>\n",
       "</table>\n",
       "</div>"
      ],
      "text/plain": [
       "          1         2         3         4         5         6         7  \\\n",
       "0  0.520325  0.650915  0.727134  0.766260  0.789888  0.802083  0.805894   \n",
       "1  0.509199  0.654629  0.728905  0.771265  0.799229  0.813870  0.819189   \n",
       "\n",
       "          8  \n",
       "0  0.809197  \n",
       "1  0.822800  "
      ]
     },
     "execution_count": 63,
     "metadata": {},
     "output_type": "execute_result"
    }
   ],
   "source": [
    "sub_top_rec_purchased = pd.DataFrame.from_dict([sub_otb_top_rec_purchased, sub_notb_top_rec_purchased])\n",
    "sub_top_rec_purchased.head()"
   ]
  },
  {
   "cell_type": "markdown",
   "metadata": {},
   "source": [
    "# Survey Result Analysis"
   ]
  },
  {
   "cell_type": "code",
   "execution_count": 64,
   "metadata": {},
   "outputs": [
    {
     "name": "stdout",
     "output_type": "stream",
     "text": [
      "(8387, 11)\n"
     ]
    },
    {
     "data": {
      "text/html": [
       "<div>\n",
       "<table border=\"1\" class=\"dataframe\">\n",
       "  <thead>\n",
       "    <tr style=\"text-align: right;\">\n",
       "      <th></th>\n",
       "      <th>Mr User User ID</th>\n",
       "      <th>Survey Results Cover Grays</th>\n",
       "      <th>Survey Results Expectation</th>\n",
       "      <th>Survey Results Get Contacted</th>\n",
       "      <th>Survey Results How Easy</th>\n",
       "      <th>Survey Results Lighter Darker</th>\n",
       "      <th>Survey Results Match Picture</th>\n",
       "      <th>Survey Results Rating</th>\n",
       "      <th>Survey Results Heard From Where</th>\n",
       "      <th>User Sub Facts Active Subs</th>\n",
       "      <th>User Sub Facts Categories Actively Subscribed</th>\n",
       "    </tr>\n",
       "  </thead>\n",
       "  <tbody>\n",
       "    <tr>\n",
       "      <th>0</th>\n",
       "      <td>133526</td>\n",
       "      <td>5</td>\n",
       "      <td>5.0</td>\n",
       "      <td>no</td>\n",
       "      <td>5.0</td>\n",
       "      <td>lighter than expected</td>\n",
       "      <td>NaN</td>\n",
       "      <td>5.0</td>\n",
       "      <td>Friend or Family</td>\n",
       "      <td>1.0</td>\n",
       "      <td>Color Kit</td>\n",
       "    </tr>\n",
       "    <tr>\n",
       "      <th>1</th>\n",
       "      <td>155600</td>\n",
       "      <td>2</td>\n",
       "      <td>4.0</td>\n",
       "      <td>no</td>\n",
       "      <td>4.0</td>\n",
       "      <td>as expected</td>\n",
       "      <td>NaN</td>\n",
       "      <td>5.0</td>\n",
       "      <td>Mail</td>\n",
       "      <td>1.0</td>\n",
       "      <td>Color Kit</td>\n",
       "    </tr>\n",
       "    <tr>\n",
       "      <th>2</th>\n",
       "      <td>289956</td>\n",
       "      <td>5</td>\n",
       "      <td>5.0</td>\n",
       "      <td>NaN</td>\n",
       "      <td>4.0</td>\n",
       "      <td>as expected</td>\n",
       "      <td>NaN</td>\n",
       "      <td>5.0</td>\n",
       "      <td>Other</td>\n",
       "      <td>1.0</td>\n",
       "      <td>Color Kit</td>\n",
       "    </tr>\n",
       "    <tr>\n",
       "      <th>3</th>\n",
       "      <td>348622</td>\n",
       "      <td>2</td>\n",
       "      <td>1.0</td>\n",
       "      <td>NaN</td>\n",
       "      <td>2.0</td>\n",
       "      <td>darker than expected</td>\n",
       "      <td>NaN</td>\n",
       "      <td>1.0</td>\n",
       "      <td>TV Advertisement</td>\n",
       "      <td>0.0</td>\n",
       "      <td>NaN</td>\n",
       "    </tr>\n",
       "    <tr>\n",
       "      <th>4</th>\n",
       "      <td>354763</td>\n",
       "      <td>1</td>\n",
       "      <td>1.0</td>\n",
       "      <td>NaN</td>\n",
       "      <td>3.0</td>\n",
       "      <td>darker than expected</td>\n",
       "      <td>NaN</td>\n",
       "      <td>1.0</td>\n",
       "      <td>Facebook</td>\n",
       "      <td>0.0</td>\n",
       "      <td>NaN</td>\n",
       "    </tr>\n",
       "  </tbody>\n",
       "</table>\n",
       "</div>"
      ],
      "text/plain": [
       "   Mr User User ID  Survey Results Cover Grays  Survey Results Expectation  \\\n",
       "0           133526                           5                         5.0   \n",
       "1           155600                           2                         4.0   \n",
       "2           289956                           5                         5.0   \n",
       "3           348622                           2                         1.0   \n",
       "4           354763                           1                         1.0   \n",
       "\n",
       "  Survey Results Get Contacted  Survey Results How Easy  \\\n",
       "0                           no                      5.0   \n",
       "1                           no                      4.0   \n",
       "2                          NaN                      4.0   \n",
       "3                          NaN                      2.0   \n",
       "4                          NaN                      3.0   \n",
       "\n",
       "  Survey Results Lighter Darker  Survey Results Match Picture  \\\n",
       "0         lighter than expected                           NaN   \n",
       "1                   as expected                           NaN   \n",
       "2                   as expected                           NaN   \n",
       "3          darker than expected                           NaN   \n",
       "4          darker than expected                           NaN   \n",
       "\n",
       "   Survey Results Rating Survey Results Heard From Where  \\\n",
       "0                    5.0                Friend or Family   \n",
       "1                    5.0                            Mail   \n",
       "2                    5.0                           Other   \n",
       "3                    1.0                TV Advertisement   \n",
       "4                    1.0                        Facebook   \n",
       "\n",
       "   User Sub Facts Active Subs User Sub Facts Categories Actively Subscribed  \n",
       "0                         1.0                                     Color Kit  \n",
       "1                         1.0                                     Color Kit  \n",
       "2                         1.0                                     Color Kit  \n",
       "3                         0.0                                           NaN  \n",
       "4                         0.0                                           NaN  "
      ]
     },
     "execution_count": 64,
     "metadata": {},
     "output_type": "execute_result"
    }
   ],
   "source": [
    "survey_results = pd.read_csv('/Users/keatoncarano/Desktop/dsi-sf-7-materials-Keaton/Capstone/SurveyResults.csv')\n",
    "\n",
    "print survey_results.shape\n",
    "survey_results.head()"
   ]
  },
  {
   "cell_type": "code",
   "execution_count": 65,
   "metadata": {
    "collapsed": true
   },
   "outputs": [],
   "source": [
    "survey_results['User Sub Facts Categories Actively Subscribed'].fillna('Not Subscribed Currently', inplace=True)\n",
    "survey_results['Survey Results Get Contacted'].fillna('no',inplace=True)\n",
    "survey_results['Survey Results Heard From Where'].fillna('Unknown',inplace=True)\n",
    "survey_results['Survey Results Lighter Darker'].fillna('Unanswered',inplace=True)\n",
    "survey_results.drop(['Survey Results Match Picture'], axis=1,inplace=True)\n",
    "survey_results.fillna(0,inplace=True)"
   ]
  },
  {
   "cell_type": "code",
   "execution_count": 66,
   "metadata": {},
   "outputs": [
    {
     "data": {
      "image/png": "[encoded data removed]",
      "text/plain": [
       "<matplotlib.figure.Figure at 0x115b8c350>"
      ]
     },
     "metadata": {},
     "output_type": "display_data"
    },
    {
     "data": {
      "image/png": "[encoded data removed]",
      "text/plain": [
       "<matplotlib.figure.Figure at 0x1136a5e50>"
      ]
     },
     "metadata": {},
     "output_type": "display_data"
    },
    {
     "data": {
      "image/png": "[encoded data removed]",
      "text/plain": [
       "<matplotlib.figure.Figure at 0x117c04cd0>"
      ]
     },
     "metadata": {},
     "output_type": "display_data"
    },
    {
     "data": {
      "image/png": "[encoded data removed]",
      "text/plain": [
       "<matplotlib.figure.Figure at 0x118872dd0>"
      ]
     },
     "metadata": {},
     "output_type": "display_data"
    },
    {
     "data": {
      "image/png": "[encoded data removed]",
      "text/plain": [
       "<matplotlib.figure.Figure at 0x118938210>"
      ]
     },
     "metadata": {},
     "output_type": "display_data"
    },
    {
     "data": {
      "image/png": "[encoded data removed]",
      "text/plain": [
       "<matplotlib.figure.Figure at 0x119384810>"
      ]
     },
     "metadata": {},
     "output_type": "display_data"
    }
   ],
   "source": [
    "survey_results.fillna(0,inplace=True)\n",
    "\n",
    "survey_results['Survey Results Rating'].value_counts().plot(kind='bar')\n",
    "plt.show()\n",
    "\n",
    "survey_results['Survey Results Lighter Darker'].value_counts().plot(kind='bar')\n",
    "plt.show()\n",
    "\n",
    "survey_results['Survey Results How Easy'].value_counts().plot(kind='bar')\n",
    "plt.show()\n",
    "\n",
    "survey_results['Survey Results Expectation'].value_counts().plot(kind='bar')\n",
    "plt.show()\n",
    "\n",
    "survey_results['Survey Results Heard From Where'].value_counts().plot(kind='bar')\n",
    "plt.show()\n",
    "\n",
    "survey_results['User Sub Facts Active Subs'].value_counts().plot(kind='bar')\n",
    "plt.show()"
   ]
  },
  {
   "cell_type": "code",
   "execution_count": 67,
   "metadata": {},
   "outputs": [
    {
     "data": {
      "text/plain": [
       "Survey Results Lighter Darker_Unanswered               0.008585\n",
       "Survey Results Lighter Darker_as expected              0.415524\n",
       "Survey Results Lighter Darker_darker than expected     0.465125\n",
       "Survey Results Lighter Darker_lighter than expected    0.110767\n",
       "dtype: float64"
      ]
     },
     "execution_count": 67,
     "metadata": {},
     "output_type": "execute_result"
    }
   ],
   "source": [
    "survey_results_d = pd.get_dummies(data=survey_results, columns=['Survey Results Get Contacted','Survey Results Lighter Darker','Survey Results Heard From Where','User Sub Facts Categories Actively Subscribed'])\n",
    "\n",
    "survey_results_d.head()\n",
    "\n",
    "survey_results_d[['Survey Results Lighter Darker_Unanswered','Survey Results Lighter Darker_as expected','Survey Results Lighter Darker_darker than expected','Survey Results Lighter Darker_lighter than expected']].mean(axis=0)"
   ]
  },
  {
   "cell_type": "markdown",
   "metadata": {},
   "source": [
    "# Now we will look at the Disposition Data"
   ]
  },
  {
   "cell_type": "code",
   "execution_count": 68,
   "metadata": {},
   "outputs": [
    {
     "data": {
      "text/html": [
       "<div>\n",
       "<table border=\"1\" class=\"dataframe\">\n",
       "  <thead>\n",
       "    <tr style=\"text-align: right;\">\n",
       "      <th></th>\n",
       "      <th>Mr User User ID</th>\n",
       "      <th>User Order Facts First Order Type</th>\n",
       "      <th>Subscription Dispositions Disposition Date</th>\n",
       "      <th>Subscription Dispositions Reason</th>\n",
       "      <th>Subscription Dispositions Comment</th>\n",
       "      <th>Mr Subscription Item Name</th>\n",
       "      <th>Mr Subscription Item Product Code</th>\n",
       "    </tr>\n",
       "  </thead>\n",
       "  <tbody>\n",
       "    <tr>\n",
       "      <th>0</th>\n",
       "      <td>487321</td>\n",
       "      <td>one-time</td>\n",
       "      <td>2017-07-26</td>\n",
       "      <td>3PL return</td>\n",
       "      <td>3PL return 06 - Refused</td>\n",
       "      <td>Veneto Light Brown - 7NVA</td>\n",
       "      <td>7NVA</td>\n",
       "    </tr>\n",
       "    <tr>\n",
       "      <th>1</th>\n",
       "      <td>1085083</td>\n",
       "      <td>subscription</td>\n",
       "      <td>2017-07-26</td>\n",
       "      <td>Too much product on hand</td>\n",
       "      <td>Don't need any more right now, haven't used la...</td>\n",
       "      <td>Pescara Black - 2NNA</td>\n",
       "      <td>2NNA</td>\n",
       "    </tr>\n",
       "    <tr>\n",
       "      <th>2</th>\n",
       "      <td>1220804</td>\n",
       "      <td>subscription</td>\n",
       "      <td>2017-07-26</td>\n",
       "      <td>Color Issue - Gray Coverage</td>\n",
       "      <td>Didn't cover grays</td>\n",
       "      <td>Pisa Blonde - 9NA</td>\n",
       "      <td>9NA</td>\n",
       "    </tr>\n",
       "    <tr>\n",
       "      <th>3</th>\n",
       "      <td>1092304</td>\n",
       "      <td>subscription</td>\n",
       "      <td>2017-07-26</td>\n",
       "      <td>Too much product on hand</td>\n",
       "      <td>Don't need any more right now, haven't used la...</td>\n",
       "      <td>Ravenna Brown - 3.5NNN</td>\n",
       "      <td>3.5NNN</td>\n",
       "    </tr>\n",
       "    <tr>\n",
       "      <th>4</th>\n",
       "      <td>545847</td>\n",
       "      <td>one-time</td>\n",
       "      <td>2017-07-26</td>\n",
       "      <td>Didn't reply / Wouldn't say</td>\n",
       "      <td>Didn't reply / Wouldn't say</td>\n",
       "      <td>Firenze Brown - 6NMG</td>\n",
       "      <td>6NMG</td>\n",
       "    </tr>\n",
       "  </tbody>\n",
       "</table>\n",
       "</div>"
      ],
      "text/plain": [
       "   Mr User User ID User Order Facts First Order Type  \\\n",
       "0           487321                          one-time   \n",
       "1          1085083                      subscription   \n",
       "2          1220804                      subscription   \n",
       "3          1092304                      subscription   \n",
       "4           545847                          one-time   \n",
       "\n",
       "  Subscription Dispositions Disposition Date Subscription Dispositions Reason  \\\n",
       "0                                 2017-07-26                       3PL return   \n",
       "1                                 2017-07-26         Too much product on hand   \n",
       "2                                 2017-07-26      Color Issue - Gray Coverage   \n",
       "3                                 2017-07-26         Too much product on hand   \n",
       "4                                 2017-07-26      Didn't reply / Wouldn't say   \n",
       "\n",
       "                   Subscription Dispositions Comment  \\\n",
       "0                            3PL return 06 - Refused   \n",
       "1  Don't need any more right now, haven't used la...   \n",
       "2                                 Didn't cover grays   \n",
       "3  Don't need any more right now, haven't used la...   \n",
       "4                        Didn't reply / Wouldn't say   \n",
       "\n",
       "   Mr Subscription Item Name Mr Subscription Item Product Code  \n",
       "0  Veneto Light Brown - 7NVA                              7NVA  \n",
       "1       Pescara Black - 2NNA                              2NNA  \n",
       "2          Pisa Blonde - 9NA                               9NA  \n",
       "3     Ravenna Brown - 3.5NNN                            3.5NNN  \n",
       "4       Firenze Brown - 6NMG                              6NMG  "
      ]
     },
     "execution_count": 68,
     "metadata": {},
     "output_type": "execute_result"
    }
   ],
   "source": [
    "disposition = pd.read_csv('/Users/keatoncarano/Desktop/dsi-sf-7-materials-Keaton/Capstone/sub_disposition.csv')\n",
    "disposition.head()"
   ]
  },
  {
   "cell_type": "code",
   "execution_count": 69,
   "metadata": {},
   "outputs": [
    {
     "data": {
      "text/plain": [
       "(array([ 2.,  0.,  0.,  1.,  3.,  0.,  4.,  4.,  2.,  0.,  4.,  0.,  3.,\n",
       "         1.,  1.,  1.,  2.,  3.,  2.,  0.,  0.,  1.,  1.,  0.,  0.,  0.,\n",
       "         1.,  0.,  0.,  0.,  0.,  0.,  0.,  0.,  0.,  0.,  0.,  0.,  0.,\n",
       "         0.,  0.,  0.,  1.,  0.,  0.,  0.,  0.,  0.,  0.,  0.,  0.,  0.,\n",
       "         0.,  0.,  0.,  0.,  0.,  0.,  0.,  0.,  0.,  0.,  0.,  1.,  0.,\n",
       "         0.,  0.,  0.,  0.,  0.,  0.,  0.,  0.,  0.,  0.,  0.,  0.,  1.,\n",
       "         0.,  0.,  0.,  0.,  0.,  0.,  0.,  0.,  0.,  0.,  0.,  0.,  0.,\n",
       "         0.,  0.,  0.,  0.,  0.,  0.,  0.,  0.,  0.,  0.,  0.,  0.,  0.,\n",
       "         0.,  0.,  0.,  0.,  0.,  0.,  0.,  0.,  1.,  0.,  0.,  0.,  0.,\n",
       "         0.,  0.,  0.,  0.,  1.,  0.,  0.,  0.,  0.,  0.,  0.,  0.,  0.,\n",
       "         0.,  0.,  0.,  0.,  0.,  0.,  0.,  0.,  0.,  0.,  0.,  0.,  0.,\n",
       "         0.,  0.,  0.,  0.,  0.,  0.,  0.,  0.,  0.,  0.,  0.,  0.,  0.,\n",
       "         0.,  0.,  0.,  0.,  1.,  0.,  0.,  0.,  0.,  0.,  0.,  0.,  0.,\n",
       "         0.,  0.,  0.,  0.,  0.,  0.,  0.,  0.,  0.,  1.,  0.,  0.,  0.,\n",
       "         0.,  0.,  0.,  0.,  0.,  0.,  0.,  0.,  0.,  0.,  0.,  0.,  0.,\n",
       "         0.,  0.,  0.,  0.,  0.,  0.,  0.,  0.,  0.,  0.,  0.,  0.,  0.,\n",
       "         0.,  0.,  0.,  0.,  0.,  0.,  0.,  0.,  0.,  0.,  0.,  0.,  0.,\n",
       "         0.,  0.,  0.,  0.,  0.,  0.,  0.,  0.,  0.,  0.,  0.,  0.,  0.,\n",
       "         0.,  0.,  0.,  0.,  0.,  0.,  0.,  0.,  0.,  0.,  0.,  0.,  0.,\n",
       "         0.,  0.,  0.,  0.,  0.,  0.,  0.,  0.,  0.,  0.,  0.,  0.,  0.,\n",
       "         0.,  0.,  0.,  0.,  0.,  0.,  0.,  0.,  0.,  0.,  0.,  0.,  0.,\n",
       "         0.,  0.,  0.,  0.,  0.,  0.,  0.,  0.,  0.,  0.,  0.,  0.,  0.,\n",
       "         0.,  0.,  0.,  0.,  0.,  0.,  0.,  0.,  0.,  0.,  0.,  0.,  0.,\n",
       "         0.,  0.,  0.,  0.,  0.,  0.,  0.,  0.,  0.,  0.,  0.,  0.,  0.,\n",
       "         0.,  0.,  0.,  0.,  0.,  0.,  0.,  0.,  0.,  0.,  0.,  0.,  0.,\n",
       "         0.,  0.,  0.,  0.,  0.,  0.,  0.,  0.,  0.,  0.,  0.,  0.,  0.,\n",
       "         0.,  0.,  0.,  0.,  0.,  0.,  0.,  0.,  0.,  0.,  0.,  0.,  0.,\n",
       "         0.,  0.,  0.,  0.,  0.,  0.,  0.,  0.,  0.,  0.,  0.,  0.,  0.,\n",
       "         0.,  0.,  0.,  0.,  0.,  0.,  0.,  0.,  1.,  0.,  0.,  0.,  0.,\n",
       "         0.,  0.,  0.,  0.,  0.,  0.,  0.,  0.,  0.,  0.,  0.,  0.,  0.,\n",
       "         0.,  0.,  0.,  0.,  0.,  0.,  0.,  0.,  0.,  0.,  0.,  0.,  0.,\n",
       "         0.,  0.,  0.,  0.,  0.,  0.,  0.,  0.,  0.,  0.,  0.,  0.,  0.,\n",
       "         0.,  0.,  0.,  0.,  0.,  0.,  0.,  0.,  0.,  0.,  0.,  0.,  0.,\n",
       "         0.,  0.,  0.,  0.,  0.,  0.,  0.,  0.,  0.,  0.,  0.,  0.,  0.,\n",
       "         0.,  0.,  0.,  0.,  0.,  0.,  0.,  0.,  0.,  0.,  0.,  0.,  0.,\n",
       "         0.,  0.,  0.,  0.,  0.,  0.,  0.,  0.,  0.,  0.,  0.,  0.,  0.,\n",
       "         0.,  0.,  0.,  0.,  0.,  0.,  0.,  0.,  0.,  0.,  0.,  0.,  0.,\n",
       "         0.,  0.,  0.,  0.,  0.,  0.,  0.,  0.,  0.,  0.,  0.,  0.,  0.,\n",
       "         0.,  0.,  0.,  0.,  0.,  1.]),\n",
       " array([ 0.2725372 ,  0.28524213,  0.29794705,  0.31065198,  0.32335691,\n",
       "         0.33606183,  0.34876676,  0.36147168,  0.37417661,  0.38688153,\n",
       "         0.39958646,  0.41229138,  0.42499631,  0.43770124,  0.45040616,\n",
       "         0.46311109,  0.47581601,  0.48852094,  0.50122586,  0.51393079,\n",
       "         0.52663572,  0.53934064,  0.55204557,  0.56475049,  0.57745542,\n",
       "         0.59016034,  0.60286527,  0.61557019,  0.62827512,  0.64098005,\n",
       "         0.65368497,  0.6663899 ,  0.67909482,  0.69179975,  0.70450467,\n",
       "         0.7172096 ,  0.72991452,  0.74261945,  0.75532438,  0.7680293 ,\n",
       "         0.78073423,  0.79343915,  0.80614408,  0.818849  ,  0.83155393,\n",
       "         0.84425885,  0.85696378,  0.86966871,  0.88237363,  0.89507856,\n",
       "         0.90778348,  0.92048841,  0.93319333,  0.94589826,  0.95860319,\n",
       "         0.97130811,  0.98401304,  0.99671796,  1.00942289,  1.02212781,\n",
       "         1.03483274,  1.04753766,  1.06024259,  1.07294752,  1.08565244,\n",
       "         1.09835737,  1.11106229,  1.12376722,  1.13647214,  1.14917707,\n",
       "         1.16188199,  1.17458692,  1.18729185,  1.19999677,  1.2127017 ,\n",
       "         1.22540662,  1.23811155,  1.25081647,  1.2635214 ,  1.27622633,\n",
       "         1.28893125,  1.30163618,  1.3143411 ,  1.32704603,  1.33975095,\n",
       "         1.35245588,  1.3651608 ,  1.37786573,  1.39057066,  1.40327558,\n",
       "         1.41598051,  1.42868543,  1.44139036,  1.45409528,  1.46680021,\n",
       "         1.47950513,  1.49221006,  1.50491499,  1.51761991,  1.53032484,\n",
       "         1.54302976,  1.55573469,  1.56843961,  1.58114454,  1.59384947,\n",
       "         1.60655439,  1.61925932,  1.63196424,  1.64466917,  1.65737409,\n",
       "         1.67007902,  1.68278394,  1.69548887,  1.7081938 ,  1.72089872,\n",
       "         1.73360365,  1.74630857,  1.7590135 ,  1.77171842,  1.78442335,\n",
       "         1.79712827,  1.8098332 ,  1.82253813,  1.83524305,  1.84794798,\n",
       "         1.8606529 ,  1.87335783,  1.88606275,  1.89876768,  1.9114726 ,\n",
       "         1.92417753,  1.93688246,  1.94958738,  1.96229231,  1.97499723,\n",
       "         1.98770216,  2.00040708,  2.01311201,  2.02581694,  2.03852186,\n",
       "         2.05122679,  2.06393171,  2.07663664,  2.08934156,  2.10204649,\n",
       "         2.11475141,  2.12745634,  2.14016127,  2.15286619,  2.16557112,\n",
       "         2.17827604,  2.19098097,  2.20368589,  2.21639082,  2.22909574,\n",
       "         2.24180067,  2.2545056 ,  2.26721052,  2.27991545,  2.29262037,\n",
       "         2.3053253 ,  2.31803022,  2.33073515,  2.34344008,  2.356145  ,\n",
       "         2.36884993,  2.38155485,  2.39425978,  2.4069647 ,  2.41966963,\n",
       "         2.43237455,  2.44507948,  2.45778441,  2.47048933,  2.48319426,\n",
       "         2.49589918,  2.50860411,  2.52130903,  2.53401396,  2.54671888,\n",
       "         2.55942381,  2.57212874,  2.58483366,  2.59753859,  2.61024351,\n",
       "         2.62294844,  2.63565336,  2.64835829,  2.66106321,  2.67376814,\n",
       "         2.68647307,  2.69917799,  2.71188292,  2.72458784,  2.73729277,\n",
       "         2.74999769,  2.76270262,  2.77540755,  2.78811247,  2.8008174 ,\n",
       "         2.81352232,  2.82622725,  2.83893217,  2.8516371 ,  2.86434202,\n",
       "         2.87704695,  2.88975188,  2.9024568 ,  2.91516173,  2.92786665,\n",
       "         2.94057158,  2.9532765 ,  2.96598143,  2.97868635,  2.99139128,\n",
       "         3.00409621,  3.01680113,  3.02950606,  3.04221098,  3.05491591,\n",
       "         3.06762083,  3.08032576,  3.09303069,  3.10573561,  3.11844054,\n",
       "         3.13114546,  3.14385039,  3.15655531,  3.16926024,  3.18196516,\n",
       "         3.19467009,  3.20737502,  3.22007994,  3.23278487,  3.24548979,\n",
       "         3.25819472,  3.27089964,  3.28360457,  3.29630949,  3.30901442,\n",
       "         3.32171935,  3.33442427,  3.3471292 ,  3.35983412,  3.37253905,\n",
       "         3.38524397,  3.3979489 ,  3.41065382,  3.42335875,  3.43606368,\n",
       "         3.4487686 ,  3.46147353,  3.47417845,  3.48688338,  3.4995883 ,\n",
       "         3.51229323,  3.52499816,  3.53770308,  3.55040801,  3.56311293,\n",
       "         3.57581786,  3.58852278,  3.60122771,  3.61393263,  3.62663756,\n",
       "         3.63934249,  3.65204741,  3.66475234,  3.67745726,  3.69016219,\n",
       "         3.70286711,  3.71557204,  3.72827696,  3.74098189,  3.75368682,\n",
       "         3.76639174,  3.77909667,  3.79180159,  3.80450652,  3.81721144,\n",
       "         3.82991637,  3.8426213 ,  3.85532622,  3.86803115,  3.88073607,\n",
       "         3.893441  ,  3.90614592,  3.91885085,  3.93155577,  3.9442607 ,\n",
       "         3.95696563,  3.96967055,  3.98237548,  3.9950804 ,  4.00778533,\n",
       "         4.02049025,  4.03319518,  4.0459001 ,  4.05860503,  4.07130996,\n",
       "         4.08401488,  4.09671981,  4.10942473,  4.12212966,  4.13483458,\n",
       "         4.14753951,  4.16024443,  4.17294936,  4.18565429,  4.19835921,\n",
       "         4.21106414,  4.22376906,  4.23647399,  4.24917891,  4.26188384,\n",
       "         4.27458877,  4.28729369,  4.29999862,  4.31270354,  4.32540847,\n",
       "         4.33811339,  4.35081832,  4.36352324,  4.37622817,  4.3889331 ,\n",
       "         4.40163802,  4.41434295,  4.42704787,  4.4397528 ,  4.45245772,\n",
       "         4.46516265,  4.47786757,  4.4905725 ,  4.50327743,  4.51598235,\n",
       "         4.52868728,  4.5413922 ,  4.55409713,  4.56680205,  4.57950698,\n",
       "         4.59221191,  4.60491683,  4.61762176,  4.63032668,  4.64303161,\n",
       "         4.65573653,  4.66844146,  4.68114638,  4.69385131,  4.70655624,\n",
       "         4.71926116,  4.73196609,  4.74467101,  4.75737594,  4.77008086,\n",
       "         4.78278579,  4.79549071,  4.80819564,  4.82090057,  4.83360549,\n",
       "         4.84631042,  4.85901534,  4.87172027,  4.88442519,  4.89713012,\n",
       "         4.90983504,  4.92253997,  4.9352449 ,  4.94794982,  4.96065475,\n",
       "         4.97335967,  4.9860646 ,  4.99876952,  5.01147445,  5.02417938,\n",
       "         5.0368843 ,  5.04958923,  5.06229415,  5.07499908,  5.087704  ,\n",
       "         5.10040893,  5.11311385,  5.12581878,  5.13852371,  5.15122863,\n",
       "         5.16393356,  5.17663848,  5.18934341,  5.20204833,  5.21475326,\n",
       "         5.22745818,  5.24016311,  5.25286804,  5.26557296,  5.27827789,\n",
       "         5.29098281,  5.30368774,  5.31639266,  5.32909759,  5.34180252,\n",
       "         5.35450744,  5.36721237,  5.37991729,  5.39262222,  5.40532714,\n",
       "         5.41803207,  5.43073699,  5.44344192,  5.45614685,  5.46885177,\n",
       "         5.4815567 ,  5.49426162,  5.50696655,  5.51967147,  5.5323764 ,\n",
       "         5.54508132,  5.55778625,  5.57049118,  5.5831961 ,  5.59590103,\n",
       "         5.60860595,  5.62131088,  5.6340158 ,  5.64672073,  5.65942565,\n",
       "         5.67213058,  5.68483551,  5.69754043,  5.71024536,  5.72295028,\n",
       "         5.73565521,  5.74836013,  5.76106506,  5.77376999,  5.78647491,\n",
       "         5.79917984,  5.81188476,  5.82458969,  5.83729461,  5.84999954,\n",
       "         5.86270446,  5.87540939,  5.88811432,  5.90081924,  5.91352417,\n",
       "         5.92622909,  5.93893402,  5.95163894,  5.96434387,  5.97704879,\n",
       "         5.98975372,  6.00245865,  6.01516357,  6.0278685 ,  6.04057342,\n",
       "         6.05327835,  6.06598327,  6.0786882 ,  6.09139313,  6.10409805,\n",
       "         6.11680298,  6.1295079 ,  6.14221283,  6.15491775,  6.16762268,\n",
       "         6.1803276 ,  6.19303253,  6.20573746,  6.21844238,  6.23114731,\n",
       "         6.24385223,  6.25655716,  6.26926208,  6.28196701,  6.29467193,\n",
       "         6.30737686,  6.32008179,  6.33278671,  6.34549164,  6.35819656,\n",
       "         6.37090149,  6.38360641,  6.39631134,  6.40901626,  6.42172119,\n",
       "         6.43442612,  6.44713104,  6.45983597,  6.47254089,  6.48524582,\n",
       "         6.49795074,  6.51065567,  6.5233606 ,  6.53606552,  6.54877045,\n",
       "         6.56147537,  6.5741803 ,  6.58688522,  6.59959015,  6.61229507,\n",
       "         6.625     ]),\n",
       " <a list of 500 Patch objects>)"
      ]
     },
     "execution_count": 69,
     "metadata": {},
     "output_type": "execute_result"
    },
    {
     "data": {
      "image/png": "[encoded data removed]",
      "text/plain": [
       "<matplotlib.figure.Figure at 0x1193cc0d0>"
      ]
     },
     "metadata": {},
     "output_type": "display_data"
    }
   ],
   "source": [
    "prd_sub_cancel = disposition['Mr Subscription Item Product Code'].value_counts().to_dict()\n",
    "prd_orders = first_order_raw['Mr Order Items Product Code'].value_counts().to_dict()\n",
    "ordered_caned = pd.DataFrame.from_dict([prd_sub_cancel,prd_orders])\n",
    "ordered_caned.dropna(axis=1,inplace=True)\n",
    "plt.hist(ordered_caned.iloc[0,:]/ ordered_caned.iloc[1,:], bins=500)"
   ]
  },
  {
   "cell_type": "code",
   "execution_count": 70,
   "metadata": {
    "collapsed": true
   },
   "outputs": [],
   "source": [
    "disposition.drop(['User Order Facts First Order Type','Subscription Dispositions Disposition Date','Subscription Dispositions Comment'\\\n",
    "                 ,'Mr Subscription Item Name'],axis=1,inplace=True)"
   ]
  },
  {
   "cell_type": "code",
   "execution_count": 71,
   "metadata": {},
   "outputs": [
    {
     "data": {
      "text/html": [
       "<div>\n",
       "<table border=\"1\" class=\"dataframe\">\n",
       "  <thead>\n",
       "    <tr style=\"text-align: right;\">\n",
       "      <th></th>\n",
       "      <th>Mr User User ID</th>\n",
       "      <th>Subscription Dispositions Reason</th>\n",
       "      <th>Mr Subscription Item Product Code</th>\n",
       "    </tr>\n",
       "  </thead>\n",
       "  <tbody>\n",
       "    <tr>\n",
       "      <th>0</th>\n",
       "      <td>487321</td>\n",
       "      <td>3PL return</td>\n",
       "      <td>7NVA</td>\n",
       "    </tr>\n",
       "    <tr>\n",
       "      <th>1</th>\n",
       "      <td>1085083</td>\n",
       "      <td>Too much product on hand</td>\n",
       "      <td>2NNA</td>\n",
       "    </tr>\n",
       "    <tr>\n",
       "      <th>2</th>\n",
       "      <td>1220804</td>\n",
       "      <td>Color Issue - Gray Coverage</td>\n",
       "      <td>9NA</td>\n",
       "    </tr>\n",
       "    <tr>\n",
       "      <th>3</th>\n",
       "      <td>1092304</td>\n",
       "      <td>Too much product on hand</td>\n",
       "      <td>3.5NNN</td>\n",
       "    </tr>\n",
       "    <tr>\n",
       "      <th>4</th>\n",
       "      <td>545847</td>\n",
       "      <td>Didn't reply / Wouldn't say</td>\n",
       "      <td>6NMG</td>\n",
       "    </tr>\n",
       "  </tbody>\n",
       "</table>\n",
       "</div>"
      ],
      "text/plain": [
       "   Mr User User ID Subscription Dispositions Reason  \\\n",
       "0           487321                       3PL return   \n",
       "1          1085083         Too much product on hand   \n",
       "2          1220804      Color Issue - Gray Coverage   \n",
       "3          1092304         Too much product on hand   \n",
       "4           545847      Didn't reply / Wouldn't say   \n",
       "\n",
       "  Mr Subscription Item Product Code  \n",
       "0                              7NVA  \n",
       "1                              2NNA  \n",
       "2                               9NA  \n",
       "3                            3.5NNN  \n",
       "4                              6NMG  "
      ]
     },
     "execution_count": 71,
     "metadata": {},
     "output_type": "execute_result"
    }
   ],
   "source": [
    "disposition.head()"
   ]
  },
  {
   "cell_type": "code",
   "execution_count": 72,
   "metadata": {},
   "outputs": [
    {
     "data": {
      "text/plain": [
       "Auto-delivery - Prefer one-time            14504\n",
       "Too much product on hand                   12712\n",
       "Color Issue - Color Match                   8805\n",
       "Color Issue - Gray Coverage                 5108\n",
       "Price                                       4558\n",
       "Color Issue - Color faded                   3877\n",
       "3PL return                                  1931\n",
       "Duplicate Subscription                      1067\n",
       "Auto-delivery - Other                        830\n",
       "Going back to the salon                      792\n",
       "Sensitivity                                  655\n",
       "Checkout Process                             494\n",
       "Didn't reply / Wouldn't say                  486\n",
       "Going gray                                   429\n",
       "Shipping - Where's my order?                 322\n",
       "Duplicate order                              132\n",
       "Not the right product                        131\n",
       "Wasn't satisfied with color                   96\n",
       "Returned                                      72\n",
       "Accidental, incorrect                         58\n",
       "Change to shipping method                     37\n",
       "Decided not to use product                    24\n",
       "Using another product                         16\n",
       "Auto-delivery - Unexpected subscription        9\n",
       "Checkout Process - Promo                       8\n",
       "Checkout Process - Billing                     7\n",
       "Shipping - Wrong component                     6\n",
       "Unexpected auto delivery                       4\n",
       "Color Issue - Too dark                         4\n",
       "Shipping - Missing component                   3\n",
       "Abuse                                          2\n",
       "Name: Subscription Dispositions Reason, dtype: int64"
      ]
     },
     "execution_count": 72,
     "metadata": {},
     "output_type": "execute_result"
    }
   ],
   "source": [
    "disposition['Subscription Dispositions Reason'].value_counts()"
   ]
  },
  {
   "cell_type": "code",
   "execution_count": 73,
   "metadata": {
    "collapsed": true
   },
   "outputs": [],
   "source": [
    "disposition = pd.get_dummies(data=disposition, columns=['Subscription Dispositions Reason'])"
   ]
  },
  {
   "cell_type": "markdown",
   "metadata": {},
   "source": [
    "# Now Lets Look at Email Events"
   ]
  },
  {
   "cell_type": "code",
   "execution_count": 74,
   "metadata": {},
   "outputs": [
    {
     "name": "stderr",
     "output_type": "stream",
     "text": [
      "/Users/keatoncarano/anaconda/envs/dsi/lib/python2.7/site-packages/IPython/core/interactiveshell.py:2717: DtypeWarning: Columns (0,1) have mixed types. Specify dtype option on import or set low_memory=False.\n",
      "  interactivity=interactivity, compiler=compiler, result=result)\n"
     ]
    },
    {
     "data": {
      "text/html": [
       "<div>\n",
       "<table border=\"1\" class=\"dataframe\">\n",
       "  <thead>\n",
       "    <tr style=\"text-align: right;\">\n",
       "      <th></th>\n",
       "      <th>User Order Facts First Order Date</th>\n",
       "      <th>User Order Facts First Order Type</th>\n",
       "      <th>Mr User User ID</th>\n",
       "      <th>User Email Facts Days Since Last Clicked</th>\n",
       "      <th>User Email Facts Days Since Last Engaged</th>\n",
       "      <th>User Email Facts Days Since Last Opened</th>\n",
       "      <th>User Email Facts Email Opens</th>\n",
       "      <th>User Email Facts Emails Clicked</th>\n",
       "      <th>User Email Facts Emails Sent</th>\n",
       "    </tr>\n",
       "  </thead>\n",
       "  <tbody>\n",
       "    <tr>\n",
       "      <th>0</th>\n",
       "      <td>NaN</td>\n",
       "      <td>NaN</td>\n",
       "      <td>599641.0</td>\n",
       "      <td>NaN</td>\n",
       "      <td>181 or Above</td>\n",
       "      <td>421.0</td>\n",
       "      <td>55</td>\n",
       "      <td>0</td>\n",
       "      <td>116</td>\n",
       "    </tr>\n",
       "    <tr>\n",
       "      <th>1</th>\n",
       "      <td>NaN</td>\n",
       "      <td>NaN</td>\n",
       "      <td>416168.0</td>\n",
       "      <td>NaN</td>\n",
       "      <td>181 or Above</td>\n",
       "      <td>258.0</td>\n",
       "      <td>1</td>\n",
       "      <td>0</td>\n",
       "      <td>162</td>\n",
       "    </tr>\n",
       "    <tr>\n",
       "      <th>2</th>\n",
       "      <td>NaN</td>\n",
       "      <td>NaN</td>\n",
       "      <td>1214942.0</td>\n",
       "      <td>NaN</td>\n",
       "      <td>31 to 60</td>\n",
       "      <td>34.0</td>\n",
       "      <td>1</td>\n",
       "      <td>0</td>\n",
       "      <td>8</td>\n",
       "    </tr>\n",
       "    <tr>\n",
       "      <th>3</th>\n",
       "      <td>NaN</td>\n",
       "      <td>NaN</td>\n",
       "      <td>1163594.0</td>\n",
       "      <td>NaN</td>\n",
       "      <td>Undefined</td>\n",
       "      <td>NaN</td>\n",
       "      <td>0</td>\n",
       "      <td>0</td>\n",
       "      <td>9</td>\n",
       "    </tr>\n",
       "    <tr>\n",
       "      <th>4</th>\n",
       "      <td>NaN</td>\n",
       "      <td>NaN</td>\n",
       "      <td>490617.0</td>\n",
       "      <td>NaN</td>\n",
       "      <td>Undefined</td>\n",
       "      <td>NaN</td>\n",
       "      <td>0</td>\n",
       "      <td>0</td>\n",
       "      <td>25</td>\n",
       "    </tr>\n",
       "  </tbody>\n",
       "</table>\n",
       "</div>"
      ],
      "text/plain": [
       "  User Order Facts First Order Date User Order Facts First Order Type  \\\n",
       "0                               NaN                               NaN   \n",
       "1                               NaN                               NaN   \n",
       "2                               NaN                               NaN   \n",
       "3                               NaN                               NaN   \n",
       "4                               NaN                               NaN   \n",
       "\n",
       "   Mr User User ID  User Email Facts Days Since Last Clicked  \\\n",
       "0         599641.0                                       NaN   \n",
       "1         416168.0                                       NaN   \n",
       "2        1214942.0                                       NaN   \n",
       "3        1163594.0                                       NaN   \n",
       "4         490617.0                                       NaN   \n",
       "\n",
       "  User Email Facts Days Since Last Engaged  \\\n",
       "0                             181 or Above   \n",
       "1                             181 or Above   \n",
       "2                                 31 to 60   \n",
       "3                                Undefined   \n",
       "4                                Undefined   \n",
       "\n",
       "   User Email Facts Days Since Last Opened  User Email Facts Email Opens  \\\n",
       "0                                    421.0                            55   \n",
       "1                                    258.0                             1   \n",
       "2                                     34.0                             1   \n",
       "3                                      NaN                             0   \n",
       "4                                      NaN                             0   \n",
       "\n",
       "   User Email Facts Emails Clicked  User Email Facts Emails Sent  \n",
       "0                                0                           116  \n",
       "1                                0                           162  \n",
       "2                                0                             8  \n",
       "3                                0                             9  \n",
       "4                                0                            25  "
      ]
     },
     "execution_count": 74,
     "metadata": {},
     "output_type": "execute_result"
    }
   ],
   "source": [
    "email = pd.read_csv('/Users/keatoncarano/Desktop/dsi-sf-7-materials-Keaton/Capstone/email_event_info.csv')\n",
    "email.head()"
   ]
  },
  {
   "cell_type": "code",
   "execution_count": 161,
   "metadata": {},
   "outputs": [
    {
     "data": {
      "text/html": [
       "<div>\n",
       "<table border=\"1\" class=\"dataframe\">\n",
       "  <thead>\n",
       "    <tr style=\"text-align: right;\">\n",
       "      <th></th>\n",
       "      <th>Mr User User ID</th>\n",
       "      <th>User Email Facts Days Since Last Clicked</th>\n",
       "      <th>User Email Facts Days Since Last Opened</th>\n",
       "      <th>User Email Facts Email Opens</th>\n",
       "      <th>User Email Facts Emails Clicked</th>\n",
       "      <th>User Email Facts Emails Sent</th>\n",
       "      <th>Email_Open_Rate</th>\n",
       "      <th>Email_CTR</th>\n",
       "      <th>User Email Facts Days Since Last Engaged_0 to 30</th>\n",
       "      <th>User Email Facts Days Since Last Engaged_181 or Above</th>\n",
       "      <th>User Email Facts Days Since Last Engaged_31 to 60</th>\n",
       "      <th>User Email Facts Days Since Last Engaged_61 to 90</th>\n",
       "      <th>User Email Facts Days Since Last Engaged_91 to 180</th>\n",
       "      <th>User Email Facts Days Since Last Engaged_Undefined</th>\n",
       "    </tr>\n",
       "  </thead>\n",
       "  <tbody>\n",
       "    <tr>\n",
       "      <th>0</th>\n",
       "      <td>599641.0</td>\n",
       "      <td>0.0</td>\n",
       "      <td>421.0</td>\n",
       "      <td>55</td>\n",
       "      <td>0</td>\n",
       "      <td>116</td>\n",
       "      <td>0.474138</td>\n",
       "      <td>0.0</td>\n",
       "      <td>0.0</td>\n",
       "      <td>1.0</td>\n",
       "      <td>0.0</td>\n",
       "      <td>0.0</td>\n",
       "      <td>0.0</td>\n",
       "      <td>0.0</td>\n",
       "    </tr>\n",
       "    <tr>\n",
       "      <th>1</th>\n",
       "      <td>416168.0</td>\n",
       "      <td>0.0</td>\n",
       "      <td>258.0</td>\n",
       "      <td>1</td>\n",
       "      <td>0</td>\n",
       "      <td>162</td>\n",
       "      <td>0.006173</td>\n",
       "      <td>0.0</td>\n",
       "      <td>0.0</td>\n",
       "      <td>1.0</td>\n",
       "      <td>0.0</td>\n",
       "      <td>0.0</td>\n",
       "      <td>0.0</td>\n",
       "      <td>0.0</td>\n",
       "    </tr>\n",
       "    <tr>\n",
       "      <th>2</th>\n",
       "      <td>1214942.0</td>\n",
       "      <td>0.0</td>\n",
       "      <td>34.0</td>\n",
       "      <td>1</td>\n",
       "      <td>0</td>\n",
       "      <td>8</td>\n",
       "      <td>0.125000</td>\n",
       "      <td>0.0</td>\n",
       "      <td>0.0</td>\n",
       "      <td>0.0</td>\n",
       "      <td>1.0</td>\n",
       "      <td>0.0</td>\n",
       "      <td>0.0</td>\n",
       "      <td>0.0</td>\n",
       "    </tr>\n",
       "    <tr>\n",
       "      <th>3</th>\n",
       "      <td>1163594.0</td>\n",
       "      <td>0.0</td>\n",
       "      <td>0.0</td>\n",
       "      <td>0</td>\n",
       "      <td>0</td>\n",
       "      <td>9</td>\n",
       "      <td>0.000000</td>\n",
       "      <td>0.0</td>\n",
       "      <td>0.0</td>\n",
       "      <td>0.0</td>\n",
       "      <td>0.0</td>\n",
       "      <td>0.0</td>\n",
       "      <td>0.0</td>\n",
       "      <td>1.0</td>\n",
       "    </tr>\n",
       "    <tr>\n",
       "      <th>4</th>\n",
       "      <td>490617.0</td>\n",
       "      <td>0.0</td>\n",
       "      <td>0.0</td>\n",
       "      <td>0</td>\n",
       "      <td>0</td>\n",
       "      <td>25</td>\n",
       "      <td>0.000000</td>\n",
       "      <td>0.0</td>\n",
       "      <td>0.0</td>\n",
       "      <td>0.0</td>\n",
       "      <td>0.0</td>\n",
       "      <td>0.0</td>\n",
       "      <td>0.0</td>\n",
       "      <td>1.0</td>\n",
       "    </tr>\n",
       "  </tbody>\n",
       "</table>\n",
       "</div>"
      ],
      "text/plain": [
       "   Mr User User ID  User Email Facts Days Since Last Clicked  \\\n",
       "0         599641.0                                       0.0   \n",
       "1         416168.0                                       0.0   \n",
       "2        1214942.0                                       0.0   \n",
       "3        1163594.0                                       0.0   \n",
       "4         490617.0                                       0.0   \n",
       "\n",
       "   User Email Facts Days Since Last Opened  User Email Facts Email Opens  \\\n",
       "0                                    421.0                            55   \n",
       "1                                    258.0                             1   \n",
       "2                                     34.0                             1   \n",
       "3                                      0.0                             0   \n",
       "4                                      0.0                             0   \n",
       "\n",
       "   User Email Facts Emails Clicked  User Email Facts Emails Sent  \\\n",
       "0                                0                           116   \n",
       "1                                0                           162   \n",
       "2                                0                             8   \n",
       "3                                0                             9   \n",
       "4                                0                            25   \n",
       "\n",
       "   Email_Open_Rate  Email_CTR  \\\n",
       "0         0.474138        0.0   \n",
       "1         0.006173        0.0   \n",
       "2         0.125000        0.0   \n",
       "3         0.000000        0.0   \n",
       "4         0.000000        0.0   \n",
       "\n",
       "   User Email Facts Days Since Last Engaged_0 to 30  \\\n",
       "0                                               0.0   \n",
       "1                                               0.0   \n",
       "2                                               0.0   \n",
       "3                                               0.0   \n",
       "4                                               0.0   \n",
       "\n",
       "   User Email Facts Days Since Last Engaged_181 or Above  \\\n",
       "0                                                1.0       \n",
       "1                                                1.0       \n",
       "2                                                0.0       \n",
       "3                                                0.0       \n",
       "4                                                0.0       \n",
       "\n",
       "   User Email Facts Days Since Last Engaged_31 to 60  \\\n",
       "0                                                0.0   \n",
       "1                                                0.0   \n",
       "2                                                1.0   \n",
       "3                                                0.0   \n",
       "4                                                0.0   \n",
       "\n",
       "   User Email Facts Days Since Last Engaged_61 to 90  \\\n",
       "0                                                0.0   \n",
       "1                                                0.0   \n",
       "2                                                0.0   \n",
       "3                                                0.0   \n",
       "4                                                0.0   \n",
       "\n",
       "   User Email Facts Days Since Last Engaged_91 to 180  \\\n",
       "0                                                0.0    \n",
       "1                                                0.0    \n",
       "2                                                0.0    \n",
       "3                                                0.0    \n",
       "4                                                0.0    \n",
       "\n",
       "   User Email Facts Days Since Last Engaged_Undefined  \n",
       "0                                                0.0   \n",
       "1                                                0.0   \n",
       "2                                                0.0   \n",
       "3                                                1.0   \n",
       "4                                                1.0   "
      ]
     },
     "execution_count": 161,
     "metadata": {},
     "output_type": "execute_result"
    }
   ],
   "source": [
    "# make sure to unhash below if first run through \n",
    "\n",
    "email['Email_Open_Rate'] = email['User Email Facts Email Opens']/ email['User Email Facts Emails Sent']\n",
    "email['Email_CTR'] = email['User Email Facts Days Since Last Clicked']/email['User Email Facts Email Opens']\n",
    "#email.drop(['User Order Facts First Order Date','User Order Facts First Order Type'],axis=1 ,inplace=True)\n",
    "email.fillna(0,inplace=True)\n",
    "#email = pd.get_dummies(data=email, columns=['User Email Facts Days Since Last Engaged'])\n",
    "email.head()"
   ]
  },
  {
   "cell_type": "markdown",
   "metadata": {},
   "source": [
    "# NPS Results"
   ]
  },
  {
   "cell_type": "code",
   "execution_count": 76,
   "metadata": {},
   "outputs": [
    {
     "data": {
      "text/html": [
       "<div>\n",
       "<table border=\"1\" class=\"dataframe\">\n",
       "  <thead>\n",
       "    <tr style=\"text-align: right;\">\n",
       "      <th></th>\n",
       "      <th>Order Level Advisor Color Differntial</th>\n",
       "      <th>Mr User User ID</th>\n",
       "      <th>Order Nps Nps</th>\n",
       "      <th>Order Nps Nps Response Count</th>\n",
       "    </tr>\n",
       "  </thead>\n",
       "  <tbody>\n",
       "    <tr>\n",
       "      <th>0</th>\n",
       "      <td>0</td>\n",
       "      <td>975744</td>\n",
       "      <td>NaN</td>\n",
       "      <td>0</td>\n",
       "    </tr>\n",
       "    <tr>\n",
       "      <th>1</th>\n",
       "      <td>0</td>\n",
       "      <td>1088251</td>\n",
       "      <td>NaN</td>\n",
       "      <td>0</td>\n",
       "    </tr>\n",
       "    <tr>\n",
       "      <th>2</th>\n",
       "      <td>-1</td>\n",
       "      <td>908096</td>\n",
       "      <td>NaN</td>\n",
       "      <td>0</td>\n",
       "    </tr>\n",
       "    <tr>\n",
       "      <th>3</th>\n",
       "      <td>0</td>\n",
       "      <td>966141</td>\n",
       "      <td>NaN</td>\n",
       "      <td>0</td>\n",
       "    </tr>\n",
       "    <tr>\n",
       "      <th>4</th>\n",
       "      <td>0</td>\n",
       "      <td>1165311</td>\n",
       "      <td>NaN</td>\n",
       "      <td>0</td>\n",
       "    </tr>\n",
       "  </tbody>\n",
       "</table>\n",
       "</div>"
      ],
      "text/plain": [
       "   Order Level Advisor Color Differntial  Mr User User ID  Order Nps Nps  \\\n",
       "0                                      0           975744            NaN   \n",
       "1                                      0          1088251            NaN   \n",
       "2                                     -1           908096            NaN   \n",
       "3                                      0           966141            NaN   \n",
       "4                                      0          1165311            NaN   \n",
       "\n",
       "   Order Nps Nps Response Count  \n",
       "0                             0  \n",
       "1                             0  \n",
       "2                             0  \n",
       "3                             0  \n",
       "4                             0  "
      ]
     },
     "execution_count": 76,
     "metadata": {},
     "output_type": "execute_result"
    }
   ],
   "source": [
    "nps = pd.read_csv('/Users/keatoncarano/Desktop/dsi-sf-7-materials-Keaton/Capstone/NPS_by_user.csv')\n",
    "nps.head()"
   ]
  },
  {
   "cell_type": "code",
   "execution_count": 77,
   "metadata": {},
   "outputs": [
    {
     "data": {
      "text/plain": [
       "(79013, 4)"
      ]
     },
     "execution_count": 77,
     "metadata": {},
     "output_type": "execute_result"
    }
   ],
   "source": [
    "nps['Order Nps Nps'].value_counts()\n",
    "nps.shape"
   ]
  },
  {
   "cell_type": "code",
   "execution_count": 78,
   "metadata": {},
   "outputs": [
    {
     "data": {
      "text/plain": [
       "Order Level Advisor Color Differntial        0\n",
       "Mr User User ID                              0\n",
       "Order Nps Nps                            71352\n",
       "Order Nps Nps Response Count                 0\n",
       "dtype: int64"
      ]
     },
     "execution_count": 78,
     "metadata": {},
     "output_type": "execute_result"
    }
   ],
   "source": [
    "nps.isnull().sum()"
   ]
  },
  {
   "cell_type": "code",
   "execution_count": 79,
   "metadata": {
    "collapsed": true
   },
   "outputs": [],
   "source": [
    "new_colnames = [x.lower().replace(')','').replace('(','').replace(' ','_') for x in joined.columns]\n",
    "joined.columns = new_colnames"
   ]
  },
  {
   "cell_type": "code",
   "execution_count": 80,
   "metadata": {},
   "outputs": [
    {
     "data": {
      "text/html": [
       "<div>\n",
       "<table border=\"1\" class=\"dataframe\">\n",
       "  <thead>\n",
       "    <tr style=\"text-align: right;\">\n",
       "      <th></th>\n",
       "      <th>mr_user_user_id_x</th>\n",
       "      <th>products_purchased</th>\n",
       "      <th>mr_order_order_id</th>\n",
       "      <th>user_order_facts_lifetime_orders</th>\n",
       "      <th>num_items_purchased</th>\n",
       "      <th>purchased_accessory_kit</th>\n",
       "      <th>user_order_facts_first_order_type_subscription</th>\n",
       "      <th>mr_user_age_tier_18_to_24</th>\n",
       "      <th>mr_user_age_tier_25_to_34</th>\n",
       "      <th>mr_user_age_tier_35_to_44</th>\n",
       "      <th>...</th>\n",
       "      <th>bought_top_8_rec</th>\n",
       "      <th>bought_rec_1</th>\n",
       "      <th>bought_rec_2</th>\n",
       "      <th>bought_rec_3</th>\n",
       "      <th>bought_rec_4</th>\n",
       "      <th>bought_rec_5</th>\n",
       "      <th>bought_rec_6</th>\n",
       "      <th>bought_rec_7</th>\n",
       "      <th>bought_rec_8</th>\n",
       "      <th>one_time_buyer</th>\n",
       "    </tr>\n",
       "  </thead>\n",
       "  <tbody>\n",
       "    <tr>\n",
       "      <th>0</th>\n",
       "      <td>2796.0</td>\n",
       "      <td>[9NGV]</td>\n",
       "      <td>100900090</td>\n",
       "      <td>1</td>\n",
       "      <td>1</td>\n",
       "      <td>0</td>\n",
       "      <td>0.0</td>\n",
       "      <td>0.0</td>\n",
       "      <td>0.0</td>\n",
       "      <td>0.0</td>\n",
       "      <td>...</td>\n",
       "      <td>True</td>\n",
       "      <td>False</td>\n",
       "      <td>False</td>\n",
       "      <td>True</td>\n",
       "      <td>False</td>\n",
       "      <td>False</td>\n",
       "      <td>False</td>\n",
       "      <td>False</td>\n",
       "      <td>False</td>\n",
       "      <td>1</td>\n",
       "    </tr>\n",
       "    <tr>\n",
       "      <th>3</th>\n",
       "      <td>26990.0</td>\n",
       "      <td>[5NRM]</td>\n",
       "      <td>100838508</td>\n",
       "      <td>2</td>\n",
       "      <td>1</td>\n",
       "      <td>0</td>\n",
       "      <td>0.0</td>\n",
       "      <td>0.0</td>\n",
       "      <td>0.0</td>\n",
       "      <td>0.0</td>\n",
       "      <td>...</td>\n",
       "      <td>False</td>\n",
       "      <td>False</td>\n",
       "      <td>False</td>\n",
       "      <td>False</td>\n",
       "      <td>False</td>\n",
       "      <td>False</td>\n",
       "      <td>False</td>\n",
       "      <td>False</td>\n",
       "      <td>False</td>\n",
       "      <td>0</td>\n",
       "    </tr>\n",
       "    <tr>\n",
       "      <th>8</th>\n",
       "      <td>76208.0</td>\n",
       "      <td>[CRG7GM, 6NMG]</td>\n",
       "      <td>100841416</td>\n",
       "      <td>2</td>\n",
       "      <td>2</td>\n",
       "      <td>0</td>\n",
       "      <td>0.0</td>\n",
       "      <td>0.0</td>\n",
       "      <td>0.0</td>\n",
       "      <td>0.0</td>\n",
       "      <td>...</td>\n",
       "      <td>False</td>\n",
       "      <td>False</td>\n",
       "      <td>False</td>\n",
       "      <td>False</td>\n",
       "      <td>False</td>\n",
       "      <td>False</td>\n",
       "      <td>False</td>\n",
       "      <td>False</td>\n",
       "      <td>False</td>\n",
       "      <td>0</td>\n",
       "    </tr>\n",
       "    <tr>\n",
       "      <th>9</th>\n",
       "      <td>86140.0</td>\n",
       "      <td>[5NGV, 41000]</td>\n",
       "      <td>101084661</td>\n",
       "      <td>11</td>\n",
       "      <td>2</td>\n",
       "      <td>1</td>\n",
       "      <td>1.0</td>\n",
       "      <td>0.0</td>\n",
       "      <td>0.0</td>\n",
       "      <td>0.0</td>\n",
       "      <td>...</td>\n",
       "      <td>True</td>\n",
       "      <td>False</td>\n",
       "      <td>False</td>\n",
       "      <td>True</td>\n",
       "      <td>False</td>\n",
       "      <td>False</td>\n",
       "      <td>False</td>\n",
       "      <td>False</td>\n",
       "      <td>False</td>\n",
       "      <td>0</td>\n",
       "    </tr>\n",
       "    <tr>\n",
       "      <th>13</th>\n",
       "      <td>132208.0</td>\n",
       "      <td>[2NAA, 41000, cclegno]</td>\n",
       "      <td>100928525</td>\n",
       "      <td>9</td>\n",
       "      <td>3</td>\n",
       "      <td>1</td>\n",
       "      <td>1.0</td>\n",
       "      <td>0.0</td>\n",
       "      <td>0.0</td>\n",
       "      <td>0.0</td>\n",
       "      <td>...</td>\n",
       "      <td>True</td>\n",
       "      <td>False</td>\n",
       "      <td>False</td>\n",
       "      <td>True</td>\n",
       "      <td>False</td>\n",
       "      <td>False</td>\n",
       "      <td>False</td>\n",
       "      <td>False</td>\n",
       "      <td>False</td>\n",
       "      <td>0</td>\n",
       "    </tr>\n",
       "  </tbody>\n",
       "</table>\n",
       "<p>5 rows × 127 columns</p>\n",
       "</div>"
      ],
      "text/plain": [
       "    mr_user_user_id_x      products_purchased  mr_order_order_id  \\\n",
       "0              2796.0                  [9NGV]          100900090   \n",
       "3             26990.0                  [5NRM]          100838508   \n",
       "8             76208.0          [CRG7GM, 6NMG]          100841416   \n",
       "9             86140.0           [5NGV, 41000]          101084661   \n",
       "13           132208.0  [2NAA, 41000, cclegno]          100928525   \n",
       "\n",
       "    user_order_facts_lifetime_orders  num_items_purchased  \\\n",
       "0                                  1                    1   \n",
       "3                                  2                    1   \n",
       "8                                  2                    2   \n",
       "9                                 11                    2   \n",
       "13                                 9                    3   \n",
       "\n",
       "    purchased_accessory_kit  user_order_facts_first_order_type_subscription  \\\n",
       "0                         0                                             0.0   \n",
       "3                         0                                             0.0   \n",
       "8                         0                                             0.0   \n",
       "9                         1                                             1.0   \n",
       "13                        1                                             1.0   \n",
       "\n",
       "    mr_user_age_tier_18_to_24  mr_user_age_tier_25_to_34  \\\n",
       "0                         0.0                        0.0   \n",
       "3                         0.0                        0.0   \n",
       "8                         0.0                        0.0   \n",
       "9                         0.0                        0.0   \n",
       "13                        0.0                        0.0   \n",
       "\n",
       "    mr_user_age_tier_35_to_44      ...        bought_top_8_rec  bought_rec_1  \\\n",
       "0                         0.0      ...                    True         False   \n",
       "3                         0.0      ...                   False         False   \n",
       "8                         0.0      ...                   False         False   \n",
       "9                         0.0      ...                    True         False   \n",
       "13                        0.0      ...                    True         False   \n",
       "\n",
       "    bought_rec_2  bought_rec_3  bought_rec_4  bought_rec_5  bought_rec_6  \\\n",
       "0          False          True         False         False         False   \n",
       "3          False         False         False         False         False   \n",
       "8          False         False         False         False         False   \n",
       "9          False          True         False         False         False   \n",
       "13         False          True         False         False         False   \n",
       "\n",
       "    bought_rec_7 bought_rec_8 one_time_buyer  \n",
       "0          False        False              1  \n",
       "3          False        False              0  \n",
       "8          False        False              0  \n",
       "9          False        False              0  \n",
       "13         False        False              0  \n",
       "\n",
       "[5 rows x 127 columns]"
      ]
     },
     "execution_count": 80,
     "metadata": {},
     "output_type": "execute_result"
    }
   ],
   "source": [
    "joined.head()"
   ]
  },
  {
   "cell_type": "code",
   "execution_count": 151,
   "metadata": {},
   "outputs": [
    {
     "data": {
      "text/plain": [
       "(65585, 127)"
      ]
     },
     "execution_count": 151,
     "metadata": {},
     "output_type": "execute_result"
    }
   ],
   "source": [
    "joined.shape"
   ]
  },
  {
   "cell_type": "markdown",
   "metadata": {},
   "source": [
    "# Visits before Purchase"
   ]
  },
  {
   "cell_type": "code",
   "execution_count": 127,
   "metadata": {},
   "outputs": [
    {
     "data": {
      "text/html": [
       "<div>\n",
       "<table border=\"1\" class=\"dataframe\">\n",
       "  <thead>\n",
       "    <tr style=\"text-align: right;\">\n",
       "      <th></th>\n",
       "      <th>Mr User User ID</th>\n",
       "      <th>User Visit Facts Session Index of First Order</th>\n",
       "      <th>User Visit Facts First Order Source</th>\n",
       "    </tr>\n",
       "  </thead>\n",
       "  <tbody>\n",
       "    <tr>\n",
       "      <th>0</th>\n",
       "      <td>1862.0</td>\n",
       "      <td>9</td>\n",
       "      <td>NaN</td>\n",
       "    </tr>\n",
       "    <tr>\n",
       "      <th>1</th>\n",
       "      <td>2796.0</td>\n",
       "      <td>2</td>\n",
       "      <td>(direct)</td>\n",
       "    </tr>\n",
       "    <tr>\n",
       "      <th>2</th>\n",
       "      <td>3558.0</td>\n",
       "      <td>17</td>\n",
       "      <td>bronto</td>\n",
       "    </tr>\n",
       "    <tr>\n",
       "      <th>3</th>\n",
       "      <td>7880.0</td>\n",
       "      <td>1</td>\n",
       "      <td>bing</td>\n",
       "    </tr>\n",
       "    <tr>\n",
       "      <th>4</th>\n",
       "      <td>26990.0</td>\n",
       "      <td>2</td>\n",
       "      <td>facebook</td>\n",
       "    </tr>\n",
       "  </tbody>\n",
       "</table>\n",
       "</div>"
      ],
      "text/plain": [
       "   Mr User User ID  User Visit Facts Session Index of First Order  \\\n",
       "0           1862.0                                              9   \n",
       "1           2796.0                                              2   \n",
       "2           3558.0                                             17   \n",
       "3           7880.0                                              1   \n",
       "4          26990.0                                              2   \n",
       "\n",
       "  User Visit Facts First Order Source  \n",
       "0                                 NaN  \n",
       "1                            (direct)  \n",
       "2                              bronto  \n",
       "3                                bing  \n",
       "4                            facebook  "
      ]
     },
     "execution_count": 127,
     "metadata": {},
     "output_type": "execute_result"
    }
   ],
   "source": [
    "visits_pre_purchase = pd.read_csv('/Users/keatoncarano/Desktop/dsi-sf-7-materials-Keaton/Capstone/visits_before_first_purchase.csv')\n",
    "visits_pre_purchase.head()"
   ]
  },
  {
   "cell_type": "code",
   "execution_count": 128,
   "metadata": {},
   "outputs": [
    {
     "data": {
      "text/plain": [
       "['facebook']"
      ]
     },
     "execution_count": 128,
     "metadata": {},
     "output_type": "execute_result"
    }
   ],
   "source": [
    "'facebook'.split('.')"
   ]
  },
  {
   "cell_type": "code",
   "execution_count": 129,
   "metadata": {
    "collapsed": true
   },
   "outputs": [],
   "source": [
    "def standardize_source(source):\n",
    "    source = source.lower()\n",
    "    source_lis = source.split('.')\n",
    "    if len(source_lis) > 1:\n",
    "        source = source_lis[1]\n",
    "    return source"
   ]
  },
  {
   "cell_type": "code",
   "execution_count": 146,
   "metadata": {},
   "outputs": [],
   "source": [
    "visits_pre_purchase['User Visit Facts First Order Source'].fillna('unknown', inplace= True)\n",
    "\n",
    "# social media sites referral\n",
    "# popular visit sites \n",
    "visits_pre_purchase[\"User Visit Facts First Order Source\"] = visits_pre_purchase['User Visit Facts First Order Source'].apply(standardize_source)\n",
    "\n",
    "\n"
   ]
  },
  {
   "cell_type": "code",
   "execution_count": 147,
   "metadata": {},
   "outputs": [],
   "source": [
    "# categorized_sources = ['facebook','pinterest','instagram','google','bing','yahoo','madison-reed', '(direct)','bronto','iterable','affiliate','ambassador','conversant','extole','zendesk', 'shareasale','inboxdollars'\\\n",
    "#                       'pandora','youtube','amazon']\n",
    "\n",
    "# all_sources = visits_pre_purchase['User Visit Facts First Order Source'].unique()\n",
    "# all_sources= list(all_sources)\n",
    "\n",
    "# categorized_sources= set(categorized_sources)\n",
    "# all_sources = set(all_sources)\n",
    "\n",
    "# other = all_sources.difference(categorized_sources)\n",
    "# other"
   ]
  },
  {
   "cell_type": "code",
   "execution_count": 144,
   "metadata": {
    "collapsed": true
   },
   "outputs": [],
   "source": [
    "def cat_channel(chan):\n",
    "    if chan in ['facebook','pinterest','instagram']:\n",
    "        return 'Social Media'\n",
    "    elif chan in ['google','bing','yahoo']:\n",
    "        return 'Search'\n",
    "    elif chan in['madison-reed', '(direct)']:\n",
    "        return 'Direct'\n",
    "    elif chan in ['bronto','iterable','affiliate','ambassador','conversant','extole','zendesk', 'shareasale','inboxdollars']:\n",
    "        return 'Email_Partner'\n",
    "    elif chan in  ['pandora','youtube']:\n",
    "        return 'Entertainment'\n",
    "    elif chan in ['amazon']:\n",
    "        return 'Consumer'\n",
    "    else:\n",
    "        return 'other'\n",
    "\n",
    "visits_pre_purchase[\"User Visit Facts First Order Source\"] = visits_pre_purchase['User Visit Facts First Order Source'].apply(cat_channel)\n"
   ]
  },
  {
   "cell_type": "code",
   "execution_count": 162,
   "metadata": {},
   "outputs": [],
   "source": [
    "visits_pre_purchase = pd.get_dummies(data=visits_pre_purchase, columns=['User Visit Facts First Order Source'])\n"
   ]
  },
  {
   "cell_type": "code",
   "execution_count": 154,
   "metadata": {},
   "outputs": [
    {
     "data": {
      "text/html": [
       "<div>\n",
       "<table border=\"1\" class=\"dataframe\">\n",
       "  <thead>\n",
       "    <tr style=\"text-align: right;\">\n",
       "      <th></th>\n",
       "      <th>Mr User User ID</th>\n",
       "      <th>User Visit Facts Session Index of First Order</th>\n",
       "      <th>User Visit Facts First Order Source_Consumer</th>\n",
       "      <th>User Visit Facts First Order Source_Direct</th>\n",
       "      <th>User Visit Facts First Order Source_Email_Partner</th>\n",
       "      <th>User Visit Facts First Order Source_Entertainment</th>\n",
       "      <th>User Visit Facts First Order Source_Search</th>\n",
       "      <th>User Visit Facts First Order Source_Social Media</th>\n",
       "      <th>User Visit Facts First Order Source_other</th>\n",
       "    </tr>\n",
       "  </thead>\n",
       "  <tbody>\n",
       "    <tr>\n",
       "      <th>0</th>\n",
       "      <td>1862.0</td>\n",
       "      <td>9</td>\n",
       "      <td>0.0</td>\n",
       "      <td>0.0</td>\n",
       "      <td>0.0</td>\n",
       "      <td>0.0</td>\n",
       "      <td>0.0</td>\n",
       "      <td>0.0</td>\n",
       "      <td>1.0</td>\n",
       "    </tr>\n",
       "    <tr>\n",
       "      <th>1</th>\n",
       "      <td>2796.0</td>\n",
       "      <td>2</td>\n",
       "      <td>0.0</td>\n",
       "      <td>1.0</td>\n",
       "      <td>0.0</td>\n",
       "      <td>0.0</td>\n",
       "      <td>0.0</td>\n",
       "      <td>0.0</td>\n",
       "      <td>0.0</td>\n",
       "    </tr>\n",
       "    <tr>\n",
       "      <th>2</th>\n",
       "      <td>3558.0</td>\n",
       "      <td>17</td>\n",
       "      <td>0.0</td>\n",
       "      <td>0.0</td>\n",
       "      <td>1.0</td>\n",
       "      <td>0.0</td>\n",
       "      <td>0.0</td>\n",
       "      <td>0.0</td>\n",
       "      <td>0.0</td>\n",
       "    </tr>\n",
       "    <tr>\n",
       "      <th>3</th>\n",
       "      <td>7880.0</td>\n",
       "      <td>1</td>\n",
       "      <td>0.0</td>\n",
       "      <td>0.0</td>\n",
       "      <td>0.0</td>\n",
       "      <td>0.0</td>\n",
       "      <td>1.0</td>\n",
       "      <td>0.0</td>\n",
       "      <td>0.0</td>\n",
       "    </tr>\n",
       "    <tr>\n",
       "      <th>4</th>\n",
       "      <td>26990.0</td>\n",
       "      <td>2</td>\n",
       "      <td>0.0</td>\n",
       "      <td>0.0</td>\n",
       "      <td>0.0</td>\n",
       "      <td>0.0</td>\n",
       "      <td>0.0</td>\n",
       "      <td>1.0</td>\n",
       "      <td>0.0</td>\n",
       "    </tr>\n",
       "  </tbody>\n",
       "</table>\n",
       "</div>"
      ],
      "text/plain": [
       "   Mr User User ID  User Visit Facts Session Index of First Order  \\\n",
       "0           1862.0                                              9   \n",
       "1           2796.0                                              2   \n",
       "2           3558.0                                             17   \n",
       "3           7880.0                                              1   \n",
       "4          26990.0                                              2   \n",
       "\n",
       "   User Visit Facts First Order Source_Consumer  \\\n",
       "0                                           0.0   \n",
       "1                                           0.0   \n",
       "2                                           0.0   \n",
       "3                                           0.0   \n",
       "4                                           0.0   \n",
       "\n",
       "   User Visit Facts First Order Source_Direct  \\\n",
       "0                                         0.0   \n",
       "1                                         1.0   \n",
       "2                                         0.0   \n",
       "3                                         0.0   \n",
       "4                                         0.0   \n",
       "\n",
       "   User Visit Facts First Order Source_Email_Partner  \\\n",
       "0                                                0.0   \n",
       "1                                                0.0   \n",
       "2                                                1.0   \n",
       "3                                                0.0   \n",
       "4                                                0.0   \n",
       "\n",
       "   User Visit Facts First Order Source_Entertainment  \\\n",
       "0                                                0.0   \n",
       "1                                                0.0   \n",
       "2                                                0.0   \n",
       "3                                                0.0   \n",
       "4                                                0.0   \n",
       "\n",
       "   User Visit Facts First Order Source_Search  \\\n",
       "0                                         0.0   \n",
       "1                                         0.0   \n",
       "2                                         0.0   \n",
       "3                                         1.0   \n",
       "4                                         0.0   \n",
       "\n",
       "   User Visit Facts First Order Source_Social Media  \\\n",
       "0                                               0.0   \n",
       "1                                               0.0   \n",
       "2                                               0.0   \n",
       "3                                               0.0   \n",
       "4                                               1.0   \n",
       "\n",
       "   User Visit Facts First Order Source_other  \n",
       "0                                        1.0  \n",
       "1                                        0.0  \n",
       "2                                        0.0  \n",
       "3                                        0.0  \n",
       "4                                        0.0  "
      ]
     },
     "execution_count": 154,
     "metadata": {},
     "output_type": "execute_result"
    }
   ],
   "source": [
    "visits_pre_purchase.head()"
   ]
  },
  {
   "cell_type": "code",
   "execution_count": 156,
   "metadata": {
    "collapsed": true
   },
   "outputs": [],
   "source": [
    "joined = joined.merge(visits_pre_purchase, how='left', left_on='mr_user_user_id_x', right_on='Mr User User ID')"
   ]
  },
  {
   "cell_type": "code",
   "execution_count": 157,
   "metadata": {},
   "outputs": [
    {
     "data": {
      "text/plain": [
       "(67467, 152)"
      ]
     },
     "execution_count": 157,
     "metadata": {},
     "output_type": "execute_result"
    }
   ],
   "source": [
    "joined.shape"
   ]
  },
  {
   "cell_type": "markdown",
   "metadata": {},
   "source": [
    "# Days Since Last Purchase"
   ]
  },
  {
   "cell_type": "code",
   "execution_count": 164,
   "metadata": {},
   "outputs": [
    {
     "data": {
      "text/html": [
       "<div>\n",
       "<table border=\"1\" class=\"dataframe\">\n",
       "  <thead>\n",
       "    <tr style=\"text-align: right;\">\n",
       "      <th></th>\n",
       "      <th>Mr User User ID</th>\n",
       "      <th>User Order Facts Days Since Purchase</th>\n",
       "    </tr>\n",
       "  </thead>\n",
       "  <tbody>\n",
       "    <tr>\n",
       "      <th>0</th>\n",
       "      <td>1862.0</td>\n",
       "      <td>806</td>\n",
       "    </tr>\n",
       "    <tr>\n",
       "      <th>1</th>\n",
       "      <td>1914.0</td>\n",
       "      <td>1295</td>\n",
       "    </tr>\n",
       "    <tr>\n",
       "      <th>2</th>\n",
       "      <td>2796.0</td>\n",
       "      <td>449</td>\n",
       "    </tr>\n",
       "    <tr>\n",
       "      <th>3</th>\n",
       "      <td>2846.0</td>\n",
       "      <td>4</td>\n",
       "    </tr>\n",
       "    <tr>\n",
       "      <th>4</th>\n",
       "      <td>2961.0</td>\n",
       "      <td>22</td>\n",
       "    </tr>\n",
       "  </tbody>\n",
       "</table>\n",
       "</div>"
      ],
      "text/plain": [
       "   Mr User User ID  User Order Facts Days Since Purchase\n",
       "0           1862.0                                   806\n",
       "1           1914.0                                  1295\n",
       "2           2796.0                                   449\n",
       "3           2846.0                                     4\n",
       "4           2961.0                                    22"
      ]
     },
     "execution_count": 164,
     "metadata": {},
     "output_type": "execute_result"
    }
   ],
   "source": [
    "days_since_last_purchase = pd.read_csv('/Users/keatoncarano/Desktop/dsi-sf-7-materials-Keaton/Capstone/days_since_last_purchase.csv')\n",
    "days_since_last_purchase.head()\n"
   ]
  },
  {
   "cell_type": "code",
   "execution_count": 165,
   "metadata": {
    "collapsed": true
   },
   "outputs": [],
   "source": [
    "joined= joined.merge(days_since_last_purchase, how='left',left_on='mr_user_user_id_x', right_on='Mr User User ID')"
   ]
  },
  {
   "cell_type": "code",
   "execution_count": 167,
   "metadata": {},
   "outputs": [
    {
     "data": {
      "text/plain": [
       "(67467, 154)"
      ]
     },
     "execution_count": 167,
     "metadata": {},
     "output_type": "execute_result"
    }
   ],
   "source": [
    "joined.shape"
   ]
  },
  {
   "cell_type": "code",
   "execution_count": 168,
   "metadata": {},
   "outputs": [],
   "source": [
    "new_colnames = [x.lower().replace(')','').replace('(','').replace(' ','_') for x in joined.columns]\n",
    "joined.columns = new_colnames"
   ]
  },
  {
   "cell_type": "markdown",
   "metadata": {},
   "source": [
    "# Now we will Merge the Joined Dataset with Email, Site Event, Email, and Days Since Last Visit Data\n",
    "\n",
    "Note that we will initally be leaving NPS and Post Purchase Survey Data out of the initial model. NPS only has information on 10 % of User IDs while the Post Purchase Survey may Require us to do some KNN Imputation down the line.\n",
    "\n",
    "Additionally the Disposition Data will be used in the second phase of the project when we attempt to predict why as User is likely to churn. "
   ]
  },
  {
   "cell_type": "code",
   "execution_count": 175,
   "metadata": {},
   "outputs": [],
   "source": [
    "joined = joined.merge(email, how='left', left_on='mr_user_user_id_x', right_on='Mr User User ID')"
   ]
  },
  {
   "cell_type": "code",
   "execution_count": 179,
   "metadata": {},
   "outputs": [
    {
     "data": {
      "text/plain": [
       "mr_user_user_id_x                                        float64\n",
       "products_purchased                                        object\n",
       "mr_order_order_id                                          int64\n",
       "user_order_facts_lifetime_orders                           int64\n",
       "num_items_purchased                                        int64\n",
       "purchased_accessory_kit                                    int64\n",
       "user_order_facts_first_order_type_subscription           float64\n",
       "mr_user_age_tier_18_to_24                                float64\n",
       "mr_user_age_tier_25_to_34                                float64\n",
       "mr_user_age_tier_35_to_44                                float64\n",
       "mr_user_age_tier_45_to_54                                float64\n",
       "mr_user_age_tier_55_to_64                                float64\n",
       "mr_user_age_tier_65_or_above                             float64\n",
       "mr_user_age_tier_undefined                               float64\n",
       "quiz_responses_color_differntial                         float64\n",
       "quiz_responses_color_frequency                           float64\n",
       "quiz_responses_natural_hair_level                        float64\n",
       "quiz_responses_treated_hair_level                        float64\n",
       "event_facts_recommendation_1                              object\n",
       "event_facts_recommendation_2                              object\n",
       "event_facts_recommendation_3                              object\n",
       "event_facts_recommendation_4                              object\n",
       "event_facts_recommendation_5                              object\n",
       "event_facts_recommendation_6                              object\n",
       "event_facts_recommendation_7                              object\n",
       "event_facts_recommendation_8                              object\n",
       "quiz_responses_hair_tone_0                               float64\n",
       "quiz_responses_hair_tone_ash                             float64\n",
       "quiz_responses_hair_tone_copper                          float64\n",
       "quiz_responses_hair_tone_gold                            float64\n",
       "                                                          ...   \n",
       "bought_rec_7                                                bool\n",
       "bought_rec_8                                                bool\n",
       "one_time_buyer                                             int64\n",
       "user_order_facts_first_order_date                         object\n",
       "user_order_facts_first_order_type                         object\n",
       "mr_user_user_id_x                                        float64\n",
       "user_email_facts_days_since_last_clicked                 float64\n",
       "user_email_facts_days_since_last_opened                  float64\n",
       "user_email_facts_email_opens                             float64\n",
       "user_email_facts_emails_clicked                          float64\n",
       "user_email_facts_emails_sent                             float64\n",
       "email_open_rate                                          float64\n",
       "email_ctr                                                float64\n",
       "user_email_facts_days_since_last_engaged_0_to_30         float64\n",
       "user_email_facts_days_since_last_engaged_181_or_above    float64\n",
       "user_email_facts_days_since_last_engaged_31_to_60        float64\n",
       "user_email_facts_days_since_last_engaged_61_to_90        float64\n",
       "user_email_facts_days_since_last_engaged_91_to_180       float64\n",
       "user_email_facts_days_since_last_engaged_undefined       float64\n",
       "mr_user_user_id_y                                        float64\n",
       "user_visit_facts_session_index_of_first_order            float64\n",
       "user_visit_facts_first_order_source_consumer             float64\n",
       "user_visit_facts_first_order_source_direct               float64\n",
       "user_visit_facts_first_order_source_email_partner        float64\n",
       "user_visit_facts_first_order_source_entertainment        float64\n",
       "user_visit_facts_first_order_source_search               float64\n",
       "user_visit_facts_first_order_source_social_media         float64\n",
       "user_visit_facts_first_order_source_other                float64\n",
       "mr_user_user_id                                          float64\n",
       "user_order_facts_days_since_purchase                       int64\n",
       "dtype: object"
      ]
     },
     "execution_count": 179,
     "metadata": {},
     "output_type": "execute_result"
    }
   ],
   "source": [
    "joined.dtypes"
   ]
  },
  {
   "cell_type": "code",
   "execution_count": 198,
   "metadata": {},
   "outputs": [],
   "source": [
    "joined_cleaned = joined.drop(['event_facts_recommendation_1','event_facts_recommendation_2','event_facts_recommendation_3',\n",
    "                             'event_facts_recommendation_4','event_facts_recommendation_5','event_facts_recommendation_6',\n",
    "                             'event_facts_recommendation_7','event_facts_recommendation_8','mr_user_user_id_y','mr_user_user_id_y',\n",
    "                              'user_order_facts_first_order_type'\n",
    "                             ],axis=1)"
   ]
  },
  {
   "cell_type": "code",
   "execution_count": 199,
   "metadata": {},
   "outputs": [
    {
     "name": "stderr",
     "output_type": "stream",
     "text": [
      "/Users/keatoncarano/anaconda/envs/dsi/lib/python2.7/site-packages/ipykernel/__main__.py:1: SettingWithCopyWarning: \n",
      "A value is trying to be set on a copy of a slice from a DataFrame\n",
      "\n",
      "See the caveats in the documentation: http://pandas.pydata.org/pandas-docs/stable/indexing.html#indexing-view-versus-copy\n",
      "  if __name__ == '__main__':\n"
     ]
    }
   ],
   "source": [
    "joined_cleaned.drop(['mr_user_user_id_x'],inplace=True, axis=1)"
   ]
  },
  {
   "cell_type": "code",
   "execution_count": 243,
   "metadata": {
    "collapsed": true
   },
   "outputs": [],
   "source": [
    "bool_cols = joined_bool.columns"
   ]
  },
  {
   "cell_type": "code",
   "execution_count": 252,
   "metadata": {},
   "outputs": [
    {
     "name": "stderr",
     "output_type": "stream",
     "text": [
      "/Users/keatoncarano/anaconda/envs/dsi/lib/python2.7/site-packages/pandas/core/frame.py:2378: SettingWithCopyWarning: \n",
      "A value is trying to be set on a copy of a slice from a DataFrame.\n",
      "Try using .loc[row_indexer,col_indexer] = value instead\n",
      "\n",
      "See the caveats in the documentation: http://pandas.pydata.org/pandas-docs/stable/indexing.html#indexing-view-versus-copy\n",
      "  self[k1] = value[k2]\n"
     ]
    }
   ],
   "source": [
    "joined_cleaned[bool_cols]=joined_cleaned[bool_cols].applymap(lambda x: 1 if x else 0)"
   ]
  },
  {
   "cell_type": "code",
   "execution_count": null,
   "metadata": {},
   "outputs": [],
   "source": []
  },
  {
   "cell_type": "code",
   "execution_count": null,
   "metadata": {
    "collapsed": true
   },
   "outputs": [],
   "source": []
  },
  {
   "cell_type": "markdown",
   "metadata": {},
   "source": [
    "# Drop non Dummified Quantity Vaiables"
   ]
  },
  {
   "cell_type": "code",
   "execution_count": 253,
   "metadata": {
    "collapsed": true
   },
   "outputs": [],
   "source": [
    "#joined.drop(['Mr Order Order ID','Mr Order Items Product Code_x','Event Facts Recommendation 1','Event Facts Recommendation 2','Event Facts Recommendation 3','Event Facts Recommendation 4','Event Facts Recommendation 5','Event Facts Recommendation 6','Event Facts Recommendation 7','Event Facts Recommendation 8'],axis=1, inplace=True)"
   ]
  },
  {
   "cell_type": "code",
   "execution_count": 254,
   "metadata": {
    "collapsed": true
   },
   "outputs": [],
   "source": [
    "X = joined_cleaned.drop(['user_order_facts_first_order_date','products_purchased','mr_order_order_id','mr_user_user_id','user_order_facts_lifetime_orders','one_time_buyer'],axis=1)"
   ]
  },
  {
   "cell_type": "code",
   "execution_count": 255,
   "metadata": {},
   "outputs": [
    {
     "data": {
      "text/plain": [
       "num_items_purchased                                         0\n",
       "purchased_accessory_kit                                     0\n",
       "user_order_facts_first_order_type_subscription              0\n",
       "mr_user_age_tier_18_to_24                                   0\n",
       "mr_user_age_tier_25_to_34                                   0\n",
       "mr_user_age_tier_35_to_44                                   0\n",
       "mr_user_age_tier_45_to_54                                   0\n",
       "mr_user_age_tier_55_to_64                                   0\n",
       "mr_user_age_tier_65_or_above                                0\n",
       "mr_user_age_tier_undefined                                  0\n",
       "quiz_responses_color_differntial                            0\n",
       "quiz_responses_color_frequency                              0\n",
       "quiz_responses_natural_hair_level                           0\n",
       "quiz_responses_treated_hair_level                           0\n",
       "quiz_responses_hair_tone_0                                  0\n",
       "quiz_responses_hair_tone_ash                                0\n",
       "quiz_responses_hair_tone_copper                             0\n",
       "quiz_responses_hair_tone_gold                               0\n",
       "quiz_responses_hair_tone_mahogany                           0\n",
       "quiz_responses_hair_tone_red                                0\n",
       "quiz_responses_color_family_0                               0\n",
       "quiz_responses_color_family_black                           0\n",
       "quiz_responses_color_family_blonde                          0\n",
       "quiz_responses_color_family_brown                           0\n",
       "quiz_responses_color_family_red                             0\n",
       "quiz_responses_color_resistance_0                           0\n",
       "quiz_responses_color_resistance_no_idea                     0\n",
       "quiz_responses_color_resistance_normal                      0\n",
       "quiz_responses_color_resistance_porous                      0\n",
       "quiz_responses_color_resistance_resistant                   0\n",
       "                                                         ... \n",
       "bought_rec_1                                                0\n",
       "bought_rec_2                                                0\n",
       "bought_rec_3                                                0\n",
       "bought_rec_4                                                0\n",
       "bought_rec_5                                                0\n",
       "bought_rec_6                                                0\n",
       "bought_rec_7                                                0\n",
       "bought_rec_8                                                0\n",
       "user_email_facts_days_since_last_clicked                 3053\n",
       "user_email_facts_days_since_last_opened                  3053\n",
       "user_email_facts_email_opens                             3053\n",
       "user_email_facts_emails_clicked                          3053\n",
       "user_email_facts_emails_sent                             3053\n",
       "email_open_rate                                          3053\n",
       "email_ctr                                                3053\n",
       "user_email_facts_days_since_last_engaged_0_to_30         3053\n",
       "user_email_facts_days_since_last_engaged_181_or_above    3053\n",
       "user_email_facts_days_since_last_engaged_31_to_60        3053\n",
       "user_email_facts_days_since_last_engaged_61_to_90        3053\n",
       "user_email_facts_days_since_last_engaged_91_to_180       3053\n",
       "user_email_facts_days_since_last_engaged_undefined       3053\n",
       "user_visit_facts_session_index_of_first_order             125\n",
       "user_visit_facts_first_order_source_consumer              125\n",
       "user_visit_facts_first_order_source_direct                125\n",
       "user_visit_facts_first_order_source_email_partner         125\n",
       "user_visit_facts_first_order_source_entertainment         125\n",
       "user_visit_facts_first_order_source_search                125\n",
       "user_visit_facts_first_order_source_social_media          125\n",
       "user_visit_facts_first_order_source_other                 125\n",
       "user_order_facts_days_since_purchase                        0\n",
       "dtype: int64"
      ]
     },
     "execution_count": 255,
     "metadata": {},
     "output_type": "execute_result"
    }
   ],
   "source": [
    "X.isnull().sum()"
   ]
  },
  {
   "cell_type": "code",
   "execution_count": null,
   "metadata": {
    "collapsed": true
   },
   "outputs": [],
   "source": [
    "X.select_dtypes()"
   ]
  },
  {
   "cell_type": "code",
   "execution_count": 256,
   "metadata": {
    "collapsed": true
   },
   "outputs": [],
   "source": [
    "X.fillna(0,inplace=True)"
   ]
  },
  {
   "cell_type": "code",
   "execution_count": 257,
   "metadata": {
    "collapsed": true
   },
   "outputs": [],
   "source": [
    "y = joined_cleaned.one_time_buyer"
   ]
  },
  {
   "cell_type": "markdown",
   "metadata": {},
   "source": [
    "# Regressions and Modeling"
   ]
  },
  {
   "cell_type": "code",
   "execution_count": 258,
   "metadata": {
    "collapsed": true
   },
   "outputs": [],
   "source": [
    "from sklearn.model_selection import train_test_split\n",
    "from sklearn.linear_model import LogisticRegression\n",
    "from sklearn.metrics import classification_report, confusion_matrix"
   ]
  },
  {
   "cell_type": "code",
   "execution_count": 259,
   "metadata": {
    "collapsed": true
   },
   "outputs": [],
   "source": [
    "X_train, X_test, y_train, y_test = train_test_split(X,y,test_size=.2, random_state=42)"
   ]
  },
  {
   "cell_type": "code",
   "execution_count": 266,
   "metadata": {},
   "outputs": [],
   "source": [
    "X.to_csv(\"training.csv\")"
   ]
  },
  {
   "cell_type": "code",
   "execution_count": 261,
   "metadata": {},
   "outputs": [
    {
     "ename": "ValueError",
     "evalue": "Input contains NaN, infinity or a value too large for dtype('float64').",
     "output_type": "error",
     "traceback": [
      "\u001b[0;31m---------------------------------------------------------------------------\u001b[0m",
      "\u001b[0;31mValueError\u001b[0m                                Traceback (most recent call last)",
      "\u001b[0;32m<ipython-input-261-054ba974844d>\u001b[0m in \u001b[0;36m<module>\u001b[0;34m()\u001b[0m\n\u001b[1;32m      1\u001b[0m \u001b[0mlogit\u001b[0m \u001b[0;34m=\u001b[0m \u001b[0mLogisticRegression\u001b[0m\u001b[0;34m(\u001b[0m\u001b[0mpenalty\u001b[0m\u001b[0;34m=\u001b[0m\u001b[0;34m'l2'\u001b[0m\u001b[0;34m)\u001b[0m\u001b[0;34m\u001b[0m\u001b[0m\n\u001b[0;32m----> 2\u001b[0;31m \u001b[0mlogit\u001b[0m\u001b[0;34m.\u001b[0m\u001b[0mfit\u001b[0m\u001b[0;34m(\u001b[0m\u001b[0mX_test\u001b[0m\u001b[0;34m,\u001b[0m\u001b[0my_test\u001b[0m\u001b[0;34m)\u001b[0m\u001b[0;34m\u001b[0m\u001b[0m\n\u001b[0m\u001b[1;32m      3\u001b[0m \u001b[0;31m#ypred = logit.predict(X_test)\u001b[0m\u001b[0;34m\u001b[0m\u001b[0;34m\u001b[0m\u001b[0m\n",
      "\u001b[0;32m/Users/keatoncarano/anaconda/envs/dsi/lib/python2.7/site-packages/sklearn/linear_model/logistic.pyc\u001b[0m in \u001b[0;36mfit\u001b[0;34m(self, X, y, sample_weight)\u001b[0m\n\u001b[1;32m   1171\u001b[0m \u001b[0;34m\u001b[0m\u001b[0m\n\u001b[1;32m   1172\u001b[0m         X, y = check_X_y(X, y, accept_sparse='csr', dtype=np.float64,\n\u001b[0;32m-> 1173\u001b[0;31m                          order=\"C\")\n\u001b[0m\u001b[1;32m   1174\u001b[0m         \u001b[0mcheck_classification_targets\u001b[0m\u001b[0;34m(\u001b[0m\u001b[0my\u001b[0m\u001b[0;34m)\u001b[0m\u001b[0;34m\u001b[0m\u001b[0m\n\u001b[1;32m   1175\u001b[0m         \u001b[0mself\u001b[0m\u001b[0;34m.\u001b[0m\u001b[0mclasses_\u001b[0m \u001b[0;34m=\u001b[0m \u001b[0mnp\u001b[0m\u001b[0;34m.\u001b[0m\u001b[0munique\u001b[0m\u001b[0;34m(\u001b[0m\u001b[0my\u001b[0m\u001b[0;34m)\u001b[0m\u001b[0;34m\u001b[0m\u001b[0m\n",
      "\u001b[0;32m/Users/keatoncarano/anaconda/envs/dsi/lib/python2.7/site-packages/sklearn/utils/validation.pyc\u001b[0m in \u001b[0;36mcheck_X_y\u001b[0;34m(X, y, accept_sparse, dtype, order, copy, force_all_finite, ensure_2d, allow_nd, multi_output, ensure_min_samples, ensure_min_features, y_numeric, warn_on_dtype, estimator)\u001b[0m\n\u001b[1;32m    519\u001b[0m     X = check_array(X, accept_sparse, dtype, order, copy, force_all_finite,\n\u001b[1;32m    520\u001b[0m                     \u001b[0mensure_2d\u001b[0m\u001b[0;34m,\u001b[0m \u001b[0mallow_nd\u001b[0m\u001b[0;34m,\u001b[0m \u001b[0mensure_min_samples\u001b[0m\u001b[0;34m,\u001b[0m\u001b[0;34m\u001b[0m\u001b[0m\n\u001b[0;32m--> 521\u001b[0;31m                     ensure_min_features, warn_on_dtype, estimator)\n\u001b[0m\u001b[1;32m    522\u001b[0m     \u001b[0;32mif\u001b[0m \u001b[0mmulti_output\u001b[0m\u001b[0;34m:\u001b[0m\u001b[0;34m\u001b[0m\u001b[0m\n\u001b[1;32m    523\u001b[0m         y = check_array(y, 'csr', force_all_finite=True, ensure_2d=False,\n",
      "\u001b[0;32m/Users/keatoncarano/anaconda/envs/dsi/lib/python2.7/site-packages/sklearn/utils/validation.pyc\u001b[0m in \u001b[0;36mcheck_array\u001b[0;34m(array, accept_sparse, dtype, order, copy, force_all_finite, ensure_2d, allow_nd, ensure_min_samples, ensure_min_features, warn_on_dtype, estimator)\u001b[0m\n\u001b[1;32m    405\u001b[0m                              % (array.ndim, estimator_name))\n\u001b[1;32m    406\u001b[0m         \u001b[0;32mif\u001b[0m \u001b[0mforce_all_finite\u001b[0m\u001b[0;34m:\u001b[0m\u001b[0;34m\u001b[0m\u001b[0m\n\u001b[0;32m--> 407\u001b[0;31m             \u001b[0m_assert_all_finite\u001b[0m\u001b[0;34m(\u001b[0m\u001b[0marray\u001b[0m\u001b[0;34m)\u001b[0m\u001b[0;34m\u001b[0m\u001b[0m\n\u001b[0m\u001b[1;32m    408\u001b[0m \u001b[0;34m\u001b[0m\u001b[0m\n\u001b[1;32m    409\u001b[0m     \u001b[0mshape_repr\u001b[0m \u001b[0;34m=\u001b[0m \u001b[0m_shape_repr\u001b[0m\u001b[0;34m(\u001b[0m\u001b[0marray\u001b[0m\u001b[0;34m.\u001b[0m\u001b[0mshape\u001b[0m\u001b[0;34m)\u001b[0m\u001b[0;34m\u001b[0m\u001b[0m\n",
      "\u001b[0;32m/Users/keatoncarano/anaconda/envs/dsi/lib/python2.7/site-packages/sklearn/utils/validation.pyc\u001b[0m in \u001b[0;36m_assert_all_finite\u001b[0;34m(X)\u001b[0m\n\u001b[1;32m     56\u001b[0m             and not np.isfinite(X).all()):\n\u001b[1;32m     57\u001b[0m         raise ValueError(\"Input contains NaN, infinity\"\n\u001b[0;32m---> 58\u001b[0;31m                          \" or a value too large for %r.\" % X.dtype)\n\u001b[0m\u001b[1;32m     59\u001b[0m \u001b[0;34m\u001b[0m\u001b[0m\n\u001b[1;32m     60\u001b[0m \u001b[0;34m\u001b[0m\u001b[0m\n",
      "\u001b[0;31mValueError\u001b[0m: Input contains NaN, infinity or a value too large for dtype('float64')."
     ]
    }
   ],
   "source": [
    "logit = LogisticRegression(penalty='l2')\n",
    "logit.fit(X_test,y_test)\n",
    "#ypred = logit.predict(X_test)"
   ]
  },
  {
   "cell_type": "code",
   "execution_count": null,
   "metadata": {
    "collapsed": true
   },
   "outputs": [],
   "source": [
    "print classification_report(ypred,y_test)\n",
    "print confusion_matrix(ypred, y_test)"
   ]
  },
  {
   "cell_type": "code",
   "execution_count": null,
   "metadata": {
    "collapsed": true
   },
   "outputs": [],
   "source": [
    "import matplotlib.pyplot as plt\n",
    "logit.coef_"
   ]
  },
  {
   "cell_type": "code",
   "execution_count": null,
   "metadata": {
    "collapsed": true
   },
   "outputs": [],
   "source": [
    "from sklearn.ensemble import RandomForestClassifier\n",
    "from sklearn.model_selection import cross_val_score"
   ]
  },
  {
   "cell_type": "code",
   "execution_count": null,
   "metadata": {
    "collapsed": true
   },
   "outputs": [],
   "source": [
    "rf = RandomForestClassifier(n_estimators= 200,  n_jobs = -1,random_state =50, max_features = \"auto\")\n",
    "scores_rf = cross_val_score(rf, X, y, cv=25, n_jobs=-1)\n",
    "scores_rf"
   ]
  },
  {
   "cell_type": "code",
   "execution_count": null,
   "metadata": {
    "collapsed": true
   },
   "outputs": [],
   "source": [
    "scores_rf.mean()"
   ]
  },
  {
   "cell_type": "code",
   "execution_count": null,
   "metadata": {
    "collapsed": true
   },
   "outputs": [],
   "source": [
    "# Best params alredy selected. Do not  Run Unless Necessary\n",
    "#from sklearn.model_selection import GridSearchCV\n"
   ]
  },
  {
   "cell_type": "code",
   "execution_count": null,
   "metadata": {
    "collapsed": true
   },
   "outputs": [],
   "source": [
    "params = dict(n_estimators = [200,1000, 2000],\n",
    "             max_depth = [None, 4, 8, 16, 32],\n",
    "             min_samples_split = [2,4,8,12]\n",
    "            )\n",
    "rf1 = RandomForestClassifier(n_jobs=-1, max_features='auto', random_state=69)"
   ]
  },
  {
   "cell_type": "code",
   "execution_count": null,
   "metadata": {
    "collapsed": true
   },
   "outputs": [],
   "source": [
    "#gs = GridSearchCV(rf1, params, scoring='precision')"
   ]
  },
  {
   "cell_type": "code",
   "execution_count": null,
   "metadata": {
    "collapsed": true
   },
   "outputs": [],
   "source": [
    "gs.fit(X_train, y_train)"
   ]
  },
  {
   "cell_type": "code",
   "execution_count": null,
   "metadata": {
    "collapsed": true
   },
   "outputs": [],
   "source": [
    "gs.best_score_"
   ]
  },
  {
   "cell_type": "code",
   "execution_count": null,
   "metadata": {
    "collapsed": true
   },
   "outputs": [],
   "source": [
    "gs.best_params_"
   ]
  },
  {
   "cell_type": "code",
   "execution_count": null,
   "metadata": {
    "collapsed": true
   },
   "outputs": [],
   "source": [
    "start = time()\n",
    "rfc = RandomForestClassifier(max_depth= None, min_samples_split= 2, n_estimators= 2000, n_jobs=-1)\n",
    "\n",
    "cv_rfc = cross_validation(rfc, \n",
    "                          X_train, \n",
    "                          y_train , \n",
    "                          n_splits=10,\n",
    "                          init_chunk_size = 10000, \n",
    "                          chunk_spacings = 10000, \n",
    "                          average = \"binary\")\n",
    "\n",
    "cv_rfc.validate_for_holdout_set(X_test, y_test)\n",
    "cv_rfc.plot_learning_curve()\n",
    "end = time()\n",
    "total_time = end - start"
   ]
  },
  {
   "cell_type": "code",
   "execution_count": null,
   "metadata": {
    "collapsed": true
   },
   "outputs": [],
   "source": [
    "total_time"
   ]
  },
  {
   "cell_type": "code",
   "execution_count": null,
   "metadata": {
    "collapsed": true
   },
   "outputs": [],
   "source": [
    "cv_rfc.plot_learning_curve()"
   ]
  },
  {
   "cell_type": "code",
   "execution_count": null,
   "metadata": {
    "collapsed": true
   },
   "outputs": [],
   "source": [
    "start = time()\n",
    "\n",
    "lr = LogisticRegression(penalty='l2')\n",
    "cvlog = cross_validation(lr, \n",
    "                      X_train.values, \n",
    "                      y_train.values,\n",
    "                      n_splits=10,\n",
    "                      init_chunk_size = 10000, \n",
    "                      chunk_spacings = 10000, \n",
    "                      average = \"binary\")\n",
    "\n",
    "cvlog.train_for_learning_curve()\n",
    "cvlog.plot_learning_curve()\n",
    "end = time()\n",
    "total_time_log = end - start"
   ]
  },
  {
   "cell_type": "code",
   "execution_count": null,
   "metadata": {
    "collapsed": true
   },
   "outputs": [],
   "source": [
    "total_time_log"
   ]
  },
  {
   "cell_type": "code",
   "execution_count": null,
   "metadata": {
    "collapsed": true
   },
   "outputs": [],
   "source": [
    "from sklearn.cluster import KMeans"
   ]
  },
  {
   "cell_type": "code",
   "execution_count": null,
   "metadata": {
    "collapsed": true
   },
   "outputs": [],
   "source": [
    "kmean = KMeans()"
   ]
  },
  {
   "cell_type": "code",
   "execution_count": null,
   "metadata": {
    "collapsed": true
   },
   "outputs": [],
   "source": [
    "kmean.fit(X)"
   ]
  },
  {
   "cell_type": "code",
   "execution_count": null,
   "metadata": {
    "collapsed": true
   },
   "outputs": [],
   "source": [
    "kmean.transform(X)"
   ]
  },
  {
   "cell_type": "code",
   "execution_count": null,
   "metadata": {
    "collapsed": true
   },
   "outputs": [],
   "source": [
    "clusters = kmean.predict(X)"
   ]
  },
  {
   "cell_type": "code",
   "execution_count": null,
   "metadata": {
    "collapsed": true
   },
   "outputs": [],
   "source": [
    "plt.hist(clusters, bins=8)"
   ]
  },
  {
   "cell_type": "code",
   "execution_count": null,
   "metadata": {
    "collapsed": true
   },
   "outputs": [],
   "source": []
  },
  {
   "cell_type": "code",
   "execution_count": null,
   "metadata": {
    "collapsed": true
   },
   "outputs": [],
   "source": []
  },
  {
   "cell_type": "code",
   "execution_count": null,
   "metadata": {
    "collapsed": true
   },
   "outputs": [],
   "source": []
  },
  {
   "cell_type": "code",
   "execution_count": null,
   "metadata": {
    "collapsed": true
   },
   "outputs": [],
   "source": []
  },
  {
   "cell_type": "code",
   "execution_count": null,
   "metadata": {
    "collapsed": true
   },
   "outputs": [],
   "source": []
  },
  {
   "cell_type": "code",
   "execution_count": null,
   "metadata": {
    "collapsed": true
   },
   "outputs": [],
   "source": []
  },
  {
   "cell_type": "code",
   "execution_count": null,
   "metadata": {
    "collapsed": true
   },
   "outputs": [],
   "source": []
  },
  {
   "cell_type": "code",
   "execution_count": null,
   "metadata": {
    "collapsed": true
   },
   "outputs": [],
   "source": []
  },
  {
   "cell_type": "code",
   "execution_count": null,
   "metadata": {
    "collapsed": true
   },
   "outputs": [],
   "source": []
  },
  {
   "cell_type": "code",
   "execution_count": null,
   "metadata": {
    "collapsed": true
   },
   "outputs": [],
   "source": []
  },
  {
   "cell_type": "code",
   "execution_count": null,
   "metadata": {
    "collapsed": true
   },
   "outputs": [],
   "source": []
  },
  {
   "cell_type": "code",
   "execution_count": null,
   "metadata": {
    "collapsed": true
   },
   "outputs": [],
   "source": []
  },
  {
   "cell_type": "code",
   "execution_count": null,
   "metadata": {
    "collapsed": true
   },
   "outputs": [],
   "source": []
  }
 ],
 "metadata": {
  "kernelspec": {
   "display_name": "Python [default]",
   "language": "python",
   "name": "python2"
  },
  "language_info": {
   "codemirror_mode": {
    "name": "ipython",
    "version": 2
   },
   "file_extension": ".py",
   "mimetype": "text/x-python",
   "name": "python",
   "nbconvert_exporter": "python",
   "pygments_lexer": "ipython2",
   "version": "2.7.12"
  }
 },
 "nbformat": 4,
 "nbformat_minor": 1
}
